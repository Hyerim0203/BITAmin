{
 "cells": [
  {
   "cell_type": "code",
   "execution_count": 3,
   "metadata": {},
   "outputs": [
    {
     "data": {
      "text/html": [
       "<div>\n",
       "<style scoped>\n",
       "    .dataframe tbody tr th:only-of-type {\n",
       "        vertical-align: middle;\n",
       "    }\n",
       "\n",
       "    .dataframe tbody tr th {\n",
       "        vertical-align: top;\n",
       "    }\n",
       "\n",
       "    .dataframe thead th {\n",
       "        text-align: right;\n",
       "    }\n",
       "</style>\n",
       "<table border=\"1\" class=\"dataframe\">\n",
       "  <thead>\n",
       "    <tr style=\"text-align: right;\">\n",
       "      <th></th>\n",
       "      <th>survived</th>\n",
       "      <th>pclass</th>\n",
       "      <th>sex</th>\n",
       "      <th>age</th>\n",
       "      <th>sibsp</th>\n",
       "      <th>parch</th>\n",
       "      <th>fare</th>\n",
       "      <th>embarked</th>\n",
       "      <th>class</th>\n",
       "      <th>who</th>\n",
       "      <th>adult_male</th>\n",
       "      <th>deck</th>\n",
       "      <th>embark_town</th>\n",
       "      <th>alive</th>\n",
       "      <th>alone</th>\n",
       "    </tr>\n",
       "  </thead>\n",
       "  <tbody>\n",
       "    <tr>\n",
       "      <th>0</th>\n",
       "      <td>0</td>\n",
       "      <td>3</td>\n",
       "      <td>male</td>\n",
       "      <td>22.0</td>\n",
       "      <td>1</td>\n",
       "      <td>0</td>\n",
       "      <td>7.2500</td>\n",
       "      <td>S</td>\n",
       "      <td>Third</td>\n",
       "      <td>man</td>\n",
       "      <td>True</td>\n",
       "      <td>NaN</td>\n",
       "      <td>Southampton</td>\n",
       "      <td>no</td>\n",
       "      <td>False</td>\n",
       "    </tr>\n",
       "    <tr>\n",
       "      <th>1</th>\n",
       "      <td>1</td>\n",
       "      <td>1</td>\n",
       "      <td>female</td>\n",
       "      <td>38.0</td>\n",
       "      <td>1</td>\n",
       "      <td>0</td>\n",
       "      <td>71.2833</td>\n",
       "      <td>C</td>\n",
       "      <td>First</td>\n",
       "      <td>woman</td>\n",
       "      <td>False</td>\n",
       "      <td>C</td>\n",
       "      <td>Cherbourg</td>\n",
       "      <td>yes</td>\n",
       "      <td>False</td>\n",
       "    </tr>\n",
       "    <tr>\n",
       "      <th>2</th>\n",
       "      <td>1</td>\n",
       "      <td>3</td>\n",
       "      <td>female</td>\n",
       "      <td>26.0</td>\n",
       "      <td>0</td>\n",
       "      <td>0</td>\n",
       "      <td>7.9250</td>\n",
       "      <td>S</td>\n",
       "      <td>Third</td>\n",
       "      <td>woman</td>\n",
       "      <td>False</td>\n",
       "      <td>NaN</td>\n",
       "      <td>Southampton</td>\n",
       "      <td>yes</td>\n",
       "      <td>True</td>\n",
       "    </tr>\n",
       "    <tr>\n",
       "      <th>3</th>\n",
       "      <td>1</td>\n",
       "      <td>1</td>\n",
       "      <td>female</td>\n",
       "      <td>35.0</td>\n",
       "      <td>1</td>\n",
       "      <td>0</td>\n",
       "      <td>53.1000</td>\n",
       "      <td>S</td>\n",
       "      <td>First</td>\n",
       "      <td>woman</td>\n",
       "      <td>False</td>\n",
       "      <td>C</td>\n",
       "      <td>Southampton</td>\n",
       "      <td>yes</td>\n",
       "      <td>False</td>\n",
       "    </tr>\n",
       "    <tr>\n",
       "      <th>4</th>\n",
       "      <td>0</td>\n",
       "      <td>3</td>\n",
       "      <td>male</td>\n",
       "      <td>35.0</td>\n",
       "      <td>0</td>\n",
       "      <td>0</td>\n",
       "      <td>8.0500</td>\n",
       "      <td>S</td>\n",
       "      <td>Third</td>\n",
       "      <td>man</td>\n",
       "      <td>True</td>\n",
       "      <td>NaN</td>\n",
       "      <td>Southampton</td>\n",
       "      <td>no</td>\n",
       "      <td>True</td>\n",
       "    </tr>\n",
       "  </tbody>\n",
       "</table>\n",
       "</div>"
      ],
      "text/plain": [
       "   survived  pclass     sex   age  sibsp  parch     fare embarked  class  \\\n",
       "0         0       3    male  22.0      1      0   7.2500        S  Third   \n",
       "1         1       1  female  38.0      1      0  71.2833        C  First   \n",
       "2         1       3  female  26.0      0      0   7.9250        S  Third   \n",
       "3         1       1  female  35.0      1      0  53.1000        S  First   \n",
       "4         0       3    male  35.0      0      0   8.0500        S  Third   \n",
       "\n",
       "     who  adult_male deck  embark_town alive  alone  \n",
       "0    man        True  NaN  Southampton    no  False  \n",
       "1  woman       False    C    Cherbourg   yes  False  \n",
       "2  woman       False  NaN  Southampton   yes   True  \n",
       "3  woman       False    C  Southampton   yes  False  \n",
       "4    man        True  NaN  Southampton    no   True  "
      ]
     },
     "metadata": {},
     "output_type": "display_data"
    },
    {
     "name": "stdout",
     "output_type": "stream",
     "text": [
      "<class 'pandas.core.frame.DataFrame'>\n",
      "RangeIndex: 891 entries, 0 to 890\n",
      "Data columns (total 15 columns):\n",
      " #   Column       Non-Null Count  Dtype   \n",
      "---  ------       --------------  -----   \n",
      " 0   survived     891 non-null    int64   \n",
      " 1   pclass       891 non-null    int64   \n",
      " 2   sex          891 non-null    object  \n",
      " 3   age          714 non-null    float64 \n",
      " 4   sibsp        891 non-null    int64   \n",
      " 5   parch        891 non-null    int64   \n",
      " 6   fare         891 non-null    float64 \n",
      " 7   embarked     889 non-null    object  \n",
      " 8   class        891 non-null    category\n",
      " 9   who          891 non-null    object  \n",
      " 10  adult_male   891 non-null    bool    \n",
      " 11  deck         203 non-null    category\n",
      " 12  embark_town  889 non-null    object  \n",
      " 13  alive        891 non-null    object  \n",
      " 14  alone        891 non-null    bool    \n",
      "dtypes: bool(2), category(2), float64(2), int64(4), object(5)\n",
      "memory usage: 80.6+ KB\n",
      "None\n"
     ]
    }
   ],
   "source": [
    "import seaborn as sns\n",
    "\n",
    "#titanic 데이터셋 가져오기\n",
    "df=sns.load_dataset(\"titanic\")\n",
    "display(df.head())\n",
    "print(df.info())"
   ]
  },
  {
   "cell_type": "markdown",
   "metadata": {},
   "source": [
    "## 누락 데이터 확인"
   ]
  },
  {
   "cell_type": "code",
   "execution_count": 24,
   "metadata": {},
   "outputs": [
    {
     "name": "stdout",
     "output_type": "stream",
     "text": [
      "NaN    688\n",
      "C       59\n",
      "B       47\n",
      "D       33\n",
      "E       32\n",
      "A       15\n",
      "F       13\n",
      "G        4\n",
      "Name: deck, dtype: int64\n",
      "C    59\n",
      "B    47\n",
      "D    33\n",
      "E    32\n",
      "A    15\n",
      "F    13\n",
      "G     4\n",
      "Name: deck, dtype: int64\n",
      "203\n",
      "   survived  pclass    sex    age  sibsp  parch   fare  embarked  class  \\\n",
      "0     False   False  False  False  False  False  False     False  False   \n",
      "1     False   False  False  False  False  False  False     False  False   \n",
      "2     False   False  False  False  False  False  False     False  False   \n",
      "3     False   False  False  False  False  False  False     False  False   \n",
      "4     False   False  False  False  False  False  False     False  False   \n",
      "\n",
      "     who  adult_male   deck  embark_town  alive  alone  \n",
      "0  False       False   True        False  False  False  \n",
      "1  False       False  False        False  False  False  \n",
      "2  False       False   True        False  False  False  \n",
      "3  False       False  False        False  False  False  \n",
      "4  False       False   True        False  False  False  \n",
      "   survived  pclass   sex   age  sibsp  parch  fare  embarked  class   who  \\\n",
      "0      True    True  True  True   True   True  True      True   True  True   \n",
      "1      True    True  True  True   True   True  True      True   True  True   \n",
      "2      True    True  True  True   True   True  True      True   True  True   \n",
      "3      True    True  True  True   True   True  True      True   True  True   \n",
      "4      True    True  True  True   True   True  True      True   True  True   \n",
      "\n",
      "   adult_male   deck  embark_town  alive  alone  \n",
      "0        True  False         True   True   True  \n",
      "1        True   True         True   True   True  \n",
      "2        True  False         True   True   True  \n",
      "3        True   True         True   True   True  \n",
      "4        True  False         True   True   True  \n",
      "survived       0\n",
      "pclass         0\n",
      "sex            0\n",
      "age            0\n",
      "sibsp          0\n",
      "parch          0\n",
      "fare           0\n",
      "embarked       0\n",
      "class          0\n",
      "who            0\n",
      "adult_male     0\n",
      "deck           3\n",
      "embark_town    0\n",
      "alive          0\n",
      "alone          0\n",
      "dtype: int64\n"
     ]
    }
   ],
   "source": [
    "print(df[\"deck\"].value_counts(dropna=False)) # dropna를 기입하지 않으면 nan 개수를 반환하지 않음\n",
    "print(df[\"deck\"].value_counts())\n",
    "print(df[\"deck\"].count()) # 그냥 count 는 열별로 세줌(nan 제외)\n",
    "print(df.head().isnull()) #누락 데이터면 True, 유효한 데이터면 False 반환\n",
    "print(df.head().notnull()) #유효한 데이터면 False, 누락 데이터면 FAlse 반환\n",
    "print(df.head().isnull().sum(axis=0)) # axis=0을 해주어야 열별 공백값 반환"
   ]
  },
  {
   "cell_type": "code",
   "execution_count": 26,
   "metadata": {},
   "outputs": [
    {
     "data": {
      "text/plain": [
       "RangeIndex(start=0, stop=891, step=1)"
      ]
     },
     "execution_count": 26,
     "metadata": {},
     "output_type": "execute_result"
    }
   ],
   "source": [
    "df.index"
   ]
  },
  {
   "cell_type": "markdown",
   "metadata": {},
   "source": [
    "## 누락 데이터 제거"
   ]
  },
  {
   "cell_type": "markdown",
   "metadata": {},
   "source": [
    "### for 문 이용"
   ]
  },
  {
   "cell_type": "code",
   "execution_count": 40,
   "metadata": {},
   "outputs": [
    {
     "name": "stdout",
     "output_type": "stream",
     "text": [
      "survived : 0\n",
      "pclass : 0\n",
      "sex : 0\n",
      "age : 177\n",
      "sibsp : 0\n",
      "parch : 0\n",
      "fare : 0\n",
      "embarked : 2\n",
      "class : 0\n",
      "who : 0\n",
      "adult_male : 0\n",
      "deck : 688\n",
      "embark_town : 2\n",
      "alive : 0\n",
      "alone : 0\n"
     ]
    }
   ],
   "source": [
    "#for 문 이용\n",
    "missing_df = df.isnull()\n",
    "for col in missing_df.columns:\n",
    "    missing_count = missing_df[col].value_counts() # False의 값을 반환\n",
    "    try:\n",
    "        print(col,\":\",missing_count[True]) # True 행이 있으면 반환, 즉 null 값이 있으면 그 개수 반환\n",
    "    except:\n",
    "        print(col,\":\",0)"
   ]
  },
  {
   "cell_type": "markdown",
   "metadata": {},
   "source": [
    "### dropna 이용"
   ]
  },
  {
   "cell_type": "code",
   "execution_count": 74,
   "metadata": {},
   "outputs": [
    {
     "name": "stdout",
     "output_type": "stream",
     "text": [
      "14\n",
      "15\n",
      "(891, 11)\n",
      "(891, 15)\n",
      "(184, 15)\n",
      "(733, 15)\n"
     ]
    }
   ],
   "source": [
    "# Nan 값이 500 개 이상인 열을 모두 삭제\n",
    "df_thresh = df.dropna(axis=1) #누락값이 존재하는 칼럼 제거\n",
    "df_thresh = df.dropna(axis=1, thresh=500) #유효값이 500개 이상인 칼럼 제거\n",
    "print(len(df_thresh.columns))\n",
    "print(len(df.columns))\n",
    "\n",
    "# age 열에 나이 데이터가 없는 모든 행 삭제\n",
    "df_age = df.dropna(how=\"all\", axis=0) # 모든 값이 NaN인 인덱스 삭제\n",
    "df_age = df.dropna(how=\"any\", axis=1) # 하나라도 NaN이 있는 칼럼 삭제\n",
    "print(df_age.shape)\n",
    "df_age = df.dropna(how=\"all\", axis=1) # 모든 값이 NaN 인 칼럼 삭제\n",
    "print(df_age.shape)\n",
    "df_age = df.dropna(subset=[\"age\",\"deck\"], axis=0, how=\"any\") # age,deck 칼럼 값 중에 NaN 이 하나라도 존재하는 index 삭제\n",
    "print(df_age.shape)\n",
    "df_age = df.dropna(subset=[\"age\",\"deck\"], axis=0, how=\"all\") # age,deck 칼럼 값이 모두 NaN 인 index 삭제\n",
    "print(df_age.shape)"
   ]
  },
  {
   "cell_type": "markdown",
   "metadata": {},
   "source": [
    "## 누락 데이터 치환"
   ]
  },
  {
   "cell_type": "code",
   "execution_count": 75,
   "metadata": {
    "scrolled": true
   },
   "outputs": [],
   "source": [
    "mean_age = df[\"age\"].mean(axis=0)\n",
    "df[\"age\"].fillna(mean_age, inplace=True)"
   ]
  },
  {
   "cell_type": "code",
   "execution_count": 85,
   "metadata": {},
   "outputs": [
    {
     "name": "stdout",
     "output_type": "stream",
     "text": [
      "825     Queenstown\n",
      "826    Southampton\n",
      "827      Cherbourg\n",
      "828     Queenstown\n",
      "829            NaN\n",
      "Name: embark_town, dtype: object\n",
      "Southampton \n",
      "\n",
      "825     Queenstown\n",
      "826    Southampton\n",
      "827      Cherbourg\n",
      "828     Queenstown\n",
      "829    Southampton\n",
      "Name: embark_town, dtype: object\n"
     ]
    }
   ],
   "source": [
    "print(df[\"embark_town\"][825:830])\n",
    "most_freq = df[\"embark_town\"].value_counts().idxmax() # 가장 value 값이 큰 index 반환\n",
    "print(most_freq,\"\\n\")\n",
    "\n",
    "df[\"embark_town\"].fillna(most_freq, inplace=True)\n",
    "print(df[\"embark_town\"][825:830])\n",
    "\n",
    "print(df[\"deck\"].fillna(method=\"bfill\")) # NaN 이 있는 행의 다음 행에 있는 값으로 바꿔줌\n",
    "print(df[\"deck\"].fillna(method=\"ffill\")) # NaN 이 있는 행의 직전 행에 있는 값으로 바꿔줌"
   ]
  },
  {
   "cell_type": "markdown",
   "metadata": {},
   "source": [
    "# 중복 데이터"
   ]
  },
  {
   "cell_type": "code",
   "execution_count": 101,
   "metadata": {},
   "outputs": [
    {
     "name": "stdout",
     "output_type": "stream",
     "text": [
      "  c1  c2  c3\n",
      "0  a   1   1\n",
      "1  a   1   1\n",
      "2  b   1   2\n",
      "3  a   3   3\n",
      "4  b   1   1\n",
      "0    False\n",
      "1     True\n",
      "2    False\n",
      "3    False\n",
      "4    False\n",
      "dtype: bool\n",
      "0    False\n",
      "1     True\n",
      "2    False\n",
      "3    False\n",
      "4     True\n",
      "Name: c3, dtype: bool\n",
      "0    False\n",
      "1     True\n",
      "2     True\n",
      "3    False\n",
      "4     True\n",
      "Name: c2, dtype: bool\n",
      "0     True\n",
      "1     True\n",
      "2     True\n",
      "3    False\n",
      "4    False\n",
      "Name: c2, dtype: bool\n",
      "0     True\n",
      "1     True\n",
      "2     True\n",
      "3    False\n",
      "4     True\n",
      "Name: c2, dtype: bool\n",
      "  c1  c2  c3\n",
      "0  a   1   1\n",
      "2  b   1   2\n",
      "3  a   3   3\n",
      "4  b   1   1\n",
      "  c1  c2  c3\n",
      "0  a   1   1\n",
      "3  a   3   3\n",
      "  c1  c2  c3\n",
      "0  a   1   1\n",
      "2  b   1   2\n",
      "3  a   3   3\n"
     ]
    }
   ],
   "source": [
    "import pandas as pd\n",
    "import numpy as np\n",
    "df = pd.DataFrame({\"c1\":\"a a b a b\".split(), \"c2\":[1,1,1,3,1], \"c3\":[1,1,2,3,1]})\n",
    "print(df)\n",
    "print(df.duplicated()) # 처음 나오는 값은 False\n",
    "print(df[\"c3\"].duplicated())\n",
    "print(df[\"c2\"].duplicated(keep=\"first\")) # 처음 나오는 값을 False 로 반환\n",
    "print(df[\"c2\"].duplicated(keep=\"last\")) # 마지막에 나오는 값을 False로 반환\n",
    "print(df[\"c2\"].duplicated(keep=False)) # 중복값이면 무조건 True 반환\n",
    "\n",
    "\n",
    "print(df.drop_duplicates()) # inplace = False 가 기준값\n",
    "print(df.drop_duplicates(subset=[\"c2\"])) # c2 열을 기준으로 중복된 행을 제거\n",
    "print(df.drop_duplicates(subset=[\"c2\",\"c3\"])) # c2와 c3 열을 기준으로 두 개의 열 모두 중복값일 때 제거"
   ]
  },
  {
   "cell_type": "markdown",
   "metadata": {},
   "source": [
    "# 데이터 표준화"
   ]
  },
  {
   "cell_type": "code",
   "execution_count": 103,
   "metadata": {},
   "outputs": [
    {
     "name": "stdout",
     "output_type": "stream",
     "text": [
      "    mpg  cylinders  displacement horsepower  weight  acceleration  model year  \\\n",
      "0  18.0          8         307.0        130    3504          12.0          70   \n",
      "1  15.0          8         350.0        165    3693          11.5          70   \n",
      "2  18.0          8         318.0        150    3436          11.0          70   \n",
      "\n",
      "   origin                    carname  \n",
      "0       1  chevrolet chevelle malibu  \n",
      "1       1          buick skylark 320  \n",
      "2       1         plymouth satellite  \n",
      "    mpg  cylinders  displacement horsepower  weight  acceleration  model year  \\\n",
      "0  18.0          8         307.0        130    3504          12.0          70   \n",
      "1  15.0          8         350.0        165    3693          11.5          70   \n",
      "2  18.0          8         318.0        150    3436          11.0          70   \n",
      "\n",
      "   origin                    carname       kpl  \n",
      "0       1  chevrolet chevelle malibu  7.652571  \n",
      "1       1          buick skylark 320  6.377143  \n",
      "2       1         plymouth satellite  7.652571  \n",
      "0    7.65\n",
      "1    6.38\n",
      "2    7.65\n",
      "Name: kpl, dtype: float64\n"
     ]
    }
   ],
   "source": [
    "df = pd.read_csv(\"./auto-mpg.csv\")\n",
    "print(df.head(3))\n",
    "\n",
    "mpg_to_kpl = 1.60934/3.78541\n",
    "df[\"kpl\"] = df[\"mpg\"] * mpg_to_kpl\n",
    "print(df.head(3))\n",
    "\n",
    "df[\"kpl\"]=df[\"kpl\"].round(2) # 소숫점 둘째자리까지 나타냄. 셋째자리에서 반올림\n",
    "print(df.kpl.head(3))"
   ]
  },
  {
   "cell_type": "code",
   "execution_count": 115,
   "metadata": {},
   "outputs": [
    {
     "name": "stdout",
     "output_type": "stream",
     "text": [
      "float64\n",
      "[130. 165. 150. 140. 198. 220. 215. 225. 190. 170. 160.  95.  97.  85.\n",
      "  88.  46.  87.  90. 113. 200. 210. 193. 100. 105. 175. 153. 180. 110.\n",
      "  72.  86.  70.  76.  65.  69.  60.  80.  54. 208. 155. 112.  92. 145.\n",
      " 137. 158. 167.  94. 107. 230.  49.  75.  91. 122.  67.  83.  78.  52.\n",
      "  61.  93. 148. 129.  96.  71.  98. 115.  53.  81.  79. 120. 152. 102.\n",
      " 108.  68.  58. 149.  89.  63.  48.  66. 139. 103. 125. 133. 138. 135.\n",
      " 142.  77.  62. 132.  84.  64.  74. 116.  82.]\n",
      "float64\n",
      "<StringArray>\n",
      "['USA', 'JAP', 'EU']\n",
      "Length: 3, dtype: string\n",
      "string\n",
      "<StringArray>\n",
      "['USA', 'JAP', 'EU']\n",
      "Length: 3, dtype: string\n",
      "string\n",
      "category\n",
      "object\n"
     ]
    }
   ],
   "source": [
    "print(df[\"horsepower\"].dtype)\n",
    "\n",
    "# \"?\" 인자 제거\n",
    "print(df[\"horsepower\"].unique()) # df[\"horsepower\"] 의 고유값 확인\n",
    "df[\"horsepower\"].replace(\"?\",np.nan,inplace=True)\n",
    "df.dropna(subset=[\"horsepower\"], axis=0, inplace=True)\n",
    "\n",
    "# 문자열을 astype을 이용해서 실수형으로 변환\n",
    "df[\"horsepower\"] = df[\"horsepower\"].astype(\"float\")\n",
    "print(df[\"horsepower\"].dtype)\n",
    "\n",
    "# 정수형을 문자열로 저장\n",
    "print(df[\"origin\"].unique())\n",
    "print(df[\"origin\"].dtypes)\n",
    "\n",
    "df[\"origin\"].replace({1:\"USA\",2:\"EU\",3:\"JAP\"}, inplace=True)\n",
    "print(df[\"origin\"].unique())\n",
    "print(df[\"origin\"].dtypes)\n",
    "\n",
    "#문자열을 범주형으로 변환\n",
    "df[\"origin\"]=df[\"origin\"].astype(\"category\")\n",
    "print(df[\"origin\"].dtypes)\n",
    "df[\"origin\"]=df[\"origin\"].astype(\"str\")\n",
    "print(df[\"origin\"].dtypes)"
   ]
  },
  {
   "cell_type": "markdown",
   "metadata": {},
   "source": [
    "## 구간 분할"
   ]
  },
  {
   "cell_type": "markdown",
   "metadata": {},
   "source": [
    "### np.histogram(), pd.cut()"
   ]
  },
  {
   "cell_type": "code",
   "execution_count": 126,
   "metadata": {
    "scrolled": true
   },
   "outputs": [
    {
     "name": "stdout",
     "output_type": "stream",
     "text": [
      "0    130.0\n",
      "1    165.0\n",
      "2    150.0\n",
      "3    150.0\n",
      "4    140.0\n",
      "5    198.0\n",
      "6    220.0\n",
      "7    215.0\n",
      "8    225.0\n",
      "9    190.0\n",
      "Name: horsepower, dtype: float64\n",
      "[3 3 3]\n",
      "[1.         3.66666667 6.33333333 9.        ]\n",
      "[257 103  32]\n",
      "\n",
      "\n",
      "[ 46.         107.33333333 168.66666667 230.        ]\n",
      "     horsepower hp_bin\n",
      "0         130.0   보통출력\n",
      "1         165.0   보통출력\n",
      "2         150.0   보통출력\n",
      "3         150.0   보통출력\n",
      "4         140.0   보통출력\n",
      "..          ...    ...\n",
      "393        86.0    저출력\n",
      "394        52.0    저출력\n",
      "395        84.0    저출력\n",
      "396        79.0    저출력\n",
      "397        82.0    저출력\n",
      "\n",
      "[392 rows x 2 columns]\n"
     ]
    }
   ],
   "source": [
    "df = pd.read_csv(\"./auto-mpg.csv\")\n",
    "df[\"horsepower\"].replace({\"?\":np.nan},inplace=True)\n",
    "df.dropna(subset=[\"horsepower\"],axis=0, inplace=True)\n",
    "df[\"horsepower\"]=df[\"horsepower\"].astype(\"float\")\n",
    "\n",
    "print(df[\"horsepower\"].head(10))\n",
    "\n",
    "count, bin_dividers = np.histogram(np.arange(1,10),bins=3) # bins=3 을 통해 3개의 구간 설정\n",
    "print(count) # 하나의 구간에 들어가는 개수\n",
    "print(bin_dividers) # 경계값, 3개의 구간으로 나누기 때문에 경계값 4개\n",
    "\n",
    "count, bin_dividers = np.histogram(df[\"horsepower\"],bins=3)\n",
    "print(count)\n",
    "print(\"\\n\")\n",
    "print(bin_dividers)\n",
    "\n",
    "# 나이\n",
    "ages = [2,10,21,23,32,41,50,61]\n",
    "\n",
    "bin_points = [2,20,30,50,70] # 경계값\n",
    "bin_names = [\"미성년자\",\"청년\",\"중년\",\"노년\"]\n",
    "\n",
    "pd.cut(ages, bins=bin_points, labels=bin_names, include_lowest=True) # 첫 경계값 포함은 앞의 구간에 <= 인 것.\n",
    "\n",
    "#3개의 구간에 이름 지정\n",
    "bin_names=[\"저출력\",\"보통출력\",\"고출력\"]\n",
    "df[\"hp_bin\"]=pd.cut(df[\"horsepower\"],bins=bin_dividers,labels=bin_names,include_lowest=True)\n",
    "print(df[[\"horsepower\",\"hp_bin\"]]) # bins에서 바로 3을 입력해도 가능"
   ]
  },
  {
   "cell_type": "markdown",
   "metadata": {},
   "source": [
    "## 더미 변수\n",
    "- pd.get_dummies()\n",
    "- sklearn\n",
    "    1. 원핫벡터로 변환 -> preprocessing.LabelEncoder()\n",
    "    1. 희소행렬 -> preprocessing.OneHotEncoder()\n",
    "    1. numpy 배열로 바꿔줌"
   ]
  },
  {
   "cell_type": "code",
   "execution_count": 128,
   "metadata": {},
   "outputs": [
    {
     "data": {
      "text/html": [
       "<div>\n",
       "<style scoped>\n",
       "    .dataframe tbody tr th:only-of-type {\n",
       "        vertical-align: middle;\n",
       "    }\n",
       "\n",
       "    .dataframe tbody tr th {\n",
       "        vertical-align: top;\n",
       "    }\n",
       "\n",
       "    .dataframe thead th {\n",
       "        text-align: right;\n",
       "    }\n",
       "</style>\n",
       "<table border=\"1\" class=\"dataframe\">\n",
       "  <thead>\n",
       "    <tr style=\"text-align: right;\">\n",
       "      <th></th>\n",
       "      <th>저출력</th>\n",
       "      <th>보통출력</th>\n",
       "      <th>고출력</th>\n",
       "    </tr>\n",
       "  </thead>\n",
       "  <tbody>\n",
       "    <tr>\n",
       "      <th>0</th>\n",
       "      <td>0</td>\n",
       "      <td>1</td>\n",
       "      <td>0</td>\n",
       "    </tr>\n",
       "    <tr>\n",
       "      <th>1</th>\n",
       "      <td>0</td>\n",
       "      <td>1</td>\n",
       "      <td>0</td>\n",
       "    </tr>\n",
       "    <tr>\n",
       "      <th>2</th>\n",
       "      <td>0</td>\n",
       "      <td>1</td>\n",
       "      <td>0</td>\n",
       "    </tr>\n",
       "    <tr>\n",
       "      <th>3</th>\n",
       "      <td>0</td>\n",
       "      <td>1</td>\n",
       "      <td>0</td>\n",
       "    </tr>\n",
       "    <tr>\n",
       "      <th>4</th>\n",
       "      <td>0</td>\n",
       "      <td>1</td>\n",
       "      <td>0</td>\n",
       "    </tr>\n",
       "    <tr>\n",
       "      <th>...</th>\n",
       "      <td>...</td>\n",
       "      <td>...</td>\n",
       "      <td>...</td>\n",
       "    </tr>\n",
       "    <tr>\n",
       "      <th>393</th>\n",
       "      <td>1</td>\n",
       "      <td>0</td>\n",
       "      <td>0</td>\n",
       "    </tr>\n",
       "    <tr>\n",
       "      <th>394</th>\n",
       "      <td>1</td>\n",
       "      <td>0</td>\n",
       "      <td>0</td>\n",
       "    </tr>\n",
       "    <tr>\n",
       "      <th>395</th>\n",
       "      <td>1</td>\n",
       "      <td>0</td>\n",
       "      <td>0</td>\n",
       "    </tr>\n",
       "    <tr>\n",
       "      <th>396</th>\n",
       "      <td>1</td>\n",
       "      <td>0</td>\n",
       "      <td>0</td>\n",
       "    </tr>\n",
       "    <tr>\n",
       "      <th>397</th>\n",
       "      <td>1</td>\n",
       "      <td>0</td>\n",
       "      <td>0</td>\n",
       "    </tr>\n",
       "  </tbody>\n",
       "</table>\n",
       "<p>392 rows × 3 columns</p>\n",
       "</div>"
      ],
      "text/plain": [
       "     저출력  보통출력  고출력\n",
       "0      0     1    0\n",
       "1      0     1    0\n",
       "2      0     1    0\n",
       "3      0     1    0\n",
       "4      0     1    0\n",
       "..   ...   ...  ...\n",
       "393    1     0    0\n",
       "394    1     0    0\n",
       "395    1     0    0\n",
       "396    1     0    0\n",
       "397    1     0    0\n",
       "\n",
       "[392 rows x 3 columns]"
      ]
     },
     "execution_count": 128,
     "metadata": {},
     "output_type": "execute_result"
    }
   ],
   "source": [
    "print(pd.get_dummies(df[\"hp_bin\"]))"
   ]
  },
  {
   "cell_type": "code",
   "execution_count": 132,
   "metadata": {},
   "outputs": [
    {
     "name": "stdout",
     "output_type": "stream",
     "text": [
      "[0 1 4 5 3 3 2 2]\n",
      "[[0]\n",
      " [1]\n",
      " [4]\n",
      " [5]\n",
      " [3]\n",
      " [3]\n",
      " [2]\n",
      " [2]]\n",
      "  (0, 0)\t1.0\n",
      "  (1, 1)\t1.0\n",
      "  (2, 4)\t1.0\n",
      "  (3, 5)\t1.0\n",
      "  (4, 3)\t1.0\n",
      "  (5, 3)\t1.0\n",
      "  (6, 2)\t1.0\n",
      "  (7, 2)\t1.0\n",
      "[[1. 0. 0. 0. 0. 0.]\n",
      " [0. 1. 0. 0. 0. 0.]\n",
      " [0. 0. 0. 0. 1. 0.]\n",
      " [0. 0. 0. 0. 0. 1.]\n",
      " [0. 0. 0. 1. 0. 0.]\n",
      " [0. 0. 0. 1. 0. 0.]\n",
      " [0. 0. 1. 0. 0. 0.]\n",
      " [0. 0. 1. 0. 0. 0.]]\n"
     ]
    }
   ],
   "source": [
    "from sklearn import preprocessing\n",
    "items = [\"tv\",\"냉장고\",\"전자렌지\",\"컴퓨터\",\"선풍기\",\"선풍기\",\"믹서\",\"믹서\"]\n",
    "\n",
    "# 전처리를 위한 label_encoder 라는 객체 생성\n",
    "# 해당 객체를 통해서 범주형 데이터를 변형\n",
    "label_encoder = preprocessing.LabelEncoder()\n",
    "\n",
    "onehot_labeled = label_encoder.fit_transform(items)\n",
    "print(onehot_labeled)\n",
    "\n",
    "onehot_reshaped = onehot_labeled.reshape(len(onehot_labeled),1)\n",
    "print(onehot_reshaped)\n",
    "# 희소 행렬로 변환\n",
    "onehot_encoder = preprocessing.OneHotEncoder()\n",
    "onehot_fitted = onehot_encoder.fit_transform(onehot_reshaped)\n",
    "print(onehot_fitted)\n",
    "\n",
    "# numpy 배열로 전환\n",
    "print(onehot_fitted.toarray())"
   ]
  },
  {
   "cell_type": "markdown",
   "metadata": {},
   "source": [
    "# 데이터 정규화\n",
    "-사전단계 : 데이터 표준화 -> 이상치가 있을 경우 표준화를 통해 outlier을 제거\n",
    "1. 각 열의 데이터를 해당 열의 최대값의 절댓값으로 나누는 방법\n",
    "1. 각 열의 데이터 중에서 최대값과 최소값을 뺀 값으로 나누는 방법"
   ]
  },
  {
   "cell_type": "code",
   "execution_count": 134,
   "metadata": {},
   "outputs": [
    {
     "name": "stdout",
     "output_type": "stream",
     "text": [
      "count    392.000000\n",
      "mean     104.469388\n",
      "std       38.491160\n",
      "min       46.000000\n",
      "25%       75.000000\n",
      "50%       93.500000\n",
      "75%      126.000000\n",
      "max      230.000000\n",
      "Name: horsepower, dtype: float64\n",
      "0      0.663285\n",
      "1      1.572585\n",
      "2      1.182885\n",
      "3      1.182885\n",
      "4      0.923085\n",
      "         ...   \n",
      "393   -0.479835\n",
      "394   -1.363154\n",
      "395   -0.531795\n",
      "396   -0.661694\n",
      "397   -0.583754\n",
      "Name: horsepower, Length: 392, dtype: float64\n"
     ]
    }
   ],
   "source": [
    "# 표준화\n",
    "print(df[\"horsepower\"].describe())\n",
    "\n",
    "print((df.horsepower-df.horsepower.mean())/df.horsepower.std())"
   ]
  },
  {
   "cell_type": "code",
   "execution_count": 140,
   "metadata": {},
   "outputs": [
    {
     "name": "stdout",
     "output_type": "stream",
     "text": [
      "0      0.565217\n",
      "1      0.717391\n",
      "2      0.652174\n",
      "3      0.652174\n",
      "4      0.608696\n",
      "         ...   \n",
      "393    0.373913\n",
      "394    0.226087\n",
      "395    0.365217\n",
      "396    0.343478\n",
      "397    0.356522\n",
      "Name: horsepower, Length: 392, dtype: float64\n",
      "count    392.000000\n",
      "mean       0.454215\n",
      "std        0.167353\n",
      "min        0.200000\n",
      "25%        0.326087\n",
      "50%        0.406522\n",
      "75%        0.547826\n",
      "max        1.000000\n",
      "Name: horsepower, dtype: float64\n"
     ]
    }
   ],
   "source": [
    "# 정규화사용법1\n",
    "print(df[\"horsepower\"]/abs(df[\"horsepower\"].max()))\n",
    "print(df[\"horsepower\"].describe())"
   ]
  },
  {
   "cell_type": "code",
   "execution_count": null,
   "metadata": {},
   "outputs": [],
   "source": [
    "# 정규화 사용법2\n",
    "min_x = df.horsepower - df.horsepower.min()\n",
    "min_max = df.horsepower.max()-df.horsepower.min()\n",
    "df.horsepower = min_x/min_max\n",
    "print(df.horsepower.describe())\n"
   ]
  },
  {
   "cell_type": "markdown",
   "metadata": {},
   "source": [
    "# 시계열\n",
    "- 자료형 변환\n",
    "    - 타임스탬프로 변환 -> pd.to_datetime()\n",
    "    - 타임스탬프를 기간으로 변환 - >to_period(freq=\"D\"/\"M\"/\"A\")\n",
    "    \n",
    "- 시계열 데이터 만들기\n",
    "    - 타임스탬프 데이터 : pd.date_range(start,end,periods,freq,tz)\n",
    "    - 기간 데이터 : pd.date_period"
   ]
  },
  {
   "cell_type": "code",
   "execution_count": 154,
   "metadata": {},
   "outputs": [
    {
     "name": "stdout",
     "output_type": "stream",
     "text": [
      "<class 'pandas.core.frame.DataFrame'>\n",
      "RangeIndex: 20 entries, 0 to 19\n",
      "Data columns (total 6 columns):\n",
      " #   Column  Non-Null Count  Dtype \n",
      "---  ------  --------------  ----- \n",
      " 0   Date    20 non-null     object\n",
      " 1   Close   20 non-null     int64 \n",
      " 2   Start   20 non-null     int64 \n",
      " 3   High    20 non-null     int64 \n",
      " 4   Low     20 non-null     int64 \n",
      " 5   Volume  20 non-null     int64 \n",
      "dtypes: int64(5), object(1)\n",
      "memory usage: 1.1+ KB\n",
      "None\n",
      "<class 'pandas.core.frame.DataFrame'>\n",
      "RangeIndex: 20 entries, 0 to 19\n",
      "Data columns (total 7 columns):\n",
      " #   Column    Non-Null Count  Dtype         \n",
      "---  ------    --------------  -----         \n",
      " 0   Date      20 non-null     object        \n",
      " 1   Close     20 non-null     int64         \n",
      " 2   Start     20 non-null     int64         \n",
      " 3   High      20 non-null     int64         \n",
      " 4   Low       20 non-null     int64         \n",
      " 5   Volume    20 non-null     int64         \n",
      " 6   new_Date  20 non-null     datetime64[ns]\n",
      "dtypes: datetime64[ns](1), int64(5), object(1)\n",
      "memory usage: 1.2+ KB\n",
      "None\n",
      "0     2018-07-02\n",
      "1     2018-06-29\n",
      "2     2018-06-28\n",
      "3     2018-06-27\n",
      "4     2018-06-26\n",
      "5     2018-06-25\n",
      "6     2018-06-22\n",
      "7     2018-06-21\n",
      "8     2018-06-20\n",
      "9     2018-06-19\n",
      "10    2018-06-18\n",
      "11    2018-06-15\n",
      "12    2018-06-14\n",
      "13    2018-06-12\n",
      "14    2018-06-11\n",
      "15    2018-06-08\n",
      "16    2018-06-07\n",
      "17    2018-06-05\n",
      "18    2018-06-04\n",
      "19    2018-06-01\n",
      "Name: Date, dtype: object\n",
      "            Close  Start   High    Low  Volume\n",
      "new_Date                                      \n",
      "2018-07-02  10100  10850  10900  10000  137977\n",
      "2018-06-29  10700  10550  10900   9990  170253\n",
      "<class 'pandas.core.frame.DataFrame'>\n",
      "DatetimeIndex: 20 entries, 2018-07-02 to 2018-06-01\n",
      "Data columns (total 5 columns):\n",
      " #   Column  Non-Null Count  Dtype\n",
      "---  ------  --------------  -----\n",
      " 0   Close   20 non-null     int64\n",
      " 1   Start   20 non-null     int64\n",
      " 2   High    20 non-null     int64\n",
      " 3   Low     20 non-null     int64\n",
      " 4   Volume  20 non-null     int64\n",
      "dtypes: int64(5)\n",
      "memory usage: 960.0 bytes\n",
      "None\n"
     ]
    }
   ],
   "source": [
    "import pandas as pd\n",
    "stock=pd.read_csv(\"./stock-data.csv\")\n",
    "print(stock.info())\n",
    "stock[\"new_Date\"]=pd.to_datetime(stock[\"Date\"])\n",
    "print(stock.info())\n",
    "print(\"Date\")\n",
    "#새로운 인덱스 지정\n",
    "stock.set_index(\"new_Date\",inplace=True) # 행을 index로 지정 후, 알아서 원래 행 삭제해줌\n",
    "stock.drop([\"Date\"],inplace=True, axis=1)\n",
    "print(stock.head(2))\n",
    "print(stock.info())"
   ]
  },
  {
   "cell_type": "code",
   "execution_count": 157,
   "metadata": {},
   "outputs": [
    {
     "name": "stdout",
     "output_type": "stream",
     "text": [
      "DatetimeIndex(['2019-01-01', '2020-03-01', '2021-06-01'], dtype='datetime64[ns]', freq=None)\n",
      "PeriodIndex(['2019-01-01', '2020-03-01', '2021-06-01'], dtype='period[D]', freq='D')\n",
      "PeriodIndex(['2019-01', '2020-03', '2021-06'], dtype='period[M]', freq='M')\n",
      "PeriodIndex(['2019', '2020', '2021'], dtype='period[A-DEC]', freq='A-DEC')\n"
     ]
    }
   ],
   "source": [
    "dates = [\"2019-01-01\",\"2020-03-01\",\"2021-06-01\"]\n",
    "\n",
    "ts_dates = pd.to_datetime(dates)\n",
    "print(ts_dates)\n",
    "\n",
    "#Timestamp를 Period로 변환\n",
    "pr_day = ts_dates.to_period(freq=\"D\") #1일 기간\n",
    "print(pr_day)\n",
    "pr_day = ts_dates.to_period(freq=\"M\") #1개월\n",
    "print(pr_day)\n",
    "pr_year = ts_dates.to_period(freq=\"A\") # 1년기간\n",
    "print(pr_year)"
   ]
  },
  {
   "cell_type": "markdown",
   "metadata": {},
   "source": [
    "### 배열 생성"
   ]
  },
  {
   "cell_type": "code",
   "execution_count": 170,
   "metadata": {},
   "outputs": [
    {
     "name": "stdout",
     "output_type": "stream",
     "text": [
      "DatetimeIndex(['2019-01-01 00:00:00+09:00', '2019-02-01 00:00:00+09:00',\n",
      "               '2019-03-01 00:00:00+09:00', '2019-04-01 00:00:00+09:00',\n",
      "               '2019-05-01 00:00:00+09:00', '2019-06-01 00:00:00+09:00'],\n",
      "              dtype='datetime64[ns, Asia/Seoul]', freq='MS')\n",
      "DatetimeIndex(['2019-01-31 00:00:00+09:00', '2019-02-28 00:00:00+09:00',\n",
      "               '2019-03-31 00:00:00+09:00', '2019-04-30 00:00:00+09:00',\n",
      "               '2019-05-31 00:00:00+09:00', '2019-06-30 00:00:00+09:00'],\n",
      "              dtype='datetime64[ns, Asia/Seoul]', freq='M')\n",
      "DatetimeIndex(['2019-01-01 00:00:00+09:00', '2019-04-01 00:00:00+09:00',\n",
      "               '2019-07-01 00:00:00+09:00', '2019-10-01 00:00:00+09:00',\n",
      "               '2020-01-01 00:00:00+09:00', '2020-04-01 00:00:00+09:00'],\n",
      "              dtype='datetime64[ns, Asia/Seoul]', freq='3MS')\n",
      "DatetimeIndex(['2019-01-01 00:00:00', '2019-01-01 02:00:00',\n",
      "               '2019-01-01 04:00:00'],\n",
      "              dtype='datetime64[ns]', freq='2H')\n"
     ]
    }
   ],
   "source": [
    "ts_ms = pd.date_range(start=\"2019-01-01\",end=None, periods=6,freq=\"MS\",tz=\"Asia/Seoul\") # 각 달의 시작을 기준으로 6개\n",
    "print(ts_ms)\n",
    "print(pd.date_range(\"2019-01-01\",periods=6,freq=\"M\",tz=\"Asia/Seoul\")) # 각 달의 마지막 날을 기준으로 6개\n",
    "print(pd.date_range(\"2019-01-01\",periods=6, freq=\"3MS\", tz=\"Asia/Seoul\")) #3개월 간격\n",
    "print(pd.date_range(\"2019-01-01\",end=None,periods=3,freq=\"2H\"))"
   ]
  },
  {
   "cell_type": "code",
   "execution_count": 169,
   "metadata": {},
   "outputs": [
    {
     "name": "stdout",
     "output_type": "stream",
     "text": [
      "PeriodIndex(['2019-01', '2019-02', '2019-03'], dtype='period[M]', freq='M')\n",
      "PeriodIndex(['2019-01-01 00:00', '2019-01-01 02:00', '2019-01-01 04:00'], dtype='period[2H]', freq='2H')\n"
     ]
    }
   ],
   "source": [
    "print(pd.period_range(\"2019-01-01\",end=None,periods=3,freq=\"M\"))\n",
    "print(pd.period_range(\"2019-01-01\",end=None,periods=3,freq=\"2H\")) # date_range 보다 한 단위가 적게 나오는 것을 알 수 있음 -> 기간이니까\n"
   ]
  },
  {
   "cell_type": "markdown",
   "metadata": {},
   "source": [
    "### 시계열 데이터 활용"
   ]
  },
  {
   "cell_type": "code",
   "execution_count": 172,
   "metadata": {},
   "outputs": [
    {
     "name": "stdout",
     "output_type": "stream",
     "text": [
      "         Date  Close  Start   High    Low  Volume   new_Date  Year  Month  Day\n",
      "0  2018-07-02  10100  10850  10900  10000  137977 2018-07-02  2018      7    2\n",
      "1  2018-06-29  10700  10550  10900   9990  170253 2018-06-29  2018      6   29\n",
      "2  2018-06-28  10400  10900  10950  10150  155769 2018-06-28  2018      6   28\n",
      "3  2018-06-27  10900  10800  11050  10500  133548 2018-06-27  2018      6   27\n",
      "4  2018-06-26  10800  10900  11000  10700   63039 2018-06-26  2018      6   26\n",
      "0     2018-07-02\n",
      "1     2018-06-29\n",
      "2     2018-06-28\n",
      "3     2018-06-27\n",
      "4     2018-06-26\n",
      "5     2018-06-25\n",
      "6     2018-06-22\n",
      "7     2018-06-21\n",
      "8     2018-06-20\n",
      "9     2018-06-19\n",
      "10    2018-06-18\n",
      "11    2018-06-15\n",
      "12    2018-06-14\n",
      "13    2018-06-12\n",
      "14    2018-06-11\n",
      "15    2018-06-08\n",
      "16    2018-06-07\n",
      "17    2018-06-05\n",
      "18    2018-06-04\n",
      "19    2018-06-01\n",
      "Name: Date-m, dtype: period[D]\n"
     ]
    }
   ],
   "source": [
    "# 년도, 월, 일 => 2018 / 2 / 3 개별 추출\n",
    "df=pd.read_csv(\"./stock-data.csv\")\n",
    "df[\"new_Date\"]=pd.to_datetime(df[\"Date\"])\n",
    "\n",
    "df[\"Year\"]=df[\"new_Date\"].dt.year\n",
    "df[\"Month\"]=df[\"new_Date\"].dt.month\n",
    "df[\"Day\"]=df[\"new_Date\"].dt.day\n",
    "print(df.head())\n",
    "# period로 변환하여 년, 월, 일 표기\n",
    "df[\"Date_yr\"]=df[\"new_Date\"].dt.to_period(\"A\") #년도까지\n",
    "df[\"Date-m\"] = df[\"new_Date\"].dt.to_period(\"D\") #년도,월,일까지\n",
    "print(df[\"Date-m\"])"
   ]
  },
  {
   "cell_type": "code",
   "execution_count": 179,
   "metadata": {},
   "outputs": [
    {
     "name": "stdout",
     "output_type": "stream",
     "text": [
      "-1 days +00:00:00\n"
     ]
    }
   ],
   "source": [
    "# 타임스탬프 간의 날짜차이 구하기\n",
    "today = pd.to_datetime(\"2018-12-25\")\n",
    "a = pd.to_datetime(\"2018-12-26\")\n",
    "b=today-a # 알아서 일수 계산해줌. 이때 timestamp와 timestamp 끼리 연산해주어야 함!!\n",
    "print(b)"
   ]
  },
  {
   "cell_type": "code",
   "execution_count": 203,
   "metadata": {},
   "outputs": [
    {
     "data": {
      "text/plain": [
       "3.26126"
      ]
     },
     "execution_count": 203,
     "metadata": {},
     "output_type": "execute_result"
    }
   ],
   "source": [
    "3.26126e+00"
   ]
  },
  {
   "cell_type": "code",
   "execution_count": null,
   "metadata": {},
   "outputs": [],
   "source": []
  }
 ],
 "metadata": {
  "kernelspec": {
   "display_name": "Python 3",
   "language": "python",
   "name": "python3"
  },
  "language_info": {
   "codemirror_mode": {
    "name": "ipython",
    "version": 3
   },
   "file_extension": ".py",
   "mimetype": "text/x-python",
   "name": "python",
   "nbconvert_exporter": "python",
   "pygments_lexer": "ipython3",
   "version": "3.7.6"
  }
 },
 "nbformat": 4,
 "nbformat_minor": 4
}
