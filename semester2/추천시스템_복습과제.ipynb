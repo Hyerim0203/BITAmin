{
 "cells": [
  {
   "cell_type": "markdown",
   "metadata": {},
   "source": [
    "### 1. 최근접 이웃 협업 필터링\n",
    "\n",
    "\n",
    "##### 협업 필터링 방식 중 하나인 최근접 이웃 협업 필터링에는 사용자 기반 최근접 이웃 방식과 아이템 기반 최근접 이웃 방식 두가지의 방법이 있습니다.\n",
    "\n",
    "```\n",
    "\n",
    "1-1) 사용자 기반 최근접 이웃 방식과 아이템 기반 최근접 이웃 방식에 대해 간단히 설명하시요.\n",
    "\n",
    "```"
   ]
  },
  {
   "cell_type": "markdown",
   "metadata": {},
   "source": [
    "```\n",
    "답: 사용자 기반 최근접 이웃 방식은 사용자별 데이터가 판단 기준으로, 특정 사용자와 유사한 사용자를 유사도가 높은 순으로 n만큼 추출하여 해당 사용자들이 좋아하는 아이템을 추천하는 방식이다.\n",
    "아이템 기반 최근접 이웃방식은 아이템별 데이터가 판단 기준으로, 특정 아이템과 유사한 이용패턴을 보이는 다른 아이템들을 유사도가 높은 순으로 n만큼 추출하여 다른 아이템을 이용해본 적 없는 사용자에게 해당 아이템을 추천하는 방식이다\n",
    "```"
   ]
  },
  {
   "cell_type": "markdown",
   "metadata": {},
   "source": [
    "```\n",
    "1-2) 사용자 기반 최근접 이웃 방식보다 아이템 기반 최근접 이웃 방식이 더 정확도가 높고 많이 사용하는 이유를 설명해 보시오.\n",
    "```"
   ]
  },
  {
   "cell_type": "markdown",
   "metadata": {},
   "source": [
    "```\n",
    "답: 사용자들이 비슷한 것을 좋아한다고 해서 사용자 간 취향이 비슷하다고 판단하기는 어려움. 매우 유명한 것은 대부분의 사람들이 좋아할 것이고, 좋아한다고 해도 평점을 매기지 않는 경우가 많기 때문에 판단하기에 어려움\n",
    "```"
   ]
  },
  {
   "cell_type": "markdown",
   "metadata": {},
   "source": [
    "### 2. 행렬분해\n",
    "\n",
    "##### 2-1) 다음 행렬에 대해서 경사하강법을 이용한 행렬분해를 실습한 후 원본행렬과 비교해 보세요.\n",
    "\n",
    "* 조건\n",
    "```\n",
    "K = 3\n",
    "steps = 1000\n",
    "learning_rate = 0.01\n",
    "r_lambda = 0.01\n",
    "```"
   ]
  },
  {
   "cell_type": "code",
   "execution_count": 1,
   "metadata": {},
   "outputs": [],
   "source": [
    "import numpy as np"
   ]
  },
  {
   "cell_type": "code",
   "execution_count": 3,
   "metadata": {},
   "outputs": [],
   "source": [
    "# 6X5 원본행렬\n",
    "\n",
    "R = np.array([[1, 5, np.NaN, 2, np.NaN, np.NaN],\n",
    "              [3, np.NaN, 1, 4, 3, np.NaN],\n",
    "              [5, np.NaN, 2, 3, np.NaN, 1],\n",
    "              [2, 5, np.NaN, 1, 2, 2],\n",
    "              [3, 4, 2, np.NaN, 1, 1]\n",
    "    \n",
    "])\n",
    "\n",
    "np.random.seed(1)\n",
    "K = 3\n",
    "steps = 1000\n",
    "learning_rate = 0.01\n",
    "r_lambda = 0.01"
   ]
  },
  {
   "cell_type": "code",
   "execution_count": 14,
   "metadata": {},
   "outputs": [],
   "source": [
    "P = np.random.normal(scale = 1./K, size = (R.shape[0],K))\n",
    "Q = np.random.normal(scale = 1./K, size = (R.shape[1],K))\n",
    "\n",
    "# 0이 아닌 원소 추출\n",
    "non_zeros = [(i,j,R[i,j]) for i in range(R.shape[0]) for j in range(R.shape[1]) if R[i,j]>0]\n",
    "\n",
    "for step in range(steps):\n",
    "    for i,j,r in non_zeros:\n",
    "        eij = r-np.dot(P[i,:],Q[j,:].T)\n",
    "        \n",
    "        # update\n",
    "        P[i,:] += learning_rate * (eij*Q[j,:]-r_lambda*P[i,:])\n",
    "        Q[j,:] += learning_rate * (eij*P[i,:]-r_lambda*Q[i,:])"
   ]
  },
  {
   "cell_type": "code",
   "execution_count": 15,
   "metadata": {
    "scrolled": true
   },
   "outputs": [
    {
     "name": "stdout",
     "output_type": "stream",
     "text": [
      "예측행렬: \n",
      " [[ 1.     4.988  1.398  1.986  2.472  2.406]\n",
      " [ 2.998  0.538  0.986  3.986  2.984  1.052]\n",
      " [ 4.973  1.826  2.01   2.99   2.893  0.983]\n",
      " [ 1.992  4.992  1.786  1.005  1.983  1.975]\n",
      " [ 2.992  3.987  1.967 -0.407  1.001  1.021]]\n"
     ]
    }
   ],
   "source": [
    "pred_matrix = np.dot(P, Q.T)\n",
    "print('예측행렬: \\n', np.round(pred_matrix, 3))"
   ]
  },
  {
   "cell_type": "code",
   "execution_count": 16,
   "metadata": {},
   "outputs": [
    {
     "name": "stdout",
     "output_type": "stream",
     "text": [
      "[[ 1.  5. nan  2. nan nan]\n",
      " [ 3. nan  1.  4.  3. nan]\n",
      " [ 5. nan  2.  3. nan  1.]\n",
      " [ 2.  5. nan  1.  2.  2.]\n",
      " [ 3.  4.  2. nan  1.  1.]]\n"
     ]
    }
   ],
   "source": [
    "print(R)"
   ]
  },
  {
   "cell_type": "markdown",
   "metadata": {},
   "source": [
    "##### 2-2) 다음 RMSE를 계산하는 함수를 사용하여 오차를 확인하세요."
   ]
  },
  {
   "cell_type": "code",
   "execution_count": 18,
   "metadata": {},
   "outputs": [],
   "source": [
    "# RMSE\n",
    "from sklearn.metrics import mean_squared_error\n",
    "\n",
    "def get_rmse(R, P, Q, non_zeros):\n",
    "    error = 0\n",
    "    \n",
    "    full_pred_matrix = np.dot(P, Q.T)\n",
    "    \n",
    "    x_non_zero_ind = [non_zero[0] for non_zero in non_zeros]\n",
    "    y_non_zero_ind = [non_zero[1] for non_zero in non_zeros]\n",
    "    \n",
    "    R_non_zeros = R[x_non_zero_ind, y_non_zero_ind]\n",
    "    full_pred_matrix_non_zeros = full_pred_matrix[x_non_zero_ind, y_non_zero_ind]\n",
    "    \n",
    "    mse = mean_squared_error(R_non_zeros, full_pred_matrix_non_zeros)\n",
    "    rmse = np.sqrt(mse)\n",
    "    \n",
    "    return rmse"
   ]
  },
  {
   "cell_type": "code",
   "execution_count": 19,
   "metadata": {},
   "outputs": [
    {
     "data": {
      "text/plain": [
       "0.015505959494228352"
      ]
     },
     "execution_count": 19,
     "metadata": {},
     "output_type": "execute_result"
    }
   ],
   "source": [
    "get_rmse(R,P,Q,non_zeros)"
   ]
  },
  {
   "cell_type": "markdown",
   "metadata": {},
   "source": [
    "### 3. 콘텐츠 기반 필터링"
   ]
  },
  {
   "cell_type": "markdown",
   "metadata": {},
   "source": [
    "##### Book.csv 파일을 로드하고 콘텐츠 기반 필터링 방법을 사용하여 ㅇㅇ와 관련있는 10개의 책을 추천하는 실습입니다."
   ]
  },
  {
   "cell_type": "code",
   "execution_count": 20,
   "metadata": {},
   "outputs": [],
   "source": [
    "import pandas as pd\n",
    "import numpy as np\n",
    "import warnings; warnings.filterwarnings('ignore')"
   ]
  },
  {
   "cell_type": "markdown",
   "metadata": {},
   "source": [
    "##### 3-1) Book.csv 파일을 로드하고 결측값이 있는 행을 제거하고 Genres 행렬을 단어의 나열로 전처리 한 후 Countvectorizer을 사용하여 백터행렬을 생성하시오.\n",
    "* 조건</br>\n",
    "CountVectorizer(min_df=0, ngram_range=(1,2))"
   ]
  },
  {
   "cell_type": "code",
   "execution_count": 21,
   "metadata": {},
   "outputs": [
    {
     "data": {
      "text/html": [
       "<div>\n",
       "<style scoped>\n",
       "    .dataframe tbody tr th:only-of-type {\n",
       "        vertical-align: middle;\n",
       "    }\n",
       "\n",
       "    .dataframe tbody tr th {\n",
       "        vertical-align: top;\n",
       "    }\n",
       "\n",
       "    .dataframe thead th {\n",
       "        text-align: right;\n",
       "    }\n",
       "</style>\n",
       "<table border=\"1\" class=\"dataframe\">\n",
       "  <thead>\n",
       "    <tr style=\"text-align: right;\">\n",
       "      <th></th>\n",
       "      <th>User-ID</th>\n",
       "      <th>Book-Rating</th>\n",
       "      <th>Book-Title</th>\n",
       "      <th>Book-Author</th>\n",
       "      <th>Publisher</th>\n",
       "      <th>genres</th>\n",
       "    </tr>\n",
       "  </thead>\n",
       "  <tbody>\n",
       "    <tr>\n",
       "      <th>0</th>\n",
       "      <td>276725</td>\n",
       "      <td>3</td>\n",
       "      <td>Flesh Tones: A Novel</td>\n",
       "      <td>M. J. Rose</td>\n",
       "      <td>Ballantine Books</td>\n",
       "      <td>[{\"id\": 28, \"name\": \"Action\"}, {\"id\": 12, \"nam...</td>\n",
       "    </tr>\n",
       "    <tr>\n",
       "      <th>1</th>\n",
       "      <td>276726</td>\n",
       "      <td>5</td>\n",
       "      <td>Rites of Passage</td>\n",
       "      <td>Judith Rae</td>\n",
       "      <td>Heinle</td>\n",
       "      <td>[{\"id\": 12, \"name\": \"Adventure\"}, {\"id\": 14, \"...</td>\n",
       "    </tr>\n",
       "    <tr>\n",
       "      <th>2</th>\n",
       "      <td>276727</td>\n",
       "      <td>4</td>\n",
       "      <td>The Notebook</td>\n",
       "      <td>Nicholas Sparks</td>\n",
       "      <td>Warner Books</td>\n",
       "      <td>[{\"id\": 28, \"name\": \"Action\"}, {\"id\": 12, \"nam...</td>\n",
       "    </tr>\n",
       "    <tr>\n",
       "      <th>3</th>\n",
       "      <td>276729</td>\n",
       "      <td>3</td>\n",
       "      <td>Help!: Level 1</td>\n",
       "      <td>Philip Prowse</td>\n",
       "      <td>Cambridge University Press</td>\n",
       "      <td>[{\"id\": 28, \"name\": \"Action\"}, {\"id\": 80, \"nam...</td>\n",
       "    </tr>\n",
       "    <tr>\n",
       "      <th>4</th>\n",
       "      <td>276729</td>\n",
       "      <td>6</td>\n",
       "      <td>The Amsterdam Connection : Level 4 (Cambridge ...</td>\n",
       "      <td>Sue Leather</td>\n",
       "      <td>Cambridge University Press</td>\n",
       "      <td>[{\"id\": 28, \"name\": \"Action\"}, {\"id\": 12, \"nam...</td>\n",
       "    </tr>\n",
       "  </tbody>\n",
       "</table>\n",
       "</div>"
      ],
      "text/plain": [
       "   User-ID  Book-Rating                                         Book-Title  \\\n",
       "0   276725            3                               Flesh Tones: A Novel   \n",
       "1   276726            5                                   Rites of Passage   \n",
       "2   276727            4                                       The Notebook   \n",
       "3   276729            3                                     Help!: Level 1   \n",
       "4   276729            6  The Amsterdam Connection : Level 4 (Cambridge ...   \n",
       "\n",
       "       Book-Author                   Publisher  \\\n",
       "0       M. J. Rose            Ballantine Books   \n",
       "1       Judith Rae                      Heinle   \n",
       "2  Nicholas Sparks                Warner Books   \n",
       "3    Philip Prowse  Cambridge University Press   \n",
       "4      Sue Leather  Cambridge University Press   \n",
       "\n",
       "                                              genres  \n",
       "0  [{\"id\": 28, \"name\": \"Action\"}, {\"id\": 12, \"nam...  \n",
       "1  [{\"id\": 12, \"name\": \"Adventure\"}, {\"id\": 14, \"...  \n",
       "2  [{\"id\": 28, \"name\": \"Action\"}, {\"id\": 12, \"nam...  \n",
       "3  [{\"id\": 28, \"name\": \"Action\"}, {\"id\": 80, \"nam...  \n",
       "4  [{\"id\": 28, \"name\": \"Action\"}, {\"id\": 12, \"nam...  "
      ]
     },
     "execution_count": 21,
     "metadata": {},
     "output_type": "execute_result"
    }
   ],
   "source": [
    "data = pd.read_csv('./Book.csv')\n",
    "data.head()"
   ]
  },
  {
   "cell_type": "code",
   "execution_count": 46,
   "metadata": {},
   "outputs": [],
   "source": [
    "# 결측값 행 제거\n",
    "data_df = data.dropna(axis=0)"
   ]
  },
  {
   "cell_type": "code",
   "execution_count": 39,
   "metadata": {},
   "outputs": [],
   "source": [
    "from ast import literal_eval"
   ]
  },
  {
   "cell_type": "code",
   "execution_count": 47,
   "metadata": {},
   "outputs": [],
   "source": [
    "data_df[\"genres\"]=data_df[\"genres\"].apply(literal_eval)"
   ]
  },
  {
   "cell_type": "code",
   "execution_count": 49,
   "metadata": {},
   "outputs": [],
   "source": [
    "data_df[\"genres\"]=data_df[\"genres\"].apply(lambda x: [i[\"name\"] for i in x])"
   ]
  },
  {
   "cell_type": "code",
   "execution_count": 54,
   "metadata": {},
   "outputs": [],
   "source": [
    "from sklearn.feature_extraction.text import CountVectorizer"
   ]
  },
  {
   "cell_type": "code",
   "execution_count": 61,
   "metadata": {},
   "outputs": [],
   "source": [
    "data_df[\"genres_literal\"]=data_df[\"genres\"].apply(lambda x:\" \".join(x))\n",
    "count_vect = CountVectorizer(min_df=0, ngram_range = (1,2))\n",
    "genre_mat = count_vect.fit_transform(data_df[\"genres_literal\"])"
   ]
  },
  {
   "cell_type": "markdown",
   "metadata": {},
   "source": [
    "##### 3-2) 생성된 백터 행렬으로 코사인 유사도를 계산하고 행렬로 변환한 뒤 유사도가 높은 순으로 정렬하시오."
   ]
  },
  {
   "cell_type": "code",
   "execution_count": 59,
   "metadata": {},
   "outputs": [],
   "source": [
    "from sklearn.metrics.pairwise import cosine_similarity"
   ]
  },
  {
   "cell_type": "code",
   "execution_count": 63,
   "metadata": {},
   "outputs": [],
   "source": [
    "genre_sim = cosine_similarity(genre_mat, genre_mat)"
   ]
  },
  {
   "cell_type": "code",
   "execution_count": 76,
   "metadata": {},
   "outputs": [
    {
     "name": "stdout",
     "output_type": "stream",
     "text": [
      "[[  0  11  37 ... 221 222 369]\n",
      " [ 72   9   1 ...  55 323 369]\n",
      " [  2 268 351 ... 134 137 369]\n",
      " ...\n",
      " [184 367 288 ...  79 185 369]\n",
      " [368  34 141 ... 195 194   0]\n",
      " [369 311 254 ... 215 216   0]]\n"
     ]
    }
   ],
   "source": [
    "genre_sim_sorted_ind = genre_sim.argsort()[:,::-1]\n",
    "print(genre_sim_sorted_ind)"
   ]
  },
  {
   "cell_type": "markdown",
   "metadata": {},
   "source": [
    "##### 3-3) 장르 유사도에 따라 영화를 추천하는 다음 함수의 '빈칸'을 채우고 'The Notebook'이라는 책을 좋아하는 사용자에게 보여줄 추천 결과를 출력하시오(10개)."
   ]
  },
  {
   "cell_type": "code",
   "execution_count": 80,
   "metadata": {},
   "outputs": [
    {
     "data": {
      "text/plain": [
       "Index(['User-ID', 'Book-Rating', 'Book-Title', 'Book-Author', 'Publisher',\n",
       "       'genres', 'genres_literal'],\n",
       "      dtype='object')"
      ]
     },
     "execution_count": 80,
     "metadata": {},
     "output_type": "execute_result"
    }
   ],
   "source": [
    "data_df.columns"
   ]
  },
  {
   "cell_type": "code",
   "execution_count": 81,
   "metadata": {},
   "outputs": [],
   "source": [
    "def find_sim_movie(df, sorted_ind, title_name, top_n=10):\n",
    "    \n",
    "    title_movie = df[df['Book-Title'] == title_name]\n",
    "    \n",
    "    title_index = title_movie.index.values\n",
    "    similar_indexes = sorted_ind[title_index, :(top_n)]\n",
    "    \n",
    "    print(similar_indexes)\n",
    "    similar_indexes = similar_indexes.reshape(-1)\n",
    "    \n",
    "    return df.iloc[similar_indexes]"
   ]
  },
  {
   "cell_type": "code",
   "execution_count": 83,
   "metadata": {},
   "outputs": [
    {
     "name": "stdout",
     "output_type": "stream",
     "text": [
      "[[  2 268 351  18 237  46 297  17  24  32]]\n"
     ]
    },
    {
     "data": {
      "text/html": [
       "<div>\n",
       "<style scoped>\n",
       "    .dataframe tbody tr th:only-of-type {\n",
       "        vertical-align: middle;\n",
       "    }\n",
       "\n",
       "    .dataframe tbody tr th {\n",
       "        vertical-align: top;\n",
       "    }\n",
       "\n",
       "    .dataframe thead th {\n",
       "        text-align: right;\n",
       "    }\n",
       "</style>\n",
       "<table border=\"1\" class=\"dataframe\">\n",
       "  <thead>\n",
       "    <tr style=\"text-align: right;\">\n",
       "      <th></th>\n",
       "      <th>Book-Title</th>\n",
       "      <th>Book-Rating</th>\n",
       "      <th>Book-Author</th>\n",
       "    </tr>\n",
       "  </thead>\n",
       "  <tbody>\n",
       "    <tr>\n",
       "      <th>2</th>\n",
       "      <td>The Notebook</td>\n",
       "      <td>4</td>\n",
       "      <td>Nicholas Sparks</td>\n",
       "    </tr>\n",
       "    <tr>\n",
       "      <th>356</th>\n",
       "      <td>Oceano Mare</td>\n",
       "      <td>6</td>\n",
       "      <td>Alessandro Baricco</td>\n",
       "    </tr>\n",
       "    <tr>\n",
       "      <th>469</th>\n",
       "      <td>Contacto</td>\n",
       "      <td>6</td>\n",
       "      <td>Carl Sagan</td>\n",
       "    </tr>\n",
       "    <tr>\n",
       "      <th>21</th>\n",
       "      <td>How to Deal With Difficult People</td>\n",
       "      <td>7</td>\n",
       "      <td>Rick Brinkman</td>\n",
       "    </tr>\n",
       "    <tr>\n",
       "      <th>304</th>\n",
       "      <td>Verraten und verkauft. Roman.</td>\n",
       "      <td>3</td>\n",
       "      <td>Philippe Djian</td>\n",
       "    </tr>\n",
       "    <tr>\n",
       "      <th>62</th>\n",
       "      <td>Henry der Held.</td>\n",
       "      <td>10</td>\n",
       "      <td>Roddy Doyle</td>\n",
       "    </tr>\n",
       "    <tr>\n",
       "      <th>411</th>\n",
       "      <td>The Tower at Stony Wood</td>\n",
       "      <td>8</td>\n",
       "      <td>Patricia A. McKillip</td>\n",
       "    </tr>\n",
       "    <tr>\n",
       "      <th>20</th>\n",
       "      <td>Birdsong: A Novel of Love and War</td>\n",
       "      <td>8</td>\n",
       "      <td>Sebastian Faulks</td>\n",
       "    </tr>\n",
       "    <tr>\n",
       "      <th>29</th>\n",
       "      <td>The Pillars of the Earth</td>\n",
       "      <td>5</td>\n",
       "      <td>Ken Follett</td>\n",
       "    </tr>\n",
       "    <tr>\n",
       "      <th>38</th>\n",
       "      <td>Besiegt vom Sturm der Leidenschaft.</td>\n",
       "      <td>4</td>\n",
       "      <td>Patricia Potter</td>\n",
       "    </tr>\n",
       "  </tbody>\n",
       "</table>\n",
       "</div>"
      ],
      "text/plain": [
       "                              Book-Title  Book-Rating           Book-Author\n",
       "2                           The Notebook            4       Nicholas Sparks\n",
       "356                          Oceano Mare            6    Alessandro Baricco\n",
       "469                             Contacto            6            Carl Sagan\n",
       "21     How to Deal With Difficult People            7         Rick Brinkman\n",
       "304        Verraten und verkauft. Roman.            3        Philippe Djian\n",
       "62                       Henry der Held.           10           Roddy Doyle\n",
       "411              The Tower at Stony Wood            8  Patricia A. McKillip\n",
       "20     Birdsong: A Novel of Love and War            8      Sebastian Faulks\n",
       "29              The Pillars of the Earth            5           Ken Follett\n",
       "38   Besiegt vom Sturm der Leidenschaft.            4       Patricia Potter"
      ]
     },
     "execution_count": 83,
     "metadata": {},
     "output_type": "execute_result"
    }
   ],
   "source": [
    "similar_movies = find_sim_movie(data_df, genre_sim_sorted_ind, \"The Notebook\", 10)\n",
    "similar_movies[['Book-Title', 'Book-Rating', 'Book-Author']]"
   ]
  }
 ],
 "metadata": {
  "kernelspec": {
   "display_name": "Python 3",
   "language": "python",
   "name": "python3"
  },
  "language_info": {
   "codemirror_mode": {
    "name": "ipython",
    "version": 3
   },
   "file_extension": ".py",
   "mimetype": "text/x-python",
   "name": "python",
   "nbconvert_exporter": "python",
   "pygments_lexer": "ipython3",
   "version": "3.8.3"
  }
 },
 "nbformat": 4,
 "nbformat_minor": 4
}
