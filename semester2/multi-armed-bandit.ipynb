{
 "cells": [
  {
   "cell_type": "code",
   "execution_count": 1,
   "metadata": {},
   "outputs": [],
   "source": [
    "import random\n",
    "import pandas as pd\n",
    "import numpy as np\n",
    "import matplotlib.pyplot as plt\n",
    "import seaborn as sns\n",
    "%matplotlib inline\n",
    "\n",
    "# 한글 폰트 오류 해결\n",
    "from matplotlib import font_manager, rc \n",
    "font_path = \"C:\\\\Users\\\\이혜림\\\\Desktop\\\\Bita5/malgun.ttf\" #폰트 파일의 위치\n",
    "font_name = font_manager.FontProperties(fname=font_path).get_name()\n",
    "rc(\"font\",family=font_name)"
   ]
  },
  {
   "cell_type": "markdown",
   "metadata": {},
   "source": [
    "## 앱실론-그리디 알고리즘"
   ]
  },
  {
   "cell_type": "code",
   "execution_count": 91,
   "metadata": {},
   "outputs": [],
   "source": [
    "R = 0 # 총 리워드\n",
    "ep = 0.15 # epsilon의 값\n",
    "candidate_list = []\n",
    "\n",
    "class candidate():\n",
    "    def __init__(self):\n",
    "        self.Q = 0\n",
    "        self.N = 0\n",
    "        self.P = random.randint(0,300) \n",
    "        self.P = float(self.P / 1000)\n",
    "\n",
    "def bandit(candidate):\n",
    "    global R\n",
    "    candidate.N += 1\n",
    "    rand_float = random.random()\n",
    "    if rand_float < candidate.P:\n",
    "        candidate.Q = candidate.Q + (1 - candidate.Q) / candidate.N\n",
    "        R += 1\n",
    "    else:\n",
    "        candidate.Q = candidate.Q + (0 - candidate.Q) / candidate.N\n",
    "    \n",
    "    \n",
    "\n",
    "def e_greedy_choice(candidate_list, e=ep):\n",
    "    k = len(candidate_list) # 선택 후보군의 수\n",
    "    \n",
    "    random_flag = None\n",
    "    # 엡실론보다 작으면 random_flag 는 True, 그렇지않으면 False\n",
    "    # 랜덤하게 선택할것인지, 기대보상을 사용하여 선택할것인지 선택\n",
    "    \n",
    "    rand_num = random.random()\n",
    "    if rand_num < e:\n",
    "        random_flag = True\n",
    "    else:\n",
    "        random_flag = False\n",
    "\n",
    "    if random_flag: # 엡실론보다 작으면, 무작위 추출\n",
    "        choice_idx = random.randint(0,k-1)\n",
    "        bandit(candidate_list[choice_idx])\n",
    "    \n",
    "    else: # 엡실론보다 크면 기대보상(Q)가 가장 큰 후보를 추출\n",
    "        Q_list = [candidate_list[i].Q for i in range(k)]\n",
    "        max_Q = max(Q_list)\n",
    "        max_Q_list = [] # max_Q를 가진 후보의 인덱스를 저장\n",
    "        for i in range(k):\n",
    "            if candidate_list[i].Q == max_Q:\n",
    "                max_Q_list.append(i)\n",
    "        \n",
    "        choice_idx = random.choice(max_Q_list)\n",
    "        bandit(candidate_list[choice_idx])\n",
    "        \n",
    "    \n",
    " "
   ]
  },
  {
   "cell_type": "code",
   "execution_count": 92,
   "metadata": {},
   "outputs": [
    {
     "name": "stdout",
     "output_type": "stream",
     "text": [
      "0.123\n",
      "0.002\n",
      "0.112\n",
      "0.051\n",
      "0.198\n"
     ]
    }
   ],
   "source": [
    "candidate_list = []\n",
    "R = 0\n",
    "\n",
    "for i in range(5):\n",
    "    cand = candidate()\n",
    "    candidate_list.append(cand)\n",
    "    \n",
    "for i in range(5):\n",
    "    print(candidate_list[i].P)    \n",
    "\n",
    "data = np.zeros((1000,5))\n",
    "for i in range(1000):\n",
    "    e_greedy_choice(candidate_list, e=ep)\n",
    "    data[i]=np.array([candidate_list[i].N for i in range(5)])\n"
   ]
  },
  {
   "cell_type": "code",
   "execution_count": 93,
   "metadata": {},
   "outputs": [
    {
     "name": "stdout",
     "output_type": "stream",
     "text": [
      "31\n",
      "36\n",
      "41\n",
      "84\n",
      "808\n"
     ]
    },
    {
     "data": {
      "text/plain": [
       "<matplotlib.legend.Legend at 0x202430e1948>"
      ]
     },
     "execution_count": 93,
     "metadata": {},
     "output_type": "execute_result"
    },
    {
     "data": {
      "image/png": "[encoded data removed]",
      "text/plain": [
       "<Figure size 432x288 with 1 Axes>"
      ]
     },
     "metadata": {
      "needs_background": "light"
     },
     "output_type": "display_data"
    }
   ],
   "source": [
    "for i in range(5):\n",
    "    print(candidate_list[i].N)\n",
    "plt.plot(data)\n",
    "plt.legend([candidate_list[i].P for i in range(5)])"
   ]
  },
  {
   "cell_type": "code",
   "execution_count": 76,
   "metadata": {},
   "outputs": [
    {
     "data": {
      "text/plain": [
       "array([[  0.,   1.,   0.,   0.,   0.],\n",
       "       [  0.,   2.,   0.,   0.,   0.],\n",
       "       [  0.,   3.,   0.,   0.,   0.],\n",
       "       ...,\n",
       "       [ 22., 923.,  13.,  20.,  20.],\n",
       "       [ 22., 924.,  13.,  20.,  20.],\n",
       "       [ 22., 925.,  13.,  20.,  20.]])"
      ]
     },
     "execution_count": 76,
     "metadata": {},
     "output_type": "execute_result"
    }
   ],
   "source": [
    "data"
   ]
  },
  {
   "cell_type": "code",
   "execution_count": 42,
   "metadata": {
    "scrolled": true
   },
   "outputs": [
    {
     "name": "stdout",
     "output_type": "stream",
     "text": [
      "888\n",
      "23\n",
      "25\n",
      "34\n",
      "30\n"
     ]
    }
   ],
   "source": [
    "for i in range(5):\n",
    "    print(candidate_list[i].N)"
   ]
  },
  {
   "cell_type": "code",
   "execution_count": 43,
   "metadata": {},
   "outputs": [
    {
     "name": "stdout",
     "output_type": "stream",
     "text": [
      "0.09\n",
      "0.03\n",
      "0.06\n",
      "0.05\n",
      "0.04\n"
     ]
    }
   ],
   "source": [
    "for i in range(5):\n",
    "    print(candidate_list[i].P)"
   ]
  },
  {
   "cell_type": "code",
   "execution_count": 94,
   "metadata": {},
   "outputs": [
    {
     "name": "stdout",
     "output_type": "stream",
     "text": [
      "0.09677419354838711\n",
      "0.0\n",
      "0.07317073170731708\n",
      "0.04761904761904762\n",
      "0.17574257425742573\n"
     ]
    }
   ],
   "source": [
    "for i in range(5):\n",
    "    print(candidate_list[i].Q)"
   ]
  },
  {
   "cell_type": "code",
   "execution_count": null,
   "metadata": {},
   "outputs": [],
   "source": [
    "print(a,)"
   ]
  }
 ],
 "metadata": {
  "kernelspec": {
   "display_name": "Python 3",
   "language": "python",
   "name": "python3"
  },
  "language_info": {
   "codemirror_mode": {
    "name": "ipython",
    "version": 3
   },
   "file_extension": ".py",
   "mimetype": "text/x-python",
   "name": "python",
   "nbconvert_exporter": "python",
   "pygments_lexer": "ipython3",
   "version": "3.7.6"
  }
 },
 "nbformat": 4,
 "nbformat_minor": 4
}
