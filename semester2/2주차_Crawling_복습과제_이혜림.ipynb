{
 "cells": [
  {
   "cell_type": "markdown",
   "metadata": {},
   "source": [
    "## 유튜브 크롤링"
   ]
  },
  {
   "cell_type": "code",
   "execution_count": 1,
   "metadata": {},
   "outputs": [],
   "source": [
    "import requests\n",
    "from bs4 import BeautifulSoup\n",
    "import os\n",
    "import pandas as pd\n",
    "import numpy as np\n",
    "from selenium import webdriver\n",
    "import time\n",
    "import re"
   ]
  },
  {
   "cell_type": "code",
   "execution_count": 7,
   "metadata": {},
   "outputs": [],
   "source": [
    "# 유튜브 접속\n",
    "driver = webdriver.Chrome(\"C:/Users/이혜림/Desktop/Bita5/chromedriver\")\n",
    "driver.get(\"https://youtube.com\")\n",
    "time.sleep(2)\n",
    "\n",
    "# 검색어 검색\n",
    "driver.find_element_by_css_selector(\"input#search\").send_keys(\"워크맨\") # 검색어 입력\n",
    "driver.find_element_by_css_selector(\"yt-icon.ytd-searchbox\").click()\n",
    "time.sleep(1)\n",
    "\n",
    "# 채널 홈으로 이동\n",
    "driver.find_element_by_css_selector(\"img#img\").click() # 채널 이미지를 누름으로써 채널 홈으로 이동\n",
    "time.sleep(1)\n",
    "\n",
    "# 동영상 탭 클릭\n",
    "driver.find_elements_by_css_selector(\"div.tab-content\")[1].click()\n",
    "time.sleep(1)\n",
    "\n",
    "# 최신 기준 상위 5개 영상 제목, 좋아요/싫어요수 크롤링\n",
    "crawling_data = []\n",
    "top5 = driver.find_elements_by_css_selector(\"div#details\")[:5]\n",
    "for video in top5:\n",
    "    video.click() # 해당 동영상으로 들어감\n",
    "    time.sleep(2)\n",
    "    # 비디오의 제목, 좋아요, 싫어요 등 각종 정보가 들어있는 container\n",
    "    container = driver.find_element_by_css_selector(\"div#container.ytd-video-primary-info-renderer\")\n",
    "    title = container.find_element_by_css_selector(\"h1.title\").text  # 영상 제목\n",
    "    like, dislike = [i.text for i in container.find_elements_by_css_selector(\"div#menu-container a\")[:2]] # 좋아요/싫어요수\n",
    "    crawling_data.append([title, like, dislike])\n",
    "    driver.back() # 뒤로가기\n",
    "    time.sleep(2)"
   ]
  },
  {
   "cell_type": "code",
   "execution_count": 8,
   "metadata": {},
   "outputs": [],
   "source": [
    "crawling_df = pd.DataFrame(crawling_data, columns = [\"title\",\"like\",\"dislike\"])"
   ]
  },
  {
   "cell_type": "code",
   "execution_count": 9,
   "metadata": {},
   "outputs": [
    {
     "data": {
      "text/html": [
       "<div>\n",
       "<style scoped>\n",
       "    .dataframe tbody tr th:only-of-type {\n",
       "        vertical-align: middle;\n",
       "    }\n",
       "\n",
       "    .dataframe tbody tr th {\n",
       "        vertical-align: top;\n",
       "    }\n",
       "\n",
       "    .dataframe thead th {\n",
       "        text-align: right;\n",
       "    }\n",
       "</style>\n",
       "<table border=\"1\" class=\"dataframe\">\n",
       "  <thead>\n",
       "    <tr style=\"text-align: right;\">\n",
       "      <th></th>\n",
       "      <th>title</th>\n",
       "      <th>like</th>\n",
       "      <th>dislike</th>\n",
       "    </tr>\n",
       "  </thead>\n",
       "  <tbody>\n",
       "    <tr>\n",
       "      <th>0</th>\n",
       "      <td>[ENG] 알바 기권 선언..?🏌️‍♂️ 제주도만 갔다 하면 고생예약💦 폭발하는 땀...</td>\n",
       "      <td>2.8만</td>\n",
       "      <td>781</td>\n",
       "    </tr>\n",
       "    <tr>\n",
       "      <th>1</th>\n",
       "      <td>[ENG] ※낚시꾼 출몰 주의※ 입만 열면 떡밥 투척?🐟 낚시는 기본ㅋ 허세는 국룰...</td>\n",
       "      <td>3만</td>\n",
       "      <td>806</td>\n",
       "    </tr>\n",
       "    <tr>\n",
       "      <th>2</th>\n",
       "      <td>[ENG] ※馬성의 영상※ 역대급으로 넋 나간 장성규ㄷㄷ 먹여주고 씻겨주고 운동까지...</td>\n",
       "      <td>3.7만</td>\n",
       "      <td>910</td>\n",
       "    </tr>\n",
       "    <tr>\n",
       "      <th>3</th>\n",
       "      <td>[ENG] 대가리 떴다 ㄷㄷ 잡것 완벽 적응한 박재범이 백종원 선생님한테 직접 전수...</td>\n",
       "      <td>6.9만</td>\n",
       "      <td>1.1천</td>\n",
       "    </tr>\n",
       "    <tr>\n",
       "      <th>4</th>\n",
       "      <td>[ENG] 👟무'족'건 빵터지는 영상👟 '나이, 키' 다 필요없고 텐션🔥만 있으면 ...</td>\n",
       "      <td>4.1만</td>\n",
       "      <td>1.2천</td>\n",
       "    </tr>\n",
       "  </tbody>\n",
       "</table>\n",
       "</div>"
      ],
      "text/plain": [
       "                                               title  like dislike\n",
       "0  [ENG] 알바 기권 선언..?🏌️‍♂️ 제주도만 갔다 하면 고생예약💦 폭발하는 땀...  2.8만     781\n",
       "1  [ENG] ※낚시꾼 출몰 주의※ 입만 열면 떡밥 투척?🐟 낚시는 기본ㅋ 허세는 국룰...    3만     806\n",
       "2  [ENG] ※馬성의 영상※ 역대급으로 넋 나간 장성규ㄷㄷ 먹여주고 씻겨주고 운동까지...  3.7만     910\n",
       "3  [ENG] 대가리 떴다 ㄷㄷ 잡것 완벽 적응한 박재범이 백종원 선생님한테 직접 전수...  6.9만    1.1천\n",
       "4  [ENG] 👟무'족'건 빵터지는 영상👟 '나이, 키' 다 필요없고 텐션🔥만 있으면 ...  4.1만    1.2천"
      ]
     },
     "execution_count": 9,
     "metadata": {},
     "output_type": "execute_result"
    }
   ],
   "source": [
    "crawling_df"
   ]
  }
 ],
 "metadata": {
  "kernelspec": {
   "display_name": "Python 3",
   "language": "python",
   "name": "python3"
  },
  "language_info": {
   "codemirror_mode": {
    "name": "ipython",
    "version": 3
   },
   "file_extension": ".py",
   "mimetype": "text/x-python",
   "name": "python",
   "nbconvert_exporter": "python",
   "pygments_lexer": "ipython3",
   "version": "3.7.6"
  }
 },
 "nbformat": 4,
 "nbformat_minor": 4
}
