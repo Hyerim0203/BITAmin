{
 "cells": [
  {
   "cell_type": "code",
   "execution_count": 91,
   "metadata": {},
   "outputs": [],
   "source": [
    "from IPython.core.interactiveshell import InteractiveShell\n",
    "InteractiveShell.ast_node_interactivity=\"all\""
   ]
  },
  {
   "cell_type": "code",
   "execution_count": 1,
   "metadata": {},
   "outputs": [],
   "source": [
    "from sklearn.datasets import load_iris\n",
    "from sklearn.tree import DecisionTreeClassifier\n",
    "from sklearn.model_selection import train_test_split"
   ]
  },
  {
   "cell_type": "code",
   "execution_count": 26,
   "metadata": {},
   "outputs": [
    {
     "name": "stdout",
     "output_type": "stream",
     "text": [
      "[0 0 0 0 0 0 0 0 0 0 0 0 0 0 0 0 0 0 0 0 0 0 0 0 0 0 0 0 0 0 0 0 0 0 0 0 0\n",
      " 0 0 0 0 0 0 0 0 0 0 0 0 0 1 1 1 1 1 1 1 1 1 1 1 1 1 1 1 1 1 1 1 1 1 1 1 1\n",
      " 1 1 1 1 1 1 1 1 1 1 1 1 1 1 1 1 1 1 1 1 1 1 1 1 1 1 2 2 2 2 2 2 2 2 2 2 2\n",
      " 2 2 2 2 2 2 2 2 2 2 2 2 2 2 2 2 2 2 2 2 2 2 2 2 2 2 2 2 2 2 2 2 2 2 2 2 2\n",
      " 2 2] ['setosa' 'versicolor' 'virginica']\n",
      "dict_keys(['data', 'target', 'target_names', 'DESCR', 'feature_names', 'filename'])\n",
      "<class 'list'>\n",
      "4\n",
      "<class 'numpy.ndarray'>\n",
      "3\n",
      "<class 'numpy.ndarray'>\n",
      "150\n",
      "[0 0 0 0 0 0 0 0 0 0 0 0 0 0 0 0 0 0 0 0 0 0 0 0 0 0 0 0 0 0 0 0 0 0 0 0 0\n",
      " 0 0 0 0 0 0 0 0 0 0 0 0 0 1 1 1 1 1 1 1 1 1 1 1 1 1 1 1 1 1 1 1 1 1 1 1 1\n",
      " 1 1 1 1 1 1 1 1 1 1 1 1 1 1 1 1 1 1 1 1 1 1 1 1 1 1 2 2 2 2 2 2 2 2 2 2 2\n",
      " 2 2 2 2 2 2 2 2 2 2 2 2 2 2 2 2 2 2 2 2 2 2 2 2 2 2 2 2 2 2 2 2 2 2 2 2 2\n",
      " 2 2]\n"
     ]
    }
   ],
   "source": [
    "import pandas as pd\n",
    "iris = load_iris()\n",
    "iris_data = iris.data\n",
    "iris_label = iris.target\n",
    "\n",
    "print(iris_label, iris.target_names)\n",
    "print(iris.keys())\n",
    "\n",
    "print(type(iris.feature_names))\n",
    "print(len(iris.feature_names))\n",
    "print(type(iris.target_names))\n",
    "print(len(iris.target_names))\n",
    "print(type(iris.data))\n",
    "print(len(iris.data))\n",
    "print(iris.target)"
   ]
  },
  {
   "cell_type": "code",
   "execution_count": 8,
   "metadata": {},
   "outputs": [
    {
     "data": {
      "text/html": [
       "<div>\n",
       "<style scoped>\n",
       "    .dataframe tbody tr th:only-of-type {\n",
       "        vertical-align: middle;\n",
       "    }\n",
       "\n",
       "    .dataframe tbody tr th {\n",
       "        vertical-align: top;\n",
       "    }\n",
       "\n",
       "    .dataframe thead th {\n",
       "        text-align: right;\n",
       "    }\n",
       "</style>\n",
       "<table border=\"1\" class=\"dataframe\">\n",
       "  <thead>\n",
       "    <tr style=\"text-align: right;\">\n",
       "      <th></th>\n",
       "      <th>sepal length (cm)</th>\n",
       "      <th>sepal width (cm)</th>\n",
       "      <th>petal length (cm)</th>\n",
       "      <th>petal width (cm)</th>\n",
       "      <th>label</th>\n",
       "    </tr>\n",
       "  </thead>\n",
       "  <tbody>\n",
       "    <tr>\n",
       "      <th>0</th>\n",
       "      <td>5.1</td>\n",
       "      <td>3.5</td>\n",
       "      <td>1.4</td>\n",
       "      <td>0.2</td>\n",
       "      <td>0</td>\n",
       "    </tr>\n",
       "    <tr>\n",
       "      <th>1</th>\n",
       "      <td>4.9</td>\n",
       "      <td>3.0</td>\n",
       "      <td>1.4</td>\n",
       "      <td>0.2</td>\n",
       "      <td>0</td>\n",
       "    </tr>\n",
       "    <tr>\n",
       "      <th>2</th>\n",
       "      <td>4.7</td>\n",
       "      <td>3.2</td>\n",
       "      <td>1.3</td>\n",
       "      <td>0.2</td>\n",
       "      <td>0</td>\n",
       "    </tr>\n",
       "    <tr>\n",
       "      <th>3</th>\n",
       "      <td>4.6</td>\n",
       "      <td>3.1</td>\n",
       "      <td>1.5</td>\n",
       "      <td>0.2</td>\n",
       "      <td>0</td>\n",
       "    </tr>\n",
       "    <tr>\n",
       "      <th>4</th>\n",
       "      <td>5.0</td>\n",
       "      <td>3.6</td>\n",
       "      <td>1.4</td>\n",
       "      <td>0.2</td>\n",
       "      <td>0</td>\n",
       "    </tr>\n",
       "  </tbody>\n",
       "</table>\n",
       "</div>"
      ],
      "text/plain": [
       "   sepal length (cm)  sepal width (cm)  petal length (cm)  petal width (cm)  \\\n",
       "0                5.1               3.5                1.4               0.2   \n",
       "1                4.9               3.0                1.4               0.2   \n",
       "2                4.7               3.2                1.3               0.2   \n",
       "3                4.6               3.1                1.5               0.2   \n",
       "4                5.0               3.6                1.4               0.2   \n",
       "\n",
       "   label  \n",
       "0      0  \n",
       "1      0  \n",
       "2      0  \n",
       "3      0  \n",
       "4      0  "
      ]
     },
     "execution_count": 8,
     "metadata": {},
     "output_type": "execute_result"
    }
   ],
   "source": [
    "iris_df = pd.DataFrame(data=iris_data,columns=iris.feature_names)\n",
    "iris_df[\"label\"]=iris.target\n",
    "iris_df.head()"
   ]
  },
  {
   "cell_type": "markdown",
   "metadata": {},
   "source": [
    "- train_size = 0.8\n",
    "- test_size = 0.2 => 20%를 테스트 데이터로, 80%를 학습 데이터로 분할\n",
    "- random_state = 11 => 난수 발생 값을 지정\n",
    "- shuffle => 데이터를 미리 섞을 것인가 안 섞을 것인가"
   ]
  },
  {
   "cell_type": "code",
   "execution_count": 12,
   "metadata": {},
   "outputs": [
    {
     "name": "stdout",
     "output_type": "stream",
     "text": [
      "예측정확도  0.933333\n"
     ]
    }
   ],
   "source": [
    "X_train,X_test,y_train,y_test = train_test_split(iris_data,iris.target,test_size = 0.2, random_state=11)\n",
    "df_clf = DecisionTreeClassifier(random_state=11)\n",
    "df_clf.fit(X_train,y_train) # train 데이터를 넣어서 학습을 수행\n",
    "pred = df_clf.predict(X_test) # 예측값\n",
    "\n",
    "from sklearn.metrics import accuracy_score\n",
    "print(\"예측정확도  {0:4f}\".format(accuracy_score(y_test,pred)))"
   ]
  },
  {
   "cell_type": "code",
   "execution_count": 14,
   "metadata": {},
   "outputs": [],
   "source": [
    "from sklearn.datasets import load_digits"
   ]
  },
  {
   "cell_type": "code",
   "execution_count": 15,
   "metadata": {},
   "outputs": [],
   "source": [
    "digits=load_digits()"
   ]
  },
  {
   "cell_type": "code",
   "execution_count": 21,
   "metadata": {
    "scrolled": true
   },
   "outputs": [
    {
     "data": {
      "text/plain": [
       "<matplotlib.image.AxesImage at 0x26104f5b388>"
      ]
     },
     "execution_count": 21,
     "metadata": {},
     "output_type": "execute_result"
    },
    {
     "data": {
      "image/png": "[encoded data removed]",
      "text/plain": [
       "<Figure size 432x288 with 1 Axes>"
      ]
     },
     "metadata": {
      "needs_background": "light"
     },
     "output_type": "display_data"
    }
   ],
   "source": [
    "import matplotlib.pyplot as plt\n",
    "plt.imshow(digits.images[0].astype(\"uint8\"), cmap=\"gray\")"
   ]
  },
  {
   "cell_type": "markdown",
   "metadata": {},
   "source": [
    "## k 폴드 교차 검증(데이터 수가 적을 때 수행하면 됨)\n",
    "1. 데이터 셋을 train data, test data 로 분리\n",
    "2. 전체 data set을 나눌 k 정한다.\n",
    "3. k개의 데이터 폴드로 나누고 train용을 k-1개, test용을 1개로 지정\n",
    "4. k-1개의 train fold에 대해 학습시키고, 1개의 validation fold에 대해 성능측정\n",
    "5. 4번 내용을 k번 반복\n",
    "6. k개의 결과에 대한 평균을 계산  \n",
    "  \n",
    "- 장점 : 모든 데이터 셋을 평가에 활용, 평가에 사용되는 데이터 편중을 막을 수 있음. (특정 평가 데이터 셋에 overfit 되는 것을 방지), 평가 결과에 따라 좀 더 일반화된 모델을 만들 수 있음\n",
    "- 모든 데이터 셋을 훈련에 활용 -> 정확도 향상 시킬 수 있음\n",
    "- 단점 : iteration 횟수가 많기 때문에 모델 훈련/평가 시간이 오래 걸림"
   ]
  },
  {
   "cell_type": "code",
   "execution_count": 31,
   "metadata": {},
   "outputs": [
    {
     "name": "stdout",
     "output_type": "stream",
     "text": [
      "150\n"
     ]
    }
   ],
   "source": [
    "from sklearn.model_selection import KFold\n",
    "import numpy as np\n",
    "\n",
    "# 5개의 폴드 세트로 분리하는 KFold 객체와 폴드 세트별 정확도를 담을 리스트 객체 생성\n",
    "kfold = KFold(n_splits=5) # 5개로 나누는 어떤 모델을 생성한 것임.\n",
    "cv_accuracy = []\n",
    "print(iris.data.shape[0])"
   ]
  },
  {
   "cell_type": "code",
   "execution_count": 61,
   "metadata": {},
   "outputs": [
    {
     "name": "stdout",
     "output_type": "stream",
     "text": [
      "120 50\n",
      "120 40\n",
      "120 20\n",
      "120 40\n",
      "120 50\n"
     ]
    }
   ],
   "source": [
    "# kfold 모델의 split을 이용하여 iris.data(1:4)를 분리시킬 index를 array로 반환\n",
    "# 5개이기 때문에 5개의 train,test zip 제너레이터 형성\n",
    "for train_index,test_index in kfold.split(iris.data):\n",
    "    X_train, X_test = iris.data[train_index],iris.data[test_index]\n",
    "    y_train, y_test = iris.target[train_index], iris.target[test_index]\n",
    "    #print(train_index)\n",
    "    #print(test_index)\n",
    "    print(y_train.shape[0],sum(y_train==1))\n",
    "    df_clf.fit(X_train,y_train)\n",
    "    pred=df_clf.predict(X_test)\n",
    "    \n",
    "    accuracy = accuracy_score(y_test,pred)\n",
    "    \n",
    "    cv_accuracy.append(accuracy)\n"
   ]
  },
  {
   "cell_type": "code",
   "execution_count": 58,
   "metadata": {},
   "outputs": [
    {
     "name": "stdout",
     "output_type": "stream",
     "text": [
      "정확도 : 100.00%\n",
      "정확도 : 96.67%\n",
      "정확도 : 86.67%\n",
      "정확도 : 93.33%\n",
      "정확도 : 83.33%\n",
      "92.00%\n"
     ]
    }
   ],
   "source": [
    "for i in cv_accuracy:\n",
    "    print(\"정확도 : {:.2%}\".format(i))\n",
    "print(\"{:.2%}\".format(np.mean(cv_accuracy)))"
   ]
  },
  {
   "cell_type": "markdown",
   "metadata": {},
   "source": [
    "## Stratified K fold 교차 검증\n",
    "- 불균형한 분포도를 가진 레이블 데이터 집합을 위한 K 폴드 방식\n",
    "    - 특정 레이블 값이 특이하게 많거나 매우 적어서 분포가 한쪽으로 치우치는 경우\n",
    "    - ex) 대출 사기:1건, 정상대출:999건\n",
    "- 원본 데이터의 레이블 분포를 먼저 고려한 뒤, 이 분포와 동일하게 학습과 검정 데이트 셋 분배\n",
    "- 회귀의 결정값은 연속형이기 때문에 결정값이 이산형인 Classification 에서 자주 사용"
   ]
  },
  {
   "cell_type": "code",
   "execution_count": 71,
   "metadata": {},
   "outputs": [],
   "source": [
    "from sklearn.model_selection import StratifiedKFold\n",
    "cv_accuracy = []\n",
    "\n",
    "skf = StratifiedKFold(n_splits=3)\n",
    "for train_index, test_index in skf.split(iris.data,iris.target):\n",
    "    X_train,X_test = iris.data[train_index], iris.data[test_index]\n",
    "    y_train,y_test = iris.target[train_index], iris.target[test_index]\n",
    "    \n",
    "    a=pd.Series(y_train); b=pd.Series(y_test)\n",
    "    #print(a.value_counts())\n",
    "    #print(b.value_counts())\n",
    "    \n",
    "    df_clf.fit(X_train,y_train)\n",
    "    pred=df_clf.predict(X_test)\n",
    "    \n",
    "    cv_accuracy.append(accuracy_score(pred,y_test))"
   ]
  },
  {
   "cell_type": "code",
   "execution_count": 73,
   "metadata": {},
   "outputs": [
    {
     "name": "stdout",
     "output_type": "stream",
     "text": [
      "0.98\n",
      "0.92\n",
      "0.98\n",
      "0.96\n"
     ]
    }
   ],
   "source": [
    "for a in cv_accuracy:\n",
    "    print(a)\n",
    "print(np.mean(cv_accuracy))"
   ]
  },
  {
   "cell_type": "markdown",
   "metadata": {},
   "source": [
    "## cross_val_score\n",
    "- Regression 은 k fold를,\n",
    "- Classification은 stratified k fold 교차 검증을 사용\n",
    "- cross_val_score(estimator, X, y=None, scoring=None, cv=None, n_jobs=1, verbose=0, fit_params=None, pre_dispatch=’2xn_jobs’)\n",
    "- estimator : 사이킷런의 분류 알고리즘 클래스인 Classifier 또는 회귀 알고리즘 클래스인 Regressor을 의미\n",
    "- X : 피처 데이터 세트\n",
    "- Y : 레이블 데이터 세트\n",
    "- scoring : 예측 성능 평가 지표 기술\n",
    "- cv : 교차 검증 폴드 수\n",
    "\n",
    "- 알아서 classification인지 regression인지 판별하여 알아서 k-fold 한번씩 돌리고 정확도를 반환해줌"
   ]
  },
  {
   "cell_type": "code",
   "execution_count": 74,
   "metadata": {},
   "outputs": [],
   "source": [
    "from sklearn.tree import DecisionTreeClassifier\n",
    "from sklearn.model_selection import cross_val_score, cross_validate\n",
    "from sklearn.datasets import load_iris\n",
    "import numpy as np"
   ]
  },
  {
   "cell_type": "code",
   "execution_count": 76,
   "metadata": {},
   "outputs": [
    {
     "name": "stdout",
     "output_type": "stream",
     "text": [
      "[0.98 0.94 0.98]\n",
      "0.9666666666666667\n"
     ]
    }
   ],
   "source": [
    "iris_data = load_iris()\n",
    "df_clf = DecisionTreeClassifier(random_state=156)\n",
    "\n",
    "data=iris_data.data\n",
    "label = iris_data.target\n",
    "\n",
    "#성능 지표는 정확도(accuracy), 교차 검증 세트는 3개\n",
    "scores = cross_val_score(df_clf, data, label, scoring=\"accuracy\", cv=3)\n",
    "print(scores)\n",
    "print(np.mean(scores))"
   ]
  },
  {
   "cell_type": "markdown",
   "metadata": {},
   "source": [
    "|파라미터|하이퍼파라미터|\n",
    "|:-|:-|\n",
    "|매개변수|모델링할 때 사용자가 직접 세팅해주는 값|\n",
    "|모델 내부에서 결정되는 변수 | 정해진 최적의 값 없음|\n",
    "|값은 데이터로부터 정해짐 | 경험적인 방법에 의해 결정됨|\n",
    "|ex)학생들의 키에 대한 평균과 표준편차|ex)knn에서의 k|"
   ]
  },
  {
   "cell_type": "markdown",
   "metadata": {},
   "source": [
    "## GridSearchCV API\n",
    "- GridSearchCV 클래스의 생성자로 들어가는 주요 파라미터\n",
    "- 회귀는 k-fold, 분류는 stratified k-fold\n",
    "- estimator - classifier, regressor, pipeline이 사용될 수 있음\n",
    "- param_grid\n",
    "- key+리스트 값을 가지는 딕셔너리가 주어짐 - estimator의 튜닝을 위해 파라미터명과 사용될 여러 파라미터 값 지정\n",
    "- scoring\n",
    "- 예측 성능을 측정할 평가 방법 지정 - 보통은 사이킷런의 성능 평가 지표를 지정하는 문자열(예:정확도의 경우 ‘accuracy’)로 지정하나 별도의 성능 평가 지표 함수도 지정 可\n",
    "- cv - 교차 검증을 위해 분할되는 학습/테스트 세트의 개수 지정 \n",
    "- refit - 디폴트가 True이며, True로 생성 시 가장 최적의 하이퍼 파라미터를 찾은 뒤 입력된 estimator 객체를 해당 하이퍼 파라미터로 재학습시킴"
   ]
  },
  {
   "cell_type": "code",
   "execution_count": 77,
   "metadata": {},
   "outputs": [],
   "source": [
    "from sklearn.tree import DecisionTreeClassifier\n",
    "from sklearn.model_selection import GridSearchCV\n",
    "from sklearn.model_selection import train_test_split"
   ]
  },
  {
   "cell_type": "code",
   "execution_count": 82,
   "metadata": {},
   "outputs": [],
   "source": [
    "# 데이터를 로딩하고 학습 데이터와 테스트 데이터 분리\n",
    "iris= load_iris()\n",
    "X_train,X_test,y_train,y_test = train_test_split(iris_data.data,\n",
    "                        iris_data.target, test_size=0.2,random_state=121)\n",
    "dtree=DecisionTreeClassifier()\n",
    "# 파라미터를 딕셔너리 형태로 설정\n",
    "parameters = {\"max_depth\":[1,2,3], \"min_samples_split\":[2,3]}"
   ]
  },
  {
   "cell_type": "code",
   "execution_count": 86,
   "metadata": {},
   "outputs": [
    {
     "data": {
      "text/html": [
       "<div>\n",
       "<style scoped>\n",
       "    .dataframe tbody tr th:only-of-type {\n",
       "        vertical-align: middle;\n",
       "    }\n",
       "\n",
       "    .dataframe tbody tr th {\n",
       "        vertical-align: top;\n",
       "    }\n",
       "\n",
       "    .dataframe thead th {\n",
       "        text-align: right;\n",
       "    }\n",
       "</style>\n",
       "<table border=\"1\" class=\"dataframe\">\n",
       "  <thead>\n",
       "    <tr style=\"text-align: right;\">\n",
       "      <th></th>\n",
       "      <th>params</th>\n",
       "      <th>mean_test_score</th>\n",
       "      <th>rank_test_score</th>\n",
       "      <th>split0_test_score</th>\n",
       "      <th>split1_test_score</th>\n",
       "      <th>split2_test_score</th>\n",
       "    </tr>\n",
       "  </thead>\n",
       "  <tbody>\n",
       "    <tr>\n",
       "      <th>0</th>\n",
       "      <td>{'max_depth': 1, 'min_samples_split': 2}</td>\n",
       "      <td>0.700000</td>\n",
       "      <td>5</td>\n",
       "      <td>0.700</td>\n",
       "      <td>0.7</td>\n",
       "      <td>0.70</td>\n",
       "    </tr>\n",
       "    <tr>\n",
       "      <th>1</th>\n",
       "      <td>{'max_depth': 1, 'min_samples_split': 3}</td>\n",
       "      <td>0.700000</td>\n",
       "      <td>5</td>\n",
       "      <td>0.700</td>\n",
       "      <td>0.7</td>\n",
       "      <td>0.70</td>\n",
       "    </tr>\n",
       "    <tr>\n",
       "      <th>2</th>\n",
       "      <td>{'max_depth': 2, 'min_samples_split': 2}</td>\n",
       "      <td>0.958333</td>\n",
       "      <td>3</td>\n",
       "      <td>0.925</td>\n",
       "      <td>1.0</td>\n",
       "      <td>0.95</td>\n",
       "    </tr>\n",
       "    <tr>\n",
       "      <th>3</th>\n",
       "      <td>{'max_depth': 2, 'min_samples_split': 3}</td>\n",
       "      <td>0.958333</td>\n",
       "      <td>3</td>\n",
       "      <td>0.925</td>\n",
       "      <td>1.0</td>\n",
       "      <td>0.95</td>\n",
       "    </tr>\n",
       "    <tr>\n",
       "      <th>4</th>\n",
       "      <td>{'max_depth': 3, 'min_samples_split': 2}</td>\n",
       "      <td>0.975000</td>\n",
       "      <td>1</td>\n",
       "      <td>0.975</td>\n",
       "      <td>1.0</td>\n",
       "      <td>0.95</td>\n",
       "    </tr>\n",
       "    <tr>\n",
       "      <th>5</th>\n",
       "      <td>{'max_depth': 3, 'min_samples_split': 3}</td>\n",
       "      <td>0.975000</td>\n",
       "      <td>1</td>\n",
       "      <td>0.975</td>\n",
       "      <td>1.0</td>\n",
       "      <td>0.95</td>\n",
       "    </tr>\n",
       "  </tbody>\n",
       "</table>\n",
       "</div>"
      ],
      "text/plain": [
       "                                     params  mean_test_score  rank_test_score  \\\n",
       "0  {'max_depth': 1, 'min_samples_split': 2}         0.700000                5   \n",
       "1  {'max_depth': 1, 'min_samples_split': 3}         0.700000                5   \n",
       "2  {'max_depth': 2, 'min_samples_split': 2}         0.958333                3   \n",
       "3  {'max_depth': 2, 'min_samples_split': 3}         0.958333                3   \n",
       "4  {'max_depth': 3, 'min_samples_split': 2}         0.975000                1   \n",
       "5  {'max_depth': 3, 'min_samples_split': 3}         0.975000                1   \n",
       "\n",
       "   split0_test_score  split1_test_score  split2_test_score  \n",
       "0              0.700                0.7               0.70  \n",
       "1              0.700                0.7               0.70  \n",
       "2              0.925                1.0               0.95  \n",
       "3              0.925                1.0               0.95  \n",
       "4              0.975                1.0               0.95  \n",
       "5              0.975                1.0               0.95  "
      ]
     },
     "execution_count": 86,
     "metadata": {},
     "output_type": "execute_result"
    }
   ],
   "source": [
    "grid_dtree = GridSearchCV(dtree,param_grid=parameters, cv=3, refit=True)\n",
    "grid_dtree.fit(X_train,y_train)\n",
    "\n",
    "scores_df = pd.DataFrame(grid_dtree.cv_results_)\n",
    "scores_df[[\"params\",\"mean_test_score\",\"rank_test_score\",\"split0_test_score\",\"split1_test_score\",\"split2_test_score\"]]\n",
    "\n",
    "# params : 수행할 때마다 적용된 개별 하이퍼 파라미터 값\n",
    "# 개별 하이퍼 파라미터별로 CV의 폴딩 테스트 세트에 대해 총 수행한 평가 평균값\n",
    "# rank_test_score : 하이퍼 파라미터별로 성능이 좋은 score 순위를 나타냄,1이 가장 좋음\n"
   ]
  },
  {
   "cell_type": "code",
   "execution_count": 89,
   "metadata": {},
   "outputs": [
    {
     "name": "stdout",
     "output_type": "stream",
     "text": [
      "{'max_depth': 3, 'min_samples_split': 2}\n",
      "0.975\n"
     ]
    }
   ],
   "source": [
    "print(grid_dtree.best_params_)\n",
    "print(grid_dtree.best_score_)"
   ]
  },
  {
   "cell_type": "code",
   "execution_count": 90,
   "metadata": {},
   "outputs": [
    {
     "name": "stdout",
     "output_type": "stream",
     "text": [
      "0.9666666666666667\n"
     ]
    }
   ],
   "source": [
    "# GridSearchCV의 refit으로 이미 학습된 estimator 반환\n",
    "estimator = grid_dtree.best_estimator_\n",
    "# GridSearchCV의 best_estimator_은 이미 최적학습이 됐으므로 별도 학습 필요X\n",
    "pred = estimator.predict(X_test)\n",
    "print(accuracy_score(y_test,pred))"
   ]
  },
  {
   "cell_type": "code",
   "execution_count": null,
   "metadata": {},
   "outputs": [],
   "source": []
  }
 ],
 "metadata": {
  "kernelspec": {
   "display_name": "Python 3",
   "language": "python",
   "name": "python3"
  },
  "language_info": {
   "codemirror_mode": {
    "name": "ipython",
    "version": 3
   },
   "file_extension": ".py",
   "mimetype": "text/x-python",
   "name": "python",
   "nbconvert_exporter": "python",
   "pygments_lexer": "ipython3",
   "version": "3.7.6"
  }
 },
 "nbformat": 4,
 "nbformat_minor": 4
}
