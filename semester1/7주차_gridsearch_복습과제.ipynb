{
 "cells": [
  {
   "cell_type": "markdown",
   "metadata": {},
   "source": [
    "# 문제 1"
   ]
  },
  {
   "cell_type": "markdown",
   "metadata": {},
   "source": [
    "## 지도 학습과 비지도 학습의 알고리즘과 특징에 대해 서술하시오."
   ]
  },
  {
   "cell_type": "markdown",
   "metadata": {},
   "source": [
    "- 지도학습이란 feature data 와 실제 결과값 모두 입력값으로 사용하여, 알고리즘을 training 시킴으로써 최적화 시키는 것이다.\n",
    "- 비지도학습이란 실제 결과값 없이 data만으로 알고리즘이 입력값의 특징을 추출하여 알아서 학습하는 것이다."
   ]
  },
  {
   "cell_type": "markdown",
   "metadata": {},
   "source": [
    "# 문제 2\n",
    "### (1) sklearn 패키지에 내장된 breaset_cancer() 데이터를 이용하여\n",
    "### 학습데이터와 테스트 데이터(7:3 비율)로 분할하세요.\n",
    "\n",
    "- 분할에 필요한 모듈들은 직접 import 하세요\n",
    "- 분할 시 random_state은 본인 학번의 뒷 4자리 이용"
   ]
  },
  {
   "cell_type": "code",
   "execution_count": 4,
   "metadata": {},
   "outputs": [],
   "source": [
    "from sklearn.datasets import load_breast_cancer\n",
    "from sklearn.model_selection import train_test_split"
   ]
  },
  {
   "cell_type": "code",
   "execution_count": 10,
   "metadata": {},
   "outputs": [],
   "source": [
    "X = load_breast_cancer().data\n",
    "y = load_breast_cancer().target"
   ]
  },
  {
   "cell_type": "code",
   "execution_count": 11,
   "metadata": {},
   "outputs": [],
   "source": [
    "X_train,X_test,y_train,y_test=train_test_split(X,y, test_size=0.3)"
   ]
  },
  {
   "cell_type": "markdown",
   "metadata": {},
   "source": [
    "### (2) 분할된 train set의 크기는 얼마인지 출력하세요 (정답은 398이 나와야 함)"
   ]
  },
  {
   "cell_type": "code",
   "execution_count": 12,
   "metadata": {},
   "outputs": [
    {
     "data": {
      "text/plain": [
       "(398, 30)"
      ]
     },
     "execution_count": 12,
     "metadata": {},
     "output_type": "execute_result"
    }
   ],
   "source": [
    "X_train.shape"
   ]
  },
  {
   "cell_type": "markdown",
   "metadata": {},
   "source": [
    "## 문제 3\n",
    "### 문제 2에서 분할한 학습데이터를 기반으로 DecisionTreeClassifier를 학습시키고\n",
    "### 이 모델의 예측 정확도를 출력하세요."
   ]
  },
  {
   "cell_type": "code",
   "execution_count": 15,
   "metadata": {},
   "outputs": [
    {
     "name": "stdout",
     "output_type": "stream",
     "text": [
      "0.93\n"
     ]
    }
   ],
   "source": [
    "from sklearn.tree import DecisionTreeClassifier\n",
    "from sklearn.metrics import accuracy_score\n",
    "df_clf = DecisionTreeClassifier(random_state=11)\n",
    "df_clf.fit(X_train,y_train)\n",
    "predicted = df_clf.predict(X_test)\n",
    "print(\"{0:.2f}\".format(accuracy_score(y_test,predicted)))"
   ]
  },
  {
   "cell_type": "markdown",
   "metadata": {},
   "source": [
    "## 문제 4\n",
    "### (1) for 문을 이용하여 breast_cancer 데이터에 대해  Stratified K Fold를 수행하세요. (K = 5)\n",
    "- for 문을 이용한 Stratified K fold\n",
    "- 출력 1) 교재 109p를 참고하여 학습, 검증 데이터의 분포를 확인\n",
    "- 출력 2) 교재 111p를 참고하여 각 교차 검증의 정확도와 각 학습, 검증 데이터 크기, 검증 세트 인덱스를 확인"
   ]
  },
  {
   "cell_type": "code",
   "execution_count": 49,
   "metadata": {},
   "outputs": [],
   "source": [
    "# 출력 1) 교재 109p를 참고하여 학습, 검증 데이터의 분포를 확인\n",
    "import pandas as pd\n",
    "from sklearn.model_selection import StratifiedKFold\n",
    "from sklearn.model_selection import KFold\n",
    "import pandas as pd\n",
    "kfold = KFold(n_splits=5)\n",
    "skf = StratifiedKFold(n_splits=5)"
   ]
  },
  {
   "cell_type": "code",
   "execution_count": 47,
   "metadata": {},
   "outputs": [
    {
     "name": "stdout",
     "output_type": "stream",
     "text": [
      "1    311\n",
      "0    144\n",
      "dtype: int64\n",
      "0    68\n",
      "1    46\n",
      "dtype: int64\n",
      "1    292\n",
      "0    163\n",
      "dtype: int64\n",
      "1    65\n",
      "0    49\n",
      "dtype: int64\n",
      "1    283\n",
      "0    172\n",
      "dtype: int64\n",
      "1    74\n",
      "0    40\n",
      "dtype: int64\n",
      "1    272\n",
      "0    183\n",
      "dtype: int64\n",
      "1    85\n",
      "0    29\n",
      "dtype: int64\n",
      "1    270\n",
      "0    186\n",
      "dtype: int64\n",
      "1    87\n",
      "0    26\n",
      "dtype: int64\n"
     ]
    }
   ],
   "source": [
    "cv_accuracy=[]\n",
    "for train_index, test_index in kfold.split(X):\n",
    "    print(pd.Series(y[train_index]).value_counts())\n",
    "    print(pd.Series(y[test_index]).value_counts())"
   ]
  },
  {
   "cell_type": "code",
   "execution_count": 52,
   "metadata": {},
   "outputs": [
    {
     "name": "stdout",
     "output_type": "stream",
     "text": [
      "1    286\n",
      "0    169\n",
      "dtype: int64\n",
      "1    71\n",
      "0    43\n",
      "dtype: int64\n",
      "1    286\n",
      "0    169\n",
      "dtype: int64\n",
      "1    71\n",
      "0    43\n",
      "dtype: int64\n",
      "1    285\n",
      "0    170\n",
      "dtype: int64\n",
      "1    72\n",
      "0    42\n",
      "dtype: int64\n",
      "1    285\n",
      "0    170\n",
      "dtype: int64\n",
      "1    72\n",
      "0    42\n",
      "dtype: int64\n",
      "1    286\n",
      "0    170\n",
      "dtype: int64\n",
      "1    71\n",
      "0    42\n",
      "dtype: int64\n"
     ]
    }
   ],
   "source": [
    "for train_index, test_index in skf.split(X,y):\n",
    "    print(pd.Series(y[train_index]).value_counts())\n",
    "    print(pd.Series(y[test_index]).value_counts())"
   ]
  },
  {
   "cell_type": "code",
   "execution_count": 59,
   "metadata": {},
   "outputs": [
    {
     "name": "stdout",
     "output_type": "stream",
     "text": [
      "정확도 : 0.91\n",
      "정확도 : 0.90\n",
      "정확도 : 0.93\n",
      "정확도 : 0.94\n",
      "정확도 : 0.89\n"
     ]
    }
   ],
   "source": [
    "# 출력 2) 교재 111p를 참고하여 각 교차 검증의 정확도와 각 학습, 검증 데이터 크기, 검증 세트 인덱스를 확인\n",
    "import numpy as np\n",
    "for train_index, test_index in skf.split(X,y):\n",
    "    x_train,x_test,y_train,y_test=X[train_index],X[test_index],y[train_index],y[test_index]\n",
    "    df_clf.fit(x_train,y_train)\n",
    "    predicted = df_clf.predict(x_test)\n",
    "    print(\"정확도 : {:.2f}\".format(accuracy_score(predicted,y_test)))\n",
    "    #print(test_index)"
   ]
  },
  {
   "cell_type": "markdown",
   "metadata": {},
   "source": [
    "### (2) cross_val_score()를 이용하여 breast_cancer 데이터에 대해  Stratified K Fold를 수행하세요. (K = 5)\n",
    "- 출력 1) 교차 검증별 정확도: [0.XXXX, 0.XXXX, 0.XXXX, 0.XXXX]\n",
    "- 출력 2) 평균 검증 정확도: 0.XXXX"
   ]
  },
  {
   "cell_type": "code",
   "execution_count": 60,
   "metadata": {},
   "outputs": [],
   "source": [
    "from sklearn.model_selection import cross_val_score, cross_validate"
   ]
  },
  {
   "cell_type": "code",
   "execution_count": 71,
   "metadata": {},
   "outputs": [
    {
     "name": "stdout",
     "output_type": "stream",
     "text": [
      "출력 검증별 정확도 : [0.9123 0.9035 0.9298 0.9386 0.8938]\n",
      "평균 검증 정확도 : 0.9156\n"
     ]
    }
   ],
   "source": [
    "scores=np.round(cross_val_score(df_clf,X,y,scoring=\"accuracy\",cv=5),4)\n",
    "print(\"출력 검증별 정확도 : {}\".format(scores))\n",
    "print(f\"평균 검증 정확도 : {np.round(np.mean(scores),4)}\")"
   ]
  },
  {
   "cell_type": "markdown",
   "metadata": {},
   "source": [
    "## 문제 5\n",
    "### (1) GridSearchCV 를 이용해 결정트리 알고리즘의 최적의 파라미터 조합을 찾으세요.\n",
    "- 학습 데이터와 테스트 데이터를 7:3 으로 나누세요.\n",
    "- parameter: max_depth은 [1, 2, 3, 4] / min_samples_split은 [2, 3]\n",
    "- 아래와 같이 최적의 조합을 나타내는 표를 찾으세요.\n",
    "- Stratified 5 fold로 진행하세요. (즉, K=5)"
   ]
  },
  {
   "cell_type": "markdown",
   "metadata": {},
   "source": [
    "params|mean_test_score|rank_test_score|split0_test_score|split1_test_score|split2_test_score|\n",
    "    :-:|:-:|:-:|:-:|:-:|:-:|\n",
    "    {'max_depth': 1, 'min_samples_split': 2}|0.891960|7|0.894737|0.872180|0.909091|\n",
    "    ...|...|...|...|...|...|\n",
    "    ...|...|...|...|...|...|\n",
    "    ...|...|...|...|...|...|\n",
    "    {'max_depth': 4, 'min_samples_split': 3}|0.899497|3|0.879699|0.887218|0.931818|"
   ]
  },
  {
   "cell_type": "code",
   "execution_count": 73,
   "metadata": {},
   "outputs": [],
   "source": [
    "from sklearn.datasets import load_iris\n",
    "from sklearn.tree import DecisionTreeClassifier\n",
    "from sklearn.model_selection import GridSearchCV"
   ]
  },
  {
   "cell_type": "code",
   "execution_count": 74,
   "metadata": {},
   "outputs": [],
   "source": [
    "import pandas as pd\n",
    "X_train,X_test,y_train,y_test = train_test_split(X,y,test_size=0.3)\n",
    "par = {\"max_depth\":[1,2,3,4],\"min_samples_split\":[2,3]}\n",
    "grid_tree=GridSearchCV(df_clf,param_grid=par,cv=5,refit=True)\n",
    "grid_tree.fit(X_train,y_train)\n",
    "scores=pd.DataFrame(grid_tree.cv_results_)"
   ]
  },
  {
   "cell_type": "code",
   "execution_count": 76,
   "metadata": {},
   "outputs": [
    {
     "data": {
      "text/html": [
       "<div>\n",
       "<style scoped>\n",
       "    .dataframe tbody tr th:only-of-type {\n",
       "        vertical-align: middle;\n",
       "    }\n",
       "\n",
       "    .dataframe tbody tr th {\n",
       "        vertical-align: top;\n",
       "    }\n",
       "\n",
       "    .dataframe thead th {\n",
       "        text-align: right;\n",
       "    }\n",
       "</style>\n",
       "<table border=\"1\" class=\"dataframe\">\n",
       "  <thead>\n",
       "    <tr style=\"text-align: right;\">\n",
       "      <th></th>\n",
       "      <th>params</th>\n",
       "      <th>mean_test_score</th>\n",
       "      <th>rank_test_score</th>\n",
       "      <th>split0_test_score</th>\n",
       "      <th>split1_test_score</th>\n",
       "      <th>split2_test_score</th>\n",
       "    </tr>\n",
       "  </thead>\n",
       "  <tbody>\n",
       "    <tr>\n",
       "      <th>0</th>\n",
       "      <td>{'max_depth': 1, 'min_samples_split': 2}</td>\n",
       "      <td>0.929684</td>\n",
       "      <td>1</td>\n",
       "      <td>0.95</td>\n",
       "      <td>0.9000</td>\n",
       "      <td>0.9250</td>\n",
       "    </tr>\n",
       "    <tr>\n",
       "      <th>1</th>\n",
       "      <td>{'max_depth': 1, 'min_samples_split': 3}</td>\n",
       "      <td>0.929684</td>\n",
       "      <td>1</td>\n",
       "      <td>0.95</td>\n",
       "      <td>0.9000</td>\n",
       "      <td>0.9250</td>\n",
       "    </tr>\n",
       "    <tr>\n",
       "      <th>2</th>\n",
       "      <td>{'max_depth': 2, 'min_samples_split': 2}</td>\n",
       "      <td>0.929589</td>\n",
       "      <td>3</td>\n",
       "      <td>0.95</td>\n",
       "      <td>0.9375</td>\n",
       "      <td>0.9250</td>\n",
       "    </tr>\n",
       "    <tr>\n",
       "      <th>3</th>\n",
       "      <td>{'max_depth': 2, 'min_samples_split': 3}</td>\n",
       "      <td>0.929589</td>\n",
       "      <td>3</td>\n",
       "      <td>0.95</td>\n",
       "      <td>0.9375</td>\n",
       "      <td>0.9250</td>\n",
       "    </tr>\n",
       "    <tr>\n",
       "      <th>4</th>\n",
       "      <td>{'max_depth': 3, 'min_samples_split': 2}</td>\n",
       "      <td>0.927120</td>\n",
       "      <td>5</td>\n",
       "      <td>0.95</td>\n",
       "      <td>0.9125</td>\n",
       "      <td>0.9250</td>\n",
       "    </tr>\n",
       "    <tr>\n",
       "      <th>5</th>\n",
       "      <td>{'max_depth': 3, 'min_samples_split': 3}</td>\n",
       "      <td>0.927120</td>\n",
       "      <td>5</td>\n",
       "      <td>0.95</td>\n",
       "      <td>0.9125</td>\n",
       "      <td>0.9250</td>\n",
       "    </tr>\n",
       "    <tr>\n",
       "      <th>6</th>\n",
       "      <td>{'max_depth': 4, 'min_samples_split': 2}</td>\n",
       "      <td>0.924462</td>\n",
       "      <td>7</td>\n",
       "      <td>0.95</td>\n",
       "      <td>0.9500</td>\n",
       "      <td>0.9375</td>\n",
       "    </tr>\n",
       "    <tr>\n",
       "      <th>7</th>\n",
       "      <td>{'max_depth': 4, 'min_samples_split': 3}</td>\n",
       "      <td>0.924462</td>\n",
       "      <td>7</td>\n",
       "      <td>0.95</td>\n",
       "      <td>0.9500</td>\n",
       "      <td>0.9375</td>\n",
       "    </tr>\n",
       "  </tbody>\n",
       "</table>\n",
       "</div>"
      ],
      "text/plain": [
       "                                     params  mean_test_score  rank_test_score  \\\n",
       "0  {'max_depth': 1, 'min_samples_split': 2}         0.929684                1   \n",
       "1  {'max_depth': 1, 'min_samples_split': 3}         0.929684                1   \n",
       "2  {'max_depth': 2, 'min_samples_split': 2}         0.929589                3   \n",
       "3  {'max_depth': 2, 'min_samples_split': 3}         0.929589                3   \n",
       "4  {'max_depth': 3, 'min_samples_split': 2}         0.927120                5   \n",
       "5  {'max_depth': 3, 'min_samples_split': 3}         0.927120                5   \n",
       "6  {'max_depth': 4, 'min_samples_split': 2}         0.924462                7   \n",
       "7  {'max_depth': 4, 'min_samples_split': 3}         0.924462                7   \n",
       "\n",
       "   split0_test_score  split1_test_score  split2_test_score  \n",
       "0               0.95             0.9000             0.9250  \n",
       "1               0.95             0.9000             0.9250  \n",
       "2               0.95             0.9375             0.9250  \n",
       "3               0.95             0.9375             0.9250  \n",
       "4               0.95             0.9125             0.9250  \n",
       "5               0.95             0.9125             0.9250  \n",
       "6               0.95             0.9500             0.9375  \n",
       "7               0.95             0.9500             0.9375  "
      ]
     },
     "execution_count": 76,
     "metadata": {},
     "output_type": "execute_result"
    }
   ],
   "source": [
    "scores[[\"params\",\"mean_test_score\",\"rank_test_score\",\"split0_test_score\",\"split1_test_score\",\"split2_test_score\"]]"
   ]
  },
  {
   "cell_type": "markdown",
   "metadata": {},
   "source": [
    "### (2)GridSearchCV를 통해 학습한 estimator를 이용하여 테스트 데이터 셋에 대해 성능을 평가하세요.\n",
    "- 아래의 두 가지를 출력하세요.\n",
    "- 출력 1) 테스트 데이터 세트 정확도: 0.XXXX\n",
    "- 출력 2) GridSearchCV 최적 파라미터: {'max_depth': ?, 'min_samples_split': ?}  <- 물음표 자리에는 최적 파라미터 값이 들어가면 됩니다."
   ]
  },
  {
   "cell_type": "code",
   "execution_count": 78,
   "metadata": {},
   "outputs": [
    {
     "name": "stdout",
     "output_type": "stream",
     "text": [
      "0.8830409356725146\n"
     ]
    }
   ],
   "source": [
    "predict = grid_tree.best_estimator_\n",
    "predicted = predict.predict(X_test)\n",
    "print(accuracy_score(predicted,y_test))"
   ]
  },
  {
   "cell_type": "code",
   "execution_count": 82,
   "metadata": {},
   "outputs": [
    {
     "name": "stdout",
     "output_type": "stream",
     "text": [
      "{'max_depth': 1, 'min_samples_split': 2}\n",
      "0.9296835443037976\n"
     ]
    }
   ],
   "source": [
    "print(grid_tree.best_params_)\n",
    "print(grid_tree.best_score_)"
   ]
  }
 ],
 "metadata": {
  "kernelspec": {
   "display_name": "Python 3",
   "language": "python",
   "name": "python3"
  },
  "language_info": {
   "codemirror_mode": {
    "name": "ipython",
    "version": 3
   },
   "file_extension": ".py",
   "mimetype": "text/x-python",
   "name": "python",
   "nbconvert_exporter": "python",
   "pygments_lexer": "ipython3",
   "version": "3.7.6"
  }
 },
 "nbformat": 4,
 "nbformat_minor": 2
}
