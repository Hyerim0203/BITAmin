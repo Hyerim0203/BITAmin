{
 "cells": [
  {
   "cell_type": "markdown",
   "metadata": {},
   "source": [
    "# 제목\n",
    "## 제목\n",
    "*기울기*\n",
    "**진하게**\n",
    "\n",
    "`비타민` `5기`\n",
    "\n",
    "# 순서 없는 리스트\n",
    "- 123\n",
    "- 123\n",
    "  - 123\n",
    "    - 123\n",
    "    \n",
    "    \n",
    "# 순서 있는 리스트\n",
    "\n",
    "1. 순서 있는 리스트\n",
    "1. 순서있\n",
    "1. ㅇㄹㅇ\n",
    "\n",
    "# 인용구\n",
    "> 인용구 만들기\n",
    "\n",
    "# 표만들기\n",
    "이름|전화번호|성별\n",
    "-|-|-  \n",
    "비타민|1234|남\n",
    "이혜림|1234|남\n",
    "\n",
    "-|-|- 이걸 꼭 해줘야지 표 형식이 됨"
   ]
  },
  {
   "cell_type": "markdown",
   "metadata": {},
   "source": [
    "---\n",
    "!.[이미지설명].(https://pds.joins.com/news/component/htmlphoto_mmdata/201911/15/204986cb-6c18-4c07-b7ec-964029adfa49.jpg)\n",
    ".[링크설명].(http://naver.com)"
   ]
  },
  {
   "cell_type": "markdown",
   "metadata": {},
   "source": [
    "## 단축키\n",
    "\n",
    "shift+tab => 함수 인자에 대한 설명을 보여줌\n",
    "ctrl+/ => 주석처리 해줌"
   ]
  },
  {
   "cell_type": "code",
   "execution_count": 7,
   "metadata": {},
   "outputs": [
    {
     "name": "stdout",
     "output_type": "stream",
     "text": [
      "4dd9%%"
     ]
    }
   ],
   "source": [
    "print(4,9,sep=\"dd\",end=\"%%\")"
   ]
  },
  {
   "cell_type": "code",
   "execution_count": 11,
   "metadata": {},
   "outputs": [],
   "source": [
    "a=None\n",
    "b=3\n",
    "c=\"ㄱ\""
   ]
  },
  {
   "cell_type": "code",
   "execution_count": 14,
   "metadata": {},
   "outputs": [
    {
     "name": "stdout",
     "output_type": "stream",
     "text": [
      "3는 ㄱ이다\n",
      "3는 ㄱ이다\n",
      "ㄱ은 3이다\n"
     ]
    }
   ],
   "source": [
    "print(f\"{b}는 {c}이다\")\n",
    "print(\"{}는 {}이다\".format(b,c))\n",
    "print(\"{1}은 {0}이다\".format(b,c))\n"
   ]
  },
  {
   "cell_type": "code",
   "execution_count": 17,
   "metadata": {},
   "outputs": [
    {
     "data": {
      "text/plain": [
       "'1o'"
      ]
     },
     "execution_count": 17,
     "metadata": {},
     "output_type": "execute_result"
    }
   ],
   "source": [
    "\"ro\".replace(\"r\",\"1\") #리스트에서는 사용할 수 없음"
   ]
  },
  {
   "cell_type": "code",
   "execution_count": 18,
   "metadata": {},
   "outputs": [
    {
     "data": {
      "text/plain": [
       "['r', 'rrrdf', 'd']"
      ]
     },
     "execution_count": 18,
     "metadata": {},
     "output_type": "execute_result"
    }
   ],
   "source": [
    "\"rorrrdfod\".split(\"o\")"
   ]
  },
  {
   "cell_type": "code",
   "execution_count": 20,
   "metadata": {},
   "outputs": [
    {
     "name": "stdout",
     "output_type": "stream",
     "text": [
      "[1, 3]\n"
     ]
    }
   ],
   "source": [
    "a=[1,3,3]\n",
    "a.remove(3)\n",
    "a."
   ]
  },
  {
   "cell_type": "code",
   "execution_count": null,
   "metadata": {},
   "outputs": [],
   "source": [
    "n=int(input())\n",
    "reg=[]\n",
    "for i in range(n):\n",
    "    a=map(int,input().split())\n",
    "    reg.append(a)\n",
    "    \n",
    "num=0\n",
    "\n",
    "def divide(x,k):\n",
    "    reg=[]\n",
    "    for idx, i in enumerate(x):\n",
    "        a=i[:k]\n",
    "        b=i[k:]\n",
    "        reg[num]=reg[2*num]+a\n",
    "        reg[num+1]=reg[2*num+1]+a\n",
    "\n",
    "        \n",
    "while True:\n",
    "    for idx, i in enumerate(reg): \n",
    "        if k==i:\n",
    "            pass\n",
    "        elif k!=i:\n",
    "            reg\n",
    "        if idx==0:\n",
    "            k=i\n",
    "            continue\n",
    "        k=i\n",
    "        "
   ]
  },
  {
   "cell_type": "code",
   "execution_count": 24,
   "metadata": {},
   "outputs": [],
   "source": [
    "g=lambda x,y:x+y"
   ]
  },
  {
   "cell_type": "code",
   "execution_count": 22,
   "metadata": {},
   "outputs": [
    {
     "data": {
      "text/plain": [
       "3"
      ]
     },
     "execution_count": 22,
     "metadata": {},
     "output_type": "execute_result"
    }
   ],
   "source": [
    "g(1,2)"
   ]
  },
  {
   "cell_type": "code",
   "execution_count": 23,
   "metadata": {},
   "outputs": [],
   "source": [
    "a=[1,2,3]"
   ]
  },
  {
   "cell_type": "code",
   "execution_count": 25,
   "metadata": {},
   "outputs": [
    {
     "data": {
      "text/plain": [
       "[1, 2, 3, 1, 2, 3]"
      ]
     },
     "execution_count": 25,
     "metadata": {},
     "output_type": "execute_result"
    }
   ],
   "source": [
    "g(a,a)"
   ]
  },
  {
   "cell_type": "code",
   "execution_count": 27,
   "metadata": {},
   "outputs": [],
   "source": [
    "\n",
    "import numpy as np"
   ]
  },
  {
   "cell_type": "code",
   "execution_count": null,
   "metadata": {},
   "outputs": [],
   "source": []
  }
 ],
 "metadata": {
  "kernelspec": {
   "display_name": "Python 3",
   "language": "python",
   "name": "python3"
  },
  "language_info": {
   "codemirror_mode": {
    "name": "ipython",
    "version": 3
   },
   "file_extension": ".py",
   "mimetype": "text/x-python",
   "name": "python",
   "nbconvert_exporter": "python",
   "pygments_lexer": "ipython3",
   "version": "3.6.5"
  }
 },
 "nbformat": 4,
 "nbformat_minor": 2
}
