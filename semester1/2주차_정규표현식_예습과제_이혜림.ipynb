{
 "cells": [
  {
   "cell_type": "markdown",
   "metadata": {},
   "source": [
    "## 정규표현식"
   ]
  },
  {
   "cell_type": "code",
   "execution_count": 181,
   "metadata": {},
   "outputs": [
    {
     "name": "stdout",
     "output_type": "stream",
     "text": [
      "None\n",
      "<_sre.SRE_Match object; span=(0, 3), match='abc'>\n",
      "<_sre.SRE_Match object; span=(1, 5), match='1121'>\n",
      "<_sre.SRE_Match object; span=(0, 1), match='\\n'>\n",
      "<_sre.SRE_Match object; span=(0, 4), match='abcd'>\n"
     ]
    }
   ],
   "source": [
    "import re\n",
    "#re.search(정규표현식, 찾을 문자열 대상)\n",
    "m = re.search(r\"abc\", \"123ab cdef\") #띄어쓰기를 기준으로 찾음\n",
    "print(m)\n",
    "\n",
    "print(re.search(r\"abc\",\"abcabc\"))   # 최초로 매칭되는 패턴만 반환\n",
    "\n",
    "m = re.search(r\"\\d\\d\\d\\w\", \"d112119\")\n",
    "print(m)\n",
    "\n",
    "print(re.search(r\"\\D\",\"\\n\"))\n",
    "\n",
    "m = re.search(r\"..\\w\\w\", \"abcd\")\n",
    "print(m)\n",
    "\n",
    "# \\d = 모든 숫자 중에 하나[0-9], \\w = 모든 문자, 숫자 중에 하나[0-9A-Za-z], . = 특수문자까자 포함한 \\n을 제외한 것 중에 하나\n",
    "# \\D = 숫자가 아닌 문자 [^0-9] => 특수문자 포함,공백 포함 \\W = 모든 문자, 숫자가 아닌것, 특수문자[^0-9A-Za-z] / 공백 포함\n",
    "# \\s = 공백문자(탭,띄어쓰기, 엔터) # \\S = 공백이 아닌 문자\n",
    "\n",
    "# \\. [.] [+] [*] \\\\ [?] 은 문자 그대로 작동"
   ]
  },
  {
   "cell_type": "code",
   "execution_count": 200,
   "metadata": {},
   "outputs": [
    {
     "name": "stdout",
     "output_type": "stream",
     "text": [
      "<_sre.SRE_Match object; span=(0, 1), match='2'>\n"
     ]
    }
   ],
   "source": [
    "print(re.search(r\"[0-9]\",\"2345\")) #[] 는 하나의 문자 자체에 대응되는 것임!\n"
   ]
  },
  {
   "cell_type": "code",
   "execution_count": 189,
   "metadata": {},
   "outputs": [
    {
     "name": "stdout",
     "output_type": "stream",
     "text": [
      "<_sre.SRE_Match object; span=(0, 13), match='980203-235353'>\n",
      "['980203-235353', '980204-124']\n",
      "None\n",
      "<_sre.SRE_Match object; span=(0, 13), match='980203-235353'>\n",
      "['980203-235353', '980204-124']\n",
      "<_sre.SRE_Match object; span=(0, 13), match='980203-235353'>\n",
      "<_sre.SRE_Match object; span=(0, 13), match='980203-235353'>\n"
     ]
    }
   ],
   "source": [
    "print(re.search(\"[\\d-]+-[\\d]+\",\"980203-235353 haha 980204-124 hehehe\"))\n",
    "print(re.findall(\"[\\d-]+-[\\d]+\",\"980203-235353 haha 980204-124 hehehe\"))\n",
    "print(re.match(\"[\\d-]+-[\\d]+\",\"e980203-235353 haha 980204-124 hehehe\"))\n",
    "print(re.match(\"[\\d-]+-[\\d]+\",\"980203-235353 haha 980204-124 hehehe\"))\n",
    "com = re.compile(\"[\\d-]+-[\\d]+\")\n",
    "print(com.findall(\"980203-235353 haha 980204-124 hehehe\"))\n",
    "print(com.match(\"980203-235353 haha 980204-124 hehehe\"))\n",
    "print(com.search(\"980203-235353 haha 980204-124 hehehe\"))"
   ]
  },
  {
   "cell_type": "markdown",
   "metadata": {},
   "source": [
    "### $이 맨 마지막에 쓰이면 무조건 맨 뒤에서부터 검색, 맨 뒤의 위치가 아닐 땐 그냥 문자열\n",
    "### ^이 맨앞에  쓰이면 무조건 앞에서부터, 맨앞의 위치가 아닐 땐 그냥 문자열\n"
   ]
  },
  {
   "cell_type": "markdown",
   "metadata": {},
   "source": [
    "### 반복  \n",
    "- \"+\" = 한번 이상 반복 될때  \n",
    "re.search(\"ca+\",\"c\") => None  \n",
    "- \"*\" = 0번 이상 반복 될때  \n",
    "re.search(\"ca*\",\"c\") => c  \n",
    "\n",
    "- ? = 앞문자가 있어도 되고 없어도 된다. 즉 0번이나 1번 반복될 때  \n",
    "re.search(\"ca\",\"c\") = > c  "
   ]
  },
  {
   "cell_type": "code",
   "execution_count": 191,
   "metadata": {},
   "outputs": [
    {
     "name": "stdout",
     "output_type": "stream",
     "text": [
      "<_sre.SRE_Match object; span=(2, 6), match='bana'>\n",
      "None\n",
      "None\n",
      "<_sre.SRE_Match object; span=(0, 8), match='baaafdfa'>\n",
      "<_sre.SRE_Match object; span=(0, 7), match='dddddfd'>\n",
      "<_sre.SRE_Match object; span=(2, 6), match='bana'>\n"
     ]
    }
   ],
   "source": [
    "print(re.search(r\"b[\\w]+a\",\"cabana\"))\n",
    "\n",
    "print(re.search(r\"abcd+end\",\"abcendenddddend\")) # 1번 이상의 반복\n",
    "print(re.search(r\"^b\\w+a\",\"cabana\")) #무조건 맨앞에서 부터 일치하지 않으면 None 반환\n",
    "print(re.search(r\"^b\\w+a\",\"baaafdfa\")) \n",
    "print(re.search(r\"d+dfd\",\"dddddfd\"))\n",
    "# + 는 앞에꺼와 동일한 것이라는 의미, 몇개든 상관없음. 동일하기만 하면 됨. 뒤에꼐 나오는 맨 마지막까지 까지 해줌\n",
    "# Maximum 하게 작동\n",
    "\n",
    "print(re.search(r\"b\\w+a$\", \"cabana\"))"
   ]
  },
  {
   "cell_type": "code",
   "execution_count": 190,
   "metadata": {},
   "outputs": [
    {
     "name": "stdout",
     "output_type": "stream",
     "text": [
      "<_sre.SRE_Match object; span=(2, 6), match='bana'>\n",
      "<_sre.SRE_Match object; span=(0, 4), match='abce'>\n",
      "None\n",
      "<_sre.SRE_Match object; span=(0, 8), match='baaafdfa'>\n",
      "<_sre.SRE_Match object; span=(0, 7), match='dddddfd'>\n",
      "<_sre.SRE_Match object; span=(2, 6), match='bana'>\n"
     ]
    }
   ],
   "source": [
    "print(re.search(r\"b\\w*a\",\"cabana\"))\n",
    "\n",
    "print(re.search(r\"abcd*e\",\"abcedededdd\")) # 0번 이상의 반복\n",
    "print(re.search(r\"^b\\w*a\",\"cabana\")) #무조건 맨앞에서 부터 일치하지 않으면 None 반환\n",
    "print(re.search(r\"^b\\w*a\",\"baaafdfa\")) \n",
    "print(re.search(r\"d*dfd\",\"dddddfd\"))\n",
    "# * 는 앞에꺼와 동일한 것이라는 의미, 몇개든 상관없음. 동일하기만 하면 됨. 뒤에꼐 나오는 맨 마지막까지 까지 해줌\n",
    "# Maximum 하게 작동\n",
    "\n",
    "print(re.search(r\"b\\w*a$\", \"cabana\"))"
   ]
  },
  {
   "cell_type": "code",
   "execution_count": 192,
   "metadata": {},
   "outputs": [
    {
     "name": "stdout",
     "output_type": "stream",
     "text": [
      "<_sre.SRE_Match object; span=(2, 4), match='ba'>\n",
      "None\n",
      "None\n",
      "<_sre.SRE_Match object; span=(0, 3), match='baa'>\n",
      "<_sre.SRE_Match object; span=(3, 7), match='ddfd'>\n",
      "None\n"
     ]
    }
   ],
   "source": [
    "print(re.search(r\"b\\w?a\",\"cabana\"))\n",
    "\n",
    "print(re.search(r\"abcd?e\",\"abcdddedededdd\")) # 0번이나 1번 반복에 대해서 가능.\n",
    "print(re.search(r\"^b\\w?a\",\"cabana\")) #무조건 맨앞에서 부터 일치하지 않으면 None 반환\n",
    "print(re.search(r\"^b\\w?a\",\"baaafdfa\")) \n",
    "print(re.search(r\"d?dfd\",\"dddddfd\"))\n",
    "# ? 는 앞에꺼와 동일한 것이라는 의미, 몇개든 상관없음. 동일하기만 하면 됨. 뒤에꼐 나오는 맨 마지막까지 까지 해줌\n",
    "# Maximum 하게 작동\n",
    "\n",
    "print(re.search(r\"b\\w?a$\", \"cabana\"))"
   ]
  },
  {
   "cell_type": "markdown",
   "metadata": {},
   "source": [
    "### Grouping"
   ]
  },
  {
   "cell_type": "code",
   "execution_count": 28,
   "metadata": {},
   "outputs": [
    {
     "name": "stdout",
     "output_type": "stream",
     "text": [
      "test\n",
      "gmail.com\n",
      "test@gmail.com\n",
      "<_sre.SRE_Match object; span=(0, 14), match='test@gmail.com'>\n"
     ]
    }
   ],
   "source": [
    "m = re.search(r\"(\\w+)@(.+)\", \"test@gmail.com\")\n",
    "print(m.group(1))\n",
    "print(m.group(2))\n",
    "print(m.group(0)) # m 전체를 반환\n",
    "print(m)"
   ]
  },
  {
   "cell_type": "markdown",
   "metadata": {},
   "source": [
    "### 반복의 횟수 제한"
   ]
  },
  {
   "cell_type": "code",
   "execution_count": 198,
   "metadata": {},
   "outputs": [
    {
     "name": "stdout",
     "output_type": "stream",
     "text": [
      "<_sre.SRE_Match object; span=(0, 6), match='piiiig'>\n"
     ]
    }
   ],
   "source": [
    "print(re.search(\"pi{4}g\",\"piiiig\"))\n",
    "\n",
    "#원래 i 까지 포함해서 3~4번 반복일때만 반환\n",
    "#아니면 None을 반환\n",
    "\n"
   ]
  },
  {
   "cell_type": "markdown",
   "metadata": {},
   "source": [
    "### minimum 매칭"
   ]
  },
  {
   "cell_type": "code",
   "execution_count": 211,
   "metadata": {},
   "outputs": [
    {
     "name": "stdout",
     "output_type": "stream",
     "text": [
      "<_sre.SRE_Match object; span=(0, 7), match='piiiiig'>\n",
      "<_sre.SRE_Match object; span=(0, 7), match='eeefdf*'>\n"
     ]
    },
    {
     "data": {
      "text/plain": [
       "<_sre.SRE_Match object; span=(0, 3), match='aaa'>"
      ]
     },
     "execution_count": 211,
     "metadata": {},
     "output_type": "execute_result"
    }
   ],
   "source": [
    "print(re.search(\"pi{3,5}g\",\"piiiiig\"))\n",
    "re.search(r\"<.+>\",\"<html>haha</html>\")\n",
    "re.search(r\"<.+?>\",\"<html>haha</html>\")\n",
    "print(re.search(r\"eeefdf[d*e]\",\"eeefdf*ddeeeee\"))\n",
    "\n",
    "re.search(r\"a{3,5}\",\"aaaaa\")\n",
    "re.search(r\"a{3,5}?\",\"aaaaa\")"
   ]
  },
  {
   "cell_type": "markdown",
   "metadata": {},
   "source": [
    "### match 는 search 의 ^와 동일  \n",
    "\n",
    "search는 그냥 그 문자열에 어디에나 있으면 되는데 match는 무조건 맨앞에서 부터 찾음  \n",
    "^와 동일!"
   ]
  },
  {
   "cell_type": "code",
   "execution_count": null,
   "metadata": {},
   "outputs": [],
   "source": [
    "re.match(r\"\\d\\d\\d\",\"my number is 123)\n",
    "re.match(r\"\\d\\d\\d\",\"123 is my number\")\n",
    "re.search(r\"^\\d\\d\\d\", \"123 is my number\")"
   ]
  },
  {
   "cell_type": "markdown",
   "metadata": {},
   "source": [
    "search => 최초로 매칭되는 패턴만 반환\n",
    "\n",
    "findall => 매칭되는 모든 패턴 반환"
   ]
  },
  {
   "cell_type": "code",
   "execution_count": 73,
   "metadata": {},
   "outputs": [
    {
     "name": "stdout",
     "output_type": "stream",
     "text": [
      "<_sre.SRE_Match object; span=(0, 14), match='test@gmail.com'>\n",
      "['test@gmail.com', 'test2@gmail.com']\n"
     ]
    }
   ],
   "source": [
    "print(re.search(r\"[\\w-]+@[\\w.]+\",\"test@gmail.com hahaa test2@gmail.comnice test test\"))\n",
    "print(re.findall(r\"\\w+@[\\w.]+\", \"test@gmail.com haha test2@gmail.com nice test test\"))"
   ]
  },
  {
   "cell_type": "code",
   "execution_count": 71,
   "metadata": {},
   "outputs": [
    {
     "name": "stdout",
     "output_type": "stream",
     "text": [
      "<_sre.SRE_Match object; span=(0, 3), match='abc'>\n",
      "['abc', 'abc', 'abc']\n"
     ]
    }
   ],
   "source": [
    "print(re.search(r\"abc\",\"abc abc abc\"))\n",
    "print(re.findall(r\"abc\",\"abc abc abc\"))"
   ]
  },
  {
   "cell_type": "code",
   "execution_count": 49,
   "metadata": {},
   "outputs": [
    {
     "name": "stdout",
     "output_type": "stream",
     "text": [
      "0\n",
      "14\n",
      "<_sre.SRE_Match object; span=(0, 14), match='test@gmail.com'>\n"
     ]
    }
   ],
   "source": [
    "print(m.start())\n",
    "print(m.end()) #= > [m.start:m.end()] 했을 때 전체열이 다 반환될 숫자를 반환해줌.\n",
    "# 즉 실제 index 끝 값 +1 해준 값을 반환함\n",
    "print(m)"
   ]
  },
  {
   "cell_type": "markdown",
   "metadata": {},
   "source": [
    "### sub  \n",
    "주어진 문자열에서 일치하는 모든 패턴을 replace  \n",
    "그 결과를 문자열로 다시 반환  \n",
    "두번재 인자는 특정 문자열이 될 수도, 함수가 될 수도 있음  \n",
    "count 가 0인 경우는 전체를, 1이상이면 해당 숫자만큼 치환"
   ]
  },
  {
   "cell_type": "code",
   "execution_count": 77,
   "metadata": {},
   "outputs": [
    {
     "data": {
      "text/plain": [
       "'great haha rulrul great'"
      ]
     },
     "execution_count": 77,
     "metadata": {},
     "output_type": "execute_result"
    }
   ],
   "source": [
    "re.sub(r\"[\\w-]+@[\\w.]+\",\"great\",\"test@gmail.com haha rulrul test2@gmail.com\", count=1)\n",
    "re.sub(r\"[\\w-]+@[\\w.]+\",\"great\",\"test@gmail.com haha rulrul test2@gmail.com\", count=0)\n",
    "re.sub(r\"[\\w-]+@[\\w.]+\",\"great\",\"test@gmail.com haha rulrul test2@gmail.com\", count=2)\n",
    "re.sub(r\"[\\w-]+@[\\w.]+\",\"great\",\"test@gmail.com haha rulrul test2@gmail.com\", count=3)"
   ]
  },
  {
   "cell_type": "markdown",
   "metadata": {},
   "source": [
    "### compile  \n",
    "동일한 정규표현식을 매번 다시 쓰기 번거로움을 해결  \n",
    "compile로 해당 표현식을 re.Regexobject 객체로 저장하여 사용 가능"
   ]
  },
  {
   "cell_type": "code",
   "execution_count": 78,
   "metadata": {},
   "outputs": [
    {
     "data": {
      "text/plain": [
       "<_sre.SRE_Match object; span=(0, 13), match='test@gail.com'>"
      ]
     },
     "execution_count": 78,
     "metadata": {},
     "output_type": "execute_result"
    }
   ],
   "source": [
    "email_reg = re.compile(r\"[\\w-]+@[\\w.]+\")\n",
    "email_reg.search(\"test@gail.com haha test2.gmail.com\")"
   ]
  },
  {
   "cell_type": "markdown",
   "metadata": {},
   "source": [
    "# Numpy"
   ]
  },
  {
   "cell_type": "code",
   "execution_count": 79,
   "metadata": {},
   "outputs": [],
   "source": [
    "import numpy as np"
   ]
  },
  {
   "cell_type": "code",
   "execution_count": 89,
   "metadata": {},
   "outputs": [
    {
     "name": "stdout",
     "output_type": "stream",
     "text": [
      "[0 1 2]\n",
      "<class 'numpy.ndarray'>\n",
      "[[1. 0. 0.]\n",
      " [0. 1. 0.]\n",
      " [0. 0. 1.]]\n",
      "[ 1.   5.5 10. ]\n",
      "[ 1  2  3  4  5  6  7  8  9 10 11 12 13 14 15]\n",
      "(15,)\n",
      "[[ 1  2  3  4  5]\n",
      " [ 6  7  8  9 10]\n",
      " [11 12 13 14 15]]\n",
      "[ 1  2  3  4  5  6  7  8  9 10 11 12 13 14 15]\n",
      "[[0.62878791 0.57983781 0.5999292 ]\n",
      " [0.26581912 0.28468588 0.25358821]]\n",
      "[[-0.87187918 -0.42250793  0.99643983]\n",
      " [ 0.71242127  0.05914424 -0.36331088]]\n",
      "[[4]\n",
      " [2]\n",
      " [8]\n",
      " [4]\n",
      " [2]]\n",
      "[[0.76590786 0.51841799 0.2968005 ]\n",
      " [0.18772123 0.08074127 0.7384403 ]]\n",
      "[[-4.96382306 -0.02438255 -0.79414474]\n",
      " [ 4.01735801 -7.32394265 -2.50089519]]\n"
     ]
    }
   ],
   "source": [
    "x=np.array([0,1,2])\n",
    "print(x)\n",
    "print(type(x))\n",
    "\n",
    "x=np.eye(3)\n",
    "print(x)\n",
    "\n",
    "x=np.linspace(1,10,3)\n",
    "print(x)\n",
    "\n",
    "x=np.arange(1,16)\n",
    "print(x)\n",
    "print(x.shape)\n",
    "print(x.reshape((3,5)))\n",
    "print(x)\n",
    "\n",
    "print(np.random.rand(2,3)) #0과 1사이의 2행 3열의 형태로 array 생성\n",
    "print(np.random.randn(2,3)) #정규분포로 샘플링 된 랜덤 ndarray 생성\n",
    "\n",
    "\n",
    "np.random.seed(5)\n",
    "np.random.rand(3,2) # 이때 seed를 다시 실행하면 같은 랜덤 값이 순차적으로 반환\n",
    "\n",
    "#uniform 과 normal 은 범위를 줄 수도 안줄 수도 있음.\n",
    "print(np.random.uniform(size=(2,3)))\n",
    "print(np.random.normal(1,5,size=(2,3)))\n",
    "\n",
    "print(np.random.randint(1,11, size=(5,1))) #1에서 11 미만  정수 사이에 랜덤 샘플링"
   ]
  },
  {
   "cell_type": "code",
   "execution_count": 208,
   "metadata": {},
   "outputs": [
    {
     "name": "stdout",
     "output_type": "stream",
     "text": [
      "9\n",
      "[[[ 0  1  2  3]\n",
      "  [ 4  5  6  7]\n",
      "  [ 8  9 10 11]]\n",
      "\n",
      " [[12 13 14 15]\n",
      "  [16 17 18 19]\n",
      "  [20 21 22 23]]]\n",
      "[[12 13 14 15]\n",
      " [16 17 18 19]\n",
      " [20 21 22 23]]\n",
      "[16 17 18 19]\n"
     ]
    }
   ],
   "source": [
    "x= np.arange(10).reshape(2,-1)\n",
    "\n",
    "print(x[1,-1])\n",
    "\n",
    "x=np.arange(24).reshape(2,-1,4)\n",
    "print(x)\n",
    "print(x[1])\n",
    "print(x[1,1])\n",
    "\n",
    "# reshape 할 때 하나만 남기고(-1) 써도 알아서 반환해줌\n",
    "# 그 하나는 -1이라고 써놓으면 됨, 처음 인자이든 중간 인자이든 마지막 인자이든 상관 없음!!!"
   ]
  },
  {
   "cell_type": "code",
   "execution_count": 92,
   "metadata": {},
   "outputs": [
    {
     "name": "stdout",
     "output_type": "stream",
     "text": [
      "[ 0  1  2  3  4  5  6  7  8  9 10 11 12 13 14 15 16 17 18 19 20 21 22 23]\n",
      "[ 0 12  4 16  8 20  1 13  5 17  9 21  2 14  6 18 10 22  3 15  7 19 11 23]\n",
      "[[[ 0  1  2  3]\n",
      "  [ 4  5  6  7]\n",
      "  [ 8  9 10 11]]\n",
      "\n",
      " [[12 13 14 15]\n",
      "  [16 17 18 19]\n",
      "  [20 21 22 23]]]\n"
     ]
    }
   ],
   "source": [
    "print(x.flatten()) #행을 기준으로 펼쳐줌\n",
    "print(x.flatten(order=\"F\")) #열을 기준으로 펼쳐줌\n",
    "print(x)"
   ]
  },
  {
   "cell_type": "code",
   "execution_count": 96,
   "metadata": {},
   "outputs": [
    {
     "name": "stdout",
     "output_type": "stream",
     "text": [
      "[[[ 0  1  2  3]\n",
      "  [ 4  5  6  7]\n",
      "  [ 8  9 10 11]]\n",
      "\n",
      " [[12 13 14 15]\n",
      "  [16 17 18 19]\n",
      "  [20 21 22 23]]]\n"
     ]
    }
   ],
   "source": [
    "x.ravel()\n",
    "print(x)"
   ]
  },
  {
   "cell_type": "code",
   "execution_count": 202,
   "metadata": {},
   "outputs": [
    {
     "name": "stdout",
     "output_type": "stream",
     "text": [
      "[[ 0  7  7  6 11  0]\n",
      " [ 0  8 10  5 11  5]]\n"
     ]
    }
   ],
   "source": [
    "x=np.random.randint(0,12,size=(2,6))\n",
    "print(x)"
   ]
  },
  {
   "cell_type": "code",
   "execution_count": 107,
   "metadata": {},
   "outputs": [
    {
     "name": "stdout",
     "output_type": "stream",
     "text": [
      "57\n",
      "[33 24]\n",
      "[10 18  6 14  4  5]\n",
      "57\n"
     ]
    }
   ],
   "source": [
    "print(x.sum()) # 전체 sum 값\n",
    "print(x.sum(axis=1)) # 열 기준 sum 값\n",
    "print(x.sum(axis=0)) # 행 기준 sum 값\n",
    "print(np.sum(x))"
   ]
  },
  {
   "cell_type": "code",
   "execution_count": 117,
   "metadata": {},
   "outputs": [],
   "source": [
    "z=np.random.randint(1,10,5)\n",
    "print(z)\n",
    "print(np.where(z>5,z, 0))\n"
   ]
  },
  {
   "cell_type": "code",
   "execution_count": 150,
   "metadata": {},
   "outputs": [
    {
     "name": "stdout",
     "output_type": "stream",
     "text": [
      "[[ 4  9  3 11  2  4]\n",
      " [ 6  9  3  3  2  1]]\n",
      "[6 9 3 3 2 1]\n"
     ]
    }
   ],
   "source": [
    "print(x)\n",
    "print(x[1])"
   ]
  },
  {
   "cell_type": "markdown",
   "metadata": {},
   "source": [
    "## 브로드 캐스팅  \n",
    "뒤에서 부터 비교하여 크기가 같거나 1인 것이 존재하면 연산 가능"
   ]
  },
  {
   "cell_type": "markdown",
   "metadata": {},
   "source": [
    "## Pandas"
   ]
  },
  {
   "cell_type": "code",
   "execution_count": 123,
   "metadata": {},
   "outputs": [
    {
     "name": "stdout",
     "output_type": "stream",
     "text": [
      "a    1\n",
      "b    2\n",
      "c    3\n",
      "dtype: int64\n",
      "0    1\n",
      "1    2\n",
      "2    3\n",
      "3    4\n",
      "dtype: int64\n",
      "Index(['a', 'b', 'c'], dtype='object')\n",
      "[1 2 3]\n"
     ]
    }
   ],
   "source": [
    "import pandas as pd\n",
    "dic_data={\"a\":1,\"b\":2,\"c\":3}\n",
    "print(pd.Series(dic_data))\n",
    "list_data=[1,2,3,4]\n",
    "print(pd.Series(list_data))\n",
    "\n",
    "print(pd.Series(dic_data).index)\n",
    "print(pd.Series(dic_data).values)"
   ]
  },
  {
   "cell_type": "code",
   "execution_count": 126,
   "metadata": {},
   "outputs": [
    {
     "name": "stdout",
     "output_type": "stream",
     "text": [
      "A    a\n",
      "B    b\n",
      "C    c\n",
      "D    d\n",
      "E    e\n",
      "dtype: object\n",
      "a\n",
      "a\n",
      "B    b\n",
      "dtype: object\n",
      "A    a\n",
      "B    b\n",
      "dtype: object\n",
      "A    a\n",
      "B    b\n",
      "dtype: object\n"
     ]
    }
   ],
   "source": [
    "tup_data = tuple(\"abcde\")\n",
    "a = pd.Series(tup_data,index=list(\"ABCDE\"))\n",
    "print(a)\n",
    "\n",
    "print(a[0])\n",
    "print(a[\"A\"])\n",
    "print(a[1:2])\n",
    "print(a[\"A\":\"B\"])\n",
    "print(a[\"A\":\"B\"]) # index 글자를 이용한 슬라이싱은 뒷 index 도 포함"
   ]
  },
  {
   "cell_type": "code",
   "execution_count": 130,
   "metadata": {},
   "outputs": [
    {
     "name": "stdout",
     "output_type": "stream",
     "text": [
      "   A  B\n",
      "0  a  b\n",
      "1  a  b\n",
      "2  a  b\n",
      "   a  b  c\n",
      "A  1  2  3\n",
      "B  4  5  6\n",
      "   히히  하하  c\n",
      "A   1   2  3\n",
      "B   4   5  6\n"
     ]
    }
   ],
   "source": [
    "dic_data={\"A\":list(\"aaa\"),\"B\":list(\"bbb\")}\n",
    "print(pd.DataFrame(dic_data))\n",
    "df = pd.DataFrame([[1,2,3],[4,5,6]],index=list(\"AB\"),columns=list(\"abc\"))\n",
    "print(df)\n",
    "df.rename(columns={\"b\":\"하하\",\"a\":\"히히\"},inplace=True) # 일부만 변경 가능\n",
    "df.rename(index={\"A\":\"케케\"}) # 디폴트 inplace = False\n",
    "print(df)"
   ]
  },
  {
   "cell_type": "code",
   "execution_count": 165,
   "metadata": {},
   "outputs": [
    {
     "name": "stdout",
     "output_type": "stream",
     "text": [
      "     연령  남녀  소속\n",
      "학생1   1   2   3\n",
      "학생2   4   5   6\n",
      "      연령   남녀   소속\n",
      "학생1  1.0  2.0  3.0\n",
      "학생2  4.0  5.0  6.0\n",
      "학생3  NaN  NaN  NaN\n",
      "     연령  남녀  소속\n",
      "학생1   1   2   3\n",
      "학생2   4   5   6\n"
     ]
    }
   ],
   "source": [
    "df.index=[\"학생1\",\"학생2\"]\n",
    "df.columns=[\"연령\",\"남녀\",\"소속\"] # 일부만 변경 불가능, 알아서 바꿔줌\n",
    "print(df)\n",
    "new_index=[\"학생1\",\"학생2\",\"학생3\"]\n",
    "print(df.reindex(new_index)) # 추가된 인덱스는 NAN 값으로 채워짐 #fill_value =5 로 Nan 값 채우는 것 가틍\n",
    "print(df)\n",
    "df2=df.reindex(new_index)"
   ]
  },
  {
   "cell_type": "code",
   "execution_count": 140,
   "metadata": {},
   "outputs": [
    {
     "name": "stdout",
     "output_type": "stream",
     "text": [
      "     연령  남녀  소속\n",
      "학생2   4   5   6\n",
      "     남녀  소속\n",
      "학생1   2   3\n",
      "학생2   5   6\n",
      "     연령  남녀\n",
      "학생1   1   2\n",
      "학생2   4   5\n"
     ]
    }
   ],
   "source": [
    "df.drop([\"학생1\"], axis=0) #inplace = False 가 디폴트\n",
    "print(df.drop(\"학생1\"))\n",
    "print(df.drop(\"연령\",axis=1))\n",
    "print(df[[\"연령\",\"남녀\"]])"
   ]
  },
  {
   "cell_type": "code",
   "execution_count": 146,
   "metadata": {},
   "outputs": [
    {
     "name": "stdout",
     "output_type": "stream",
     "text": [
      "     연령  남녀  소속\n",
      "학생1   1   2   3\n",
      "학생2   4   5   6\n",
      "     연령  남녀  소속\n",
      "학생2   4   5   6\n",
      "     연령  남녀\n",
      "학생1   1   2\n",
      "학생2   4   5\n",
      "     연령  남녀\n",
      "학생1   1   2\n",
      "학생2   4   5\n"
     ]
    }
   ],
   "source": [
    "print(df.loc[\"학생1\":\"학생2\"])\n",
    "print(df.iloc[1:3])\n",
    "print(df.loc[\"학생1\":\"학생2\",[\"연령\",\"남녀\"]])\n",
    "print(df.iloc[0:2,0:2])"
   ]
  },
  {
   "cell_type": "code",
   "execution_count": 153,
   "metadata": {},
   "outputs": [
    {
     "name": "stdout",
     "output_type": "stream",
     "text": [
      "    학생1  학생2\n",
      "연령    1    4\n",
      "남녀    2    5\n",
      "소속    3    6\n"
     ]
    }
   ],
   "source": [
    "print(df.T)"
   ]
  },
  {
   "cell_type": "code",
   "execution_count": 177,
   "metadata": {},
   "outputs": [
    {
     "ename": "KeyError",
     "evalue": "'이름'",
     "output_type": "error",
     "traceback": [
      "\u001b[1;31m---------------------------------------------------------------------------\u001b[0m",
      "\u001b[1;31mKeyError\u001b[0m                                  Traceback (most recent call last)",
      "\u001b[1;32mC:\\ProgramData\\Anaconda3\\lib\\site-packages\\pandas\\core\\indexes\\base.py\u001b[0m in \u001b[0;36mget_loc\u001b[1;34m(self, key, method, tolerance)\u001b[0m\n\u001b[0;32m   3062\u001b[0m             \u001b[1;32mtry\u001b[0m\u001b[1;33m:\u001b[0m\u001b[1;33m\u001b[0m\u001b[0m\n\u001b[1;32m-> 3063\u001b[1;33m                 \u001b[1;32mreturn\u001b[0m \u001b[0mself\u001b[0m\u001b[1;33m.\u001b[0m\u001b[0m_engine\u001b[0m\u001b[1;33m.\u001b[0m\u001b[0mget_loc\u001b[0m\u001b[1;33m(\u001b[0m\u001b[0mkey\u001b[0m\u001b[1;33m)\u001b[0m\u001b[1;33m\u001b[0m\u001b[0m\n\u001b[0m\u001b[0;32m   3064\u001b[0m             \u001b[1;32mexcept\u001b[0m \u001b[0mKeyError\u001b[0m\u001b[1;33m:\u001b[0m\u001b[1;33m\u001b[0m\u001b[0m\n",
      "\u001b[1;32mpandas\\_libs\\index.pyx\u001b[0m in \u001b[0;36mpandas._libs.index.IndexEngine.get_loc\u001b[1;34m()\u001b[0m\n",
      "\u001b[1;32mpandas\\_libs\\index.pyx\u001b[0m in \u001b[0;36mpandas._libs.index.IndexEngine.get_loc\u001b[1;34m()\u001b[0m\n",
      "\u001b[1;32mpandas\\_libs\\hashtable_class_helper.pxi\u001b[0m in \u001b[0;36mpandas._libs.hashtable.PyObjectHashTable.get_item\u001b[1;34m()\u001b[0m\n",
      "\u001b[1;32mpandas\\_libs\\hashtable_class_helper.pxi\u001b[0m in \u001b[0;36mpandas._libs.hashtable.PyObjectHashTable.get_item\u001b[1;34m()\u001b[0m\n",
      "\u001b[1;31mKeyError\u001b[0m: '이름'",
      "\nDuring handling of the above exception, another exception occurred:\n",
      "\u001b[1;31mKeyError\u001b[0m                                  Traceback (most recent call last)",
      "\u001b[1;32m<ipython-input-177-9bbd1a86ae13>\u001b[0m in \u001b[0;36m<module>\u001b[1;34m()\u001b[0m\n\u001b[1;32m----> 1\u001b[1;33m \u001b[0mdf2\u001b[0m\u001b[1;33m=\u001b[0m\u001b[0mdf\u001b[0m\u001b[1;33m.\u001b[0m\u001b[0mset_index\u001b[0m\u001b[1;33m(\u001b[0m\u001b[1;34m\"이름\"\u001b[0m\u001b[1;33m)\u001b[0m\u001b[1;33m\u001b[0m\u001b[0m\n\u001b[0m",
      "\u001b[1;32mC:\\ProgramData\\Anaconda3\\lib\\site-packages\\pandas\\core\\frame.py\u001b[0m in \u001b[0;36mset_index\u001b[1;34m(self, keys, drop, append, inplace, verify_integrity)\u001b[0m\n\u001b[0;32m   3904\u001b[0m                 \u001b[0mnames\u001b[0m\u001b[1;33m.\u001b[0m\u001b[0mappend\u001b[0m\u001b[1;33m(\u001b[0m\u001b[1;32mNone\u001b[0m\u001b[1;33m)\u001b[0m\u001b[1;33m\u001b[0m\u001b[0m\n\u001b[0;32m   3905\u001b[0m             \u001b[1;32melse\u001b[0m\u001b[1;33m:\u001b[0m\u001b[1;33m\u001b[0m\u001b[0m\n\u001b[1;32m-> 3906\u001b[1;33m                 \u001b[0mlevel\u001b[0m \u001b[1;33m=\u001b[0m \u001b[0mframe\u001b[0m\u001b[1;33m[\u001b[0m\u001b[0mcol\u001b[0m\u001b[1;33m]\u001b[0m\u001b[1;33m.\u001b[0m\u001b[0m_values\u001b[0m\u001b[1;33m\u001b[0m\u001b[0m\n\u001b[0m\u001b[0;32m   3907\u001b[0m                 \u001b[0mnames\u001b[0m\u001b[1;33m.\u001b[0m\u001b[0mappend\u001b[0m\u001b[1;33m(\u001b[0m\u001b[0mcol\u001b[0m\u001b[1;33m)\u001b[0m\u001b[1;33m\u001b[0m\u001b[0m\n\u001b[0;32m   3908\u001b[0m                 \u001b[1;32mif\u001b[0m \u001b[0mdrop\u001b[0m\u001b[1;33m:\u001b[0m\u001b[1;33m\u001b[0m\u001b[0m\n",
      "\u001b[1;32mC:\\ProgramData\\Anaconda3\\lib\\site-packages\\pandas\\core\\frame.py\u001b[0m in \u001b[0;36m__getitem__\u001b[1;34m(self, key)\u001b[0m\n\u001b[0;32m   2683\u001b[0m             \u001b[1;32mreturn\u001b[0m \u001b[0mself\u001b[0m\u001b[1;33m.\u001b[0m\u001b[0m_getitem_multilevel\u001b[0m\u001b[1;33m(\u001b[0m\u001b[0mkey\u001b[0m\u001b[1;33m)\u001b[0m\u001b[1;33m\u001b[0m\u001b[0m\n\u001b[0;32m   2684\u001b[0m         \u001b[1;32melse\u001b[0m\u001b[1;33m:\u001b[0m\u001b[1;33m\u001b[0m\u001b[0m\n\u001b[1;32m-> 2685\u001b[1;33m             \u001b[1;32mreturn\u001b[0m \u001b[0mself\u001b[0m\u001b[1;33m.\u001b[0m\u001b[0m_getitem_column\u001b[0m\u001b[1;33m(\u001b[0m\u001b[0mkey\u001b[0m\u001b[1;33m)\u001b[0m\u001b[1;33m\u001b[0m\u001b[0m\n\u001b[0m\u001b[0;32m   2686\u001b[0m \u001b[1;33m\u001b[0m\u001b[0m\n\u001b[0;32m   2687\u001b[0m     \u001b[1;32mdef\u001b[0m \u001b[0m_getitem_column\u001b[0m\u001b[1;33m(\u001b[0m\u001b[0mself\u001b[0m\u001b[1;33m,\u001b[0m \u001b[0mkey\u001b[0m\u001b[1;33m)\u001b[0m\u001b[1;33m:\u001b[0m\u001b[1;33m\u001b[0m\u001b[0m\n",
      "\u001b[1;32mC:\\ProgramData\\Anaconda3\\lib\\site-packages\\pandas\\core\\frame.py\u001b[0m in \u001b[0;36m_getitem_column\u001b[1;34m(self, key)\u001b[0m\n\u001b[0;32m   2690\u001b[0m         \u001b[1;31m# get column\u001b[0m\u001b[1;33m\u001b[0m\u001b[1;33m\u001b[0m\u001b[0m\n\u001b[0;32m   2691\u001b[0m         \u001b[1;32mif\u001b[0m \u001b[0mself\u001b[0m\u001b[1;33m.\u001b[0m\u001b[0mcolumns\u001b[0m\u001b[1;33m.\u001b[0m\u001b[0mis_unique\u001b[0m\u001b[1;33m:\u001b[0m\u001b[1;33m\u001b[0m\u001b[0m\n\u001b[1;32m-> 2692\u001b[1;33m             \u001b[1;32mreturn\u001b[0m \u001b[0mself\u001b[0m\u001b[1;33m.\u001b[0m\u001b[0m_get_item_cache\u001b[0m\u001b[1;33m(\u001b[0m\u001b[0mkey\u001b[0m\u001b[1;33m)\u001b[0m\u001b[1;33m\u001b[0m\u001b[0m\n\u001b[0m\u001b[0;32m   2693\u001b[0m \u001b[1;33m\u001b[0m\u001b[0m\n\u001b[0;32m   2694\u001b[0m         \u001b[1;31m# duplicate columns & possible reduce dimensionality\u001b[0m\u001b[1;33m\u001b[0m\u001b[1;33m\u001b[0m\u001b[0m\n",
      "\u001b[1;32mC:\\ProgramData\\Anaconda3\\lib\\site-packages\\pandas\\core\\generic.py\u001b[0m in \u001b[0;36m_get_item_cache\u001b[1;34m(self, item)\u001b[0m\n\u001b[0;32m   2484\u001b[0m         \u001b[0mres\u001b[0m \u001b[1;33m=\u001b[0m \u001b[0mcache\u001b[0m\u001b[1;33m.\u001b[0m\u001b[0mget\u001b[0m\u001b[1;33m(\u001b[0m\u001b[0mitem\u001b[0m\u001b[1;33m)\u001b[0m\u001b[1;33m\u001b[0m\u001b[0m\n\u001b[0;32m   2485\u001b[0m         \u001b[1;32mif\u001b[0m \u001b[0mres\u001b[0m \u001b[1;32mis\u001b[0m \u001b[1;32mNone\u001b[0m\u001b[1;33m:\u001b[0m\u001b[1;33m\u001b[0m\u001b[0m\n\u001b[1;32m-> 2486\u001b[1;33m             \u001b[0mvalues\u001b[0m \u001b[1;33m=\u001b[0m \u001b[0mself\u001b[0m\u001b[1;33m.\u001b[0m\u001b[0m_data\u001b[0m\u001b[1;33m.\u001b[0m\u001b[0mget\u001b[0m\u001b[1;33m(\u001b[0m\u001b[0mitem\u001b[0m\u001b[1;33m)\u001b[0m\u001b[1;33m\u001b[0m\u001b[0m\n\u001b[0m\u001b[0;32m   2487\u001b[0m             \u001b[0mres\u001b[0m \u001b[1;33m=\u001b[0m \u001b[0mself\u001b[0m\u001b[1;33m.\u001b[0m\u001b[0m_box_item_values\u001b[0m\u001b[1;33m(\u001b[0m\u001b[0mitem\u001b[0m\u001b[1;33m,\u001b[0m \u001b[0mvalues\u001b[0m\u001b[1;33m)\u001b[0m\u001b[1;33m\u001b[0m\u001b[0m\n\u001b[0;32m   2488\u001b[0m             \u001b[0mcache\u001b[0m\u001b[1;33m[\u001b[0m\u001b[0mitem\u001b[0m\u001b[1;33m]\u001b[0m \u001b[1;33m=\u001b[0m \u001b[0mres\u001b[0m\u001b[1;33m\u001b[0m\u001b[0m\n",
      "\u001b[1;32mC:\\ProgramData\\Anaconda3\\lib\\site-packages\\pandas\\core\\internals.py\u001b[0m in \u001b[0;36mget\u001b[1;34m(self, item, fastpath)\u001b[0m\n\u001b[0;32m   4113\u001b[0m \u001b[1;33m\u001b[0m\u001b[0m\n\u001b[0;32m   4114\u001b[0m             \u001b[1;32mif\u001b[0m \u001b[1;32mnot\u001b[0m \u001b[0misna\u001b[0m\u001b[1;33m(\u001b[0m\u001b[0mitem\u001b[0m\u001b[1;33m)\u001b[0m\u001b[1;33m:\u001b[0m\u001b[1;33m\u001b[0m\u001b[0m\n\u001b[1;32m-> 4115\u001b[1;33m                 \u001b[0mloc\u001b[0m \u001b[1;33m=\u001b[0m \u001b[0mself\u001b[0m\u001b[1;33m.\u001b[0m\u001b[0mitems\u001b[0m\u001b[1;33m.\u001b[0m\u001b[0mget_loc\u001b[0m\u001b[1;33m(\u001b[0m\u001b[0mitem\u001b[0m\u001b[1;33m)\u001b[0m\u001b[1;33m\u001b[0m\u001b[0m\n\u001b[0m\u001b[0;32m   4116\u001b[0m             \u001b[1;32melse\u001b[0m\u001b[1;33m:\u001b[0m\u001b[1;33m\u001b[0m\u001b[0m\n\u001b[0;32m   4117\u001b[0m                 \u001b[0mindexer\u001b[0m \u001b[1;33m=\u001b[0m \u001b[0mnp\u001b[0m\u001b[1;33m.\u001b[0m\u001b[0marange\u001b[0m\u001b[1;33m(\u001b[0m\u001b[0mlen\u001b[0m\u001b[1;33m(\u001b[0m\u001b[0mself\u001b[0m\u001b[1;33m.\u001b[0m\u001b[0mitems\u001b[0m\u001b[1;33m)\u001b[0m\u001b[1;33m)\u001b[0m\u001b[1;33m[\u001b[0m\u001b[0misna\u001b[0m\u001b[1;33m(\u001b[0m\u001b[0mself\u001b[0m\u001b[1;33m.\u001b[0m\u001b[0mitems\u001b[0m\u001b[1;33m)\u001b[0m\u001b[1;33m]\u001b[0m\u001b[1;33m\u001b[0m\u001b[0m\n",
      "\u001b[1;32mC:\\ProgramData\\Anaconda3\\lib\\site-packages\\pandas\\core\\indexes\\base.py\u001b[0m in \u001b[0;36mget_loc\u001b[1;34m(self, key, method, tolerance)\u001b[0m\n\u001b[0;32m   3063\u001b[0m                 \u001b[1;32mreturn\u001b[0m \u001b[0mself\u001b[0m\u001b[1;33m.\u001b[0m\u001b[0m_engine\u001b[0m\u001b[1;33m.\u001b[0m\u001b[0mget_loc\u001b[0m\u001b[1;33m(\u001b[0m\u001b[0mkey\u001b[0m\u001b[1;33m)\u001b[0m\u001b[1;33m\u001b[0m\u001b[0m\n\u001b[0;32m   3064\u001b[0m             \u001b[1;32mexcept\u001b[0m \u001b[0mKeyError\u001b[0m\u001b[1;33m:\u001b[0m\u001b[1;33m\u001b[0m\u001b[0m\n\u001b[1;32m-> 3065\u001b[1;33m                 \u001b[1;32mreturn\u001b[0m \u001b[0mself\u001b[0m\u001b[1;33m.\u001b[0m\u001b[0m_engine\u001b[0m\u001b[1;33m.\u001b[0m\u001b[0mget_loc\u001b[0m\u001b[1;33m(\u001b[0m\u001b[0mself\u001b[0m\u001b[1;33m.\u001b[0m\u001b[0m_maybe_cast_indexer\u001b[0m\u001b[1;33m(\u001b[0m\u001b[0mkey\u001b[0m\u001b[1;33m)\u001b[0m\u001b[1;33m)\u001b[0m\u001b[1;33m\u001b[0m\u001b[0m\n\u001b[0m\u001b[0;32m   3066\u001b[0m \u001b[1;33m\u001b[0m\u001b[0m\n\u001b[0;32m   3067\u001b[0m         \u001b[0mindexer\u001b[0m \u001b[1;33m=\u001b[0m \u001b[0mself\u001b[0m\u001b[1;33m.\u001b[0m\u001b[0mget_indexer\u001b[0m\u001b[1;33m(\u001b[0m\u001b[1;33m[\u001b[0m\u001b[0mkey\u001b[0m\u001b[1;33m]\u001b[0m\u001b[1;33m,\u001b[0m \u001b[0mmethod\u001b[0m\u001b[1;33m=\u001b[0m\u001b[0mmethod\u001b[0m\u001b[1;33m,\u001b[0m \u001b[0mtolerance\u001b[0m\u001b[1;33m=\u001b[0m\u001b[0mtolerance\u001b[0m\u001b[1;33m)\u001b[0m\u001b[1;33m\u001b[0m\u001b[0m\n",
      "\u001b[1;32mpandas\\_libs\\index.pyx\u001b[0m in \u001b[0;36mpandas._libs.index.IndexEngine.get_loc\u001b[1;34m()\u001b[0m\n",
      "\u001b[1;32mpandas\\_libs\\index.pyx\u001b[0m in \u001b[0;36mpandas._libs.index.IndexEngine.get_loc\u001b[1;34m()\u001b[0m\n",
      "\u001b[1;32mpandas\\_libs\\hashtable_class_helper.pxi\u001b[0m in \u001b[0;36mpandas._libs.hashtable.PyObjectHashTable.get_item\u001b[1;34m()\u001b[0m\n",
      "\u001b[1;32mpandas\\_libs\\hashtable_class_helper.pxi\u001b[0m in \u001b[0;36mpandas._libs.hashtable.PyObjectHashTable.get_item\u001b[1;34m()\u001b[0m\n",
      "\u001b[1;31mKeyError\u001b[0m: '이름'"
     ]
    }
   ],
   "source": [
    "df2=df.set_index(\"이름\")"
   ]
  },
  {
   "cell_type": "code",
   "execution_count": 166,
   "metadata": {},
   "outputs": [
    {
     "name": "stdout",
     "output_type": "stream",
     "text": [
      "      연령   남녀   소속\n",
      "학생1  1.0  2.0  3.0\n",
      "학생2  4.0  5.0  6.0\n",
      "학생3  NaN  NaN  NaN\n"
     ]
    }
   ],
   "source": [
    "print(df)"
   ]
  },
  {
   "cell_type": "code",
   "execution_count": 171,
   "metadata": {},
   "outputs": [],
   "source": [
    "df=df.fillna(3)"
   ]
  },
  {
   "cell_type": "code",
   "execution_count": 176,
   "metadata": {},
   "outputs": [
    {
     "name": "stdout",
     "output_type": "stream",
     "text": [
      "  index   연령   남녀   소속\n",
      "0   학생1  1.0  2.0  3.0\n",
      "1   학생2  4.0  5.0  6.0\n",
      "2   학생3  3.0  3.0  3.0\n",
      "      연령   남녀   소속\n",
      "학생3  3.0  3.0  3.0\n",
      "학생2  4.0  5.0  6.0\n",
      "학생1  1.0  2.0  3.0\n",
      "      연령   남녀   소속\n",
      "학생1  1.0  2.0  3.0\n",
      "학생3  3.0  3.0  3.0\n",
      "학생2  4.0  5.0  6.0\n"
     ]
    },
    {
     "name": "stderr",
     "output_type": "stream",
     "text": [
      "C:\\ProgramData\\Anaconda3\\lib\\site-packages\\ipykernel_launcher.py:3: FutureWarning: by argument to sort_index is deprecated, please use .sort_values(by=...)\n",
      "  This is separate from the ipykernel package so we can avoid doing imports until\n"
     ]
    }
   ],
   "source": [
    "print(df.reset_index()) # index를 value 값으로 초기화\n",
    "print(df.sort_index(ascending=False)) # 행의 index 기준으로 데이터 프레임 정렬\n",
    "print(df.sort_index(ascending=True, by=[\"연령\",\"남녀\"])) # 동일한 값이 있으면 남녀 큰 순으로\n"
   ]
  },
  {
   "cell_type": "code",
   "execution_count": null,
   "metadata": {},
   "outputs": [],
   "source": [
    "df.sum(df2, fill_value=0) # NaN 인 값은 즉 하나엔 있는데 하나엔 없는 값, NaN 인 값은 fill_value 로 채워주고 계산해 줄 수가 있음\n",
    "# Series 와 DataFrame 모두 마찬가지!!"
   ]
  },
  {
   "cell_type": "code",
   "execution_count": 212,
   "metadata": {},
   "outputs": [],
   "source": [
    "a=pd.Series([1,2,3])\n",
    "b=pd.Series([1,np.nan,2,5])"
   ]
  },
  {
   "cell_type": "code",
   "execution_count": null,
   "metadata": {},
   "outputs": [],
   "source": []
  }
 ],
 "metadata": {
  "kernelspec": {
   "display_name": "Python 3",
   "language": "python",
   "name": "python3"
  },
  "language_info": {
   "codemirror_mode": {
    "name": "ipython",
    "version": 3
   },
   "file_extension": ".py",
   "mimetype": "text/x-python",
   "name": "python",
   "nbconvert_exporter": "python",
   "pygments_lexer": "ipython3",
   "version": "3.6.5"
  }
 },
 "nbformat": 4,
 "nbformat_minor": 2
}
