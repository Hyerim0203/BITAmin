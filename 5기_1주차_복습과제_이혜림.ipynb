{
 "cells": [
  {
   "cell_type": "markdown",
   "metadata": {},
   "source": [
    "# 문제1\n",
    "### 마크다운 기능으로 주어진 문제를 풀어보세요.\n",
    "### 1. 본인을 소개해보세요 <br/>\n",
    " 1) 작성할 문서 제목<br/>\n",
    " 2) 본인의 소개 (이름, 나이, 사는 곳, 좌우명(or 좋아하는 말), 꿈, 본인을 나타내는 키워드 등 )<br/>\n",
    " 3) 본인의 2020년도 계획 리스트로 작성하기(최소 3개, 순서 있는 리스트 or 순서 없는 리스트 중 하나만 작성)<br/>\n",
    " 4) 좋아하는 사진(인물, 풍경 등 자유로운 사진, 좋아하는 이유 등)<br/>\n",
    " 5) 본인의 조를 포함하여 동아리원 총 8명의 정보를 알 수 이쓴 표 (이름, 나이, 학교, 학과, 휴대폰번호)<br/>\n",
    "- 조건 : 세션에 배웠던 마크다운 기능들을 모두 이용\n",
    "- 마크다운은 엔터를 쳐도 줄 바꿈이 되지 않아요. \n",
    "- 줄 바꿈이 필요하시면 구글링을 통해 찾아서 사용해봅시다.\n",
    "- 동아리원들에게 정보를 물어보아요 !\n",
    "- 내용은 자유롭게 구성하시면 됩니다."
   ]
  },
  {
   "cell_type": "markdown",
   "metadata": {},
   "source": [
    "**1)**\n",
    "# 내소개\n",
    "\n",
    "**2)**\n",
    "이혜림, 1998년생, 홍대, \n",
    ">`즐겁게 살자`\n",
    "\n",
    "**3)**\n",
    "- 데이터분석 관련 공모전 참가\n",
    "- 영어공부\n",
    "- 좋은 학점  \n",
    "\n",
    "**4)** \n",
    "[소고기 사진 링크](https://post-phinf.pstatic.net/MjAxODAxMzFfMTM4/MDAxNTE3MzkxMjUyMDk5.vFFz1M2zdZIXS09vPxnf8a_NoLN3hfOnUm02-uLr8fYg.jWpxFN9x-xpbNMLApK2GHrUFl7AcoQkM5DlQjnxlXb0g.PNG/CA180131A_01.png?type=w1200)\n",
    "<img src=\"https://post-phinf.pstatic.net/MjAxODAxMzFfMTM4/MDAxNTE3MzkxMjUyMDk5.vFFz1M2zdZIXS09vPxnf8a_NoLN3hfOnUm02-uLr8fYg.jWpxFN9x-xpbNMLApK2GHrUFl7AcoQkM5DlQjnxlXb0g.PNG/CA180131A_01.png?type=w1200\" width=\"300\"><br>\n",
    "소고기는 맛있습니다!\n",
    "\n",
    "**5)**\n",
    "\n",
    "이름|나이|학교|학과|휴대폰번호\n",
    "---|---|:---:|---|---:\n",
    "김재훈|97년생|서울시립대학교|교통공학과|010-6473-7501\n",
    "강명훈|95년생|서울시립대학교|도시사회학과|010-8527-0332\n",
    "성은선|98년생|한양대학교|체육학과|010-3911-2616\n",
    "문지유|99년생|이화여대|통계학과|010-5249-4043\n",
    "신주찬|96년생|서울대학교|산업공학과|010-5369-5315\n",
    "박근주|98년생|서울시립대학교|경영학과|010-8930-4008\n",
    "이한림|98년생|숙명여대|통계학과|010-4184-3296\n",
    "노승찬|97년생|단국대학교|응용통계학과|010-3911-3948"
   ]
  },
  {
   "cell_type": "markdown",
   "metadata": {},
   "source": [
    "# 문제2\n",
    "주어진 데이터를 이용해서 아래의 결과를 출력하세요.<br/><br/>\n",
    "[4.5, 4.0, 3.5, 3.0, 2.5, 2.0] 의 학점 중 ['A', 'B+', 'B'] 의 학점은 [4.0, 3.5, 3.0] 입니다.\n",
    "\n",
    "- 조건 : grade = [4.5,4.0,3.5,3.0,2.5,2.0,[\"A+\",\"A\",\"B+\",\"B\",\"C+\",\"C\"]]\n",
    "- 조건 : print(이곳에 한줄로 작성하세요.).\n",
    "- 조건 : print(\"[4.5, 4.0, 3.5, 3.0, 2.5, 2.0] 의 학점 중 ['A', 'B+', 'B'] 의 학점은 [4.0, 3.5, 3.0] 입니다.\") 금지!!\n",
    "- 힌트1 : 리스트 안에 리스트 호출 이용 ex)grade[][]\n",
    "- 총 두 줄의 코드블럭이 되겠쥬?"
   ]
  },
  {
   "cell_type": "code",
   "execution_count": 6,
   "metadata": {
    "scrolled": true
   },
   "outputs": [
    {
     "name": "stdout",
     "output_type": "stream",
     "text": [
      "[4.5, 4.0, 3.5, 3.0, 2.5] 의 학점 중 ['A', 'B+', 'B'] 의 학점은 [4.0, 3.5, 3.0] 입니다.\n"
     ]
    }
   ],
   "source": [
    "grade = [4.5,4.0,3.5,3.0,2.5,2.0,[\"A+\",\"A\",\"B+\",\"B\",\"C+\",\"C\"]]\n",
    "print(f\"{grade[0:5]} 의 학점 중 {grade[6][1:4]} 의 학점은 {grade[1:4]} 입니다.\")"
   ]
  },
  {
   "cell_type": "markdown",
   "metadata": {},
   "source": [
    "# 문제3\n",
    "아래의 결과를 반복문을 이용해서 출력하세요<br/>\n",
    "\n",
    "@<br/>\n",
    "@@<br/>\n",
    "@@@<br/>\n",
    "@@@@<br/>\n",
    "@@@@@<br/>\n",
    "<br/>\n",
    "@<br/>\n",
    "@@@<br/>\n",
    "@@@@@<br/>\n",
    "@@@@@@@<br/>\n",
    "@@@@@@@@@<br/>\n",
    "@@@@@@@@@@@<br/>\n",
    "@@@@@@@@@<br/>\n",
    "@@@@@@@<br/>\n",
    "@@@@@<br/>\n",
    "@@@<br/>\n",
    "@<br/>"
   ]
  },
  {
   "cell_type": "code",
   "execution_count": 20,
   "metadata": {
    "scrolled": true
   },
   "outputs": [
    {
     "name": "stdout",
     "output_type": "stream",
     "text": [
      "@\n",
      "@@\n",
      "@@@\n",
      "@@@@\n",
      "@@@@@\n",
      "\n",
      "@\n",
      "@@@\n",
      "@@@@@\n",
      "@@@@@@@\n",
      "@@@@@@@@@\n",
      "@@@@@@@@@@@\n",
      "@@@@@@@@@\n",
      "@@@@@@@\n",
      "@@@@@\n",
      "@@@\n",
      "@\n"
     ]
    }
   ],
   "source": [
    "for i in range(17):\n",
    "    if i<5:    \n",
    "        print(\"@\"*(i+1))\n",
    "    elif i==5:\n",
    "        print(\"\")\n",
    "    else:\n",
    "        k=i-6\n",
    "        if i>11:\n",
    "            k=i-11\n",
    "            print(\"@\"*(t-(2*k)))\n",
    "            continue\n",
    "        print(\"@\"*(2*k+1))\n",
    "        if k==5:\n",
    "            t=2*k+1\n",
    "            "
   ]
  },
  {
   "cell_type": "markdown",
   "metadata": {},
   "source": [
    "# 문제4\n",
    "BITAmin_member 변수에 빈리스트를 저장<br/>\n",
    "names 변수에 비타민 동아리원 이름 저장(28명)<br/>\n",
    "names = [\"서정민\", \"최유나\", .....]<br/>\n",
    " 1) 반복문을 이용해서 BITAmin_member 리스트에 names 리스트 값을 추가하세요.<br/>\n",
    " 2) 반복문을 이용해서 BITAmin_member 리스트 값들을 띄어쓰기를 기준으로 한줄에 출력하세요.<br/>\n",
    " - 힌트 : 리스트 멤버 함수 이용\n",
    " - 힌트 : print 함수 파라메터 \n",
    " - 비타민 동아리원들의 이름을 알아보아요 !"
   ]
  },
  {
   "cell_type": "code",
   "execution_count": 26,
   "metadata": {},
   "outputs": [
    {
     "name": "stdout",
     "output_type": "stream",
     "text": [
      "강명훈 김도경 김정현 김재훈 김홍일 김현희 김혜인 노승찬 문지유 박근주 서정민 성은선 송보경 신주찬 심유빈 엄정인 이은지 이석희 이하영 이한림 이혜림 차다현 최유나 임희정 임세종 백경은 배은별 서정민 "
     ]
    }
   ],
   "source": [
    "names=[\"강명훈\",\"김도경\",\"김정현\",\"김재훈\",\"김홍일\",\"김현희\",\"김혜인\",\"노승찬\",\"문지유\",\n",
    "      \"박근주\",\"서정민\",\"성은선\",\"송보경\",\"신주찬\",\"심유빈\",\"엄정인\",\"이은지\",\"이석희\",\n",
    "      \"이하영\",\"이한림\",\"이혜림\",\"차다현\",\"최유나\",\"임희정\",\"임세종\",\"백경은\",\n",
    "      \"배은별\",\"서정민\"]\n",
    "BITAmin_member=[]\n",
    "for i in names:\n",
    "    BITAmin_member.append(i)\n",
    "for i in BITAmin_member:\n",
    "    print(i,end=\" \")"
   ]
  },
  {
   "cell_type": "markdown",
   "metadata": {},
   "source": [
    "# 문제5\n",
    "\n",
    "\n",
    "<img src=\"http://archivenew.vop.co.kr/images/9c419c2c579399e3db2fab3e8fdc473f/2011-11/09065222_02c0301_010.gif\" width=500 height=350><br>\n",
    "- 주민등록번호를 입력하면 , 성별과 나이를 출력(반환)하는 함수를 작성하시오. *Hint: 문자열 인덱싱은 리스트 인덱싱과 동일함*\n"
   ]
  },
  {
   "cell_type": "code",
   "execution_count": 41,
   "metadata": {},
   "outputs": [
    {
     "name": "stdout",
     "output_type": "stream",
     "text": [
      "주민등록번호를 입력하세요980203-1\n",
      "나이: 23살\n",
      "성별: 남\n"
     ]
    }
   ],
   "source": [
    "def haha():\n",
    "    x=input(\"주민등록번호를 입력하세요\")\n",
    "    sex=\"남\" if (x[7]==\"1\" or x[7]==\"3\") else \"여\"\n",
    "    age=121-int(x[0:2])\n",
    "    print(\"나이: \",age,\"살\",sep=\"\")\n",
    "    print(\"성별:\",sex)\n",
    "haha()"
   ]
  },
  {
   "cell_type": "code",
   "execution_count": null,
   "metadata": {},
   "outputs": [],
   "source": []
  }
 ],
 "metadata": {
  "kernelspec": {
   "display_name": "Python 3",
   "language": "python",
   "name": "python3"
  },
  "language_info": {
   "codemirror_mode": {
    "name": "ipython",
    "version": 3
   },
   "file_extension": ".py",
   "mimetype": "text/x-python",
   "name": "python",
   "nbconvert_exporter": "python",
   "pygments_lexer": "ipython3",
   "version": "3.6.5"
  }
 },
 "nbformat": 4,
 "nbformat_minor": 2
}
