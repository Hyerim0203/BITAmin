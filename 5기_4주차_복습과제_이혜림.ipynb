{
 "cells": [
  {
   "cell_type": "markdown",
   "metadata": {},
   "source": [
    "# 문제 1\n",
    "\n",
    "카페에 올려진 'corona' csv파일을 다운받아서 df에 저장하기\n",
    "(corona.csv는 대한민국 코로나 환자에 대한 정보가 담긴 데이터)"
   ]
  },
  {
   "cell_type": "code",
   "execution_count": 34,
   "metadata": {},
   "outputs": [],
   "source": [
    "import pandas as pd\n",
    "import numpy as np"
   ]
  },
  {
   "cell_type": "code",
   "execution_count": 2,
   "metadata": {},
   "outputs": [],
   "source": [
    "df = pd.read_csv(\"./corona.csv\")"
   ]
  },
  {
   "cell_type": "markdown",
   "metadata": {},
   "source": [
    "(1) 서울과 대구에서 코로나가 감염된 환자의 데이터만 추출해서 dff에 저장하기\n",
    " - 지역 정보는 'province' 열에\n",
    " - 힌트: df[(x)], x내부에 조건문 넣기"
   ]
  },
  {
   "cell_type": "code",
   "execution_count": 28,
   "metadata": {},
   "outputs": [],
   "source": [
    "dff=df.loc[(df[\"province\"]==\"Seoul\")|(df[\"province\"]==\"Daegu\"),:]\n"
   ]
  },
  {
   "cell_type": "markdown",
   "metadata": {},
   "source": [
    "(2) city열의 정보가 제대로 입력되지 않은 행들을 NaN으로 바꾸어 제거하기\n",
    " - (1)번에서 생성된 dff 사용"
   ]
  },
  {
   "cell_type": "code",
   "execution_count": 32,
   "metadata": {},
   "outputs": [
    {
     "data": {
      "text/plain": [
       "0"
      ]
     },
     "execution_count": 32,
     "metadata": {},
     "output_type": "execute_result"
    }
   ],
   "source": [
    "sum(dff[\"city\"].isnull())"
   ]
  },
  {
   "cell_type": "code",
   "execution_count": 37,
   "metadata": {},
   "outputs": [
    {
     "name": "stderr",
     "output_type": "stream",
     "text": [
      "C:\\ProgramData\\Anaconda3\\lib\\site-packages\\pandas\\core\\generic.py:6746: SettingWithCopyWarning: \n",
      "A value is trying to be set on a copy of a slice from a DataFrame\n",
      "\n",
      "See the caveats in the documentation: https://pandas.pydata.org/pandas-docs/stable/user_guide/indexing.html#returning-a-view-versus-a-copy\n",
      "  self._update_inplace(new_data)\n"
     ]
    }
   ],
   "source": [
    "dff[\"city\"].replace(\"*\",np.nan,inplace=True)"
   ]
  },
  {
   "cell_type": "code",
   "execution_count": 39,
   "metadata": {},
   "outputs": [
    {
     "name": "stderr",
     "output_type": "stream",
     "text": [
      "C:\\ProgramData\\Anaconda3\\lib\\site-packages\\pandas\\core\\series.py:4494: SettingWithCopyWarning: \n",
      "A value is trying to be set on a copy of a slice from a DataFrame\n",
      "\n",
      "See the caveats in the documentation: https://pandas.pydata.org/pandas-docs/stable/user_guide/indexing.html#returning-a-view-versus-a-copy\n",
      "  self._update_inplace(result)\n"
     ]
    }
   ],
   "source": [
    "dff[\"city\"].dropna(inplace =True)"
   ]
  },
  {
   "cell_type": "markdown",
   "metadata": {},
   "source": [
    "# 문제 2\n",
    "\n",
    "서울과 대구에서 매일 마지막으로 감염된 코로나 환자들의 데이터 만을 추출하기\n",
    "(1번에서 사용한 dff데이터 사용)\n",
    "- 감염 날짜에 대한 정보는 'confirmed_date' 열에\n",
    "- drop_duplicates() 메소드를 이용\n",
    "- 힌트 : keep 옵션을 변경하여 각 날짜에 마지막 데이터 추출\n",
    "- 보기 좋게 'patient_id','province','confirmed_date' 만 출력"
   ]
  },
  {
   "cell_type": "code",
   "execution_count": 42,
   "metadata": {},
   "outputs": [
    {
     "data": {
      "text/html": [
       "<div>\n",
       "<style scoped>\n",
       "    .dataframe tbody tr th:only-of-type {\n",
       "        vertical-align: middle;\n",
       "    }\n",
       "\n",
       "    .dataframe tbody tr th {\n",
       "        vertical-align: top;\n",
       "    }\n",
       "\n",
       "    .dataframe thead th {\n",
       "        text-align: right;\n",
       "    }\n",
       "</style>\n",
       "<table border=\"1\" class=\"dataframe\">\n",
       "  <thead>\n",
       "    <tr style=\"text-align: right;\">\n",
       "      <th></th>\n",
       "      <th>patient_id</th>\n",
       "      <th>province</th>\n",
       "      <th>confirmed_date</th>\n",
       "    </tr>\n",
       "  </thead>\n",
       "  <tbody>\n",
       "    <tr>\n",
       "      <th>0</th>\n",
       "      <td>1000000001</td>\n",
       "      <td>Seoul</td>\n",
       "      <td>2020-01-23</td>\n",
       "    </tr>\n",
       "    <tr>\n",
       "      <th>3</th>\n",
       "      <td>1000000004</td>\n",
       "      <td>Seoul</td>\n",
       "      <td>2020-01-30</td>\n",
       "    </tr>\n",
       "    <tr>\n",
       "      <th>6</th>\n",
       "      <td>1000000007</td>\n",
       "      <td>Seoul</td>\n",
       "      <td>2020-01-31</td>\n",
       "    </tr>\n",
       "    <tr>\n",
       "      <th>7</th>\n",
       "      <td>1000000008</td>\n",
       "      <td>Seoul</td>\n",
       "      <td>2020-02-02</td>\n",
       "    </tr>\n",
       "    <tr>\n",
       "      <th>9</th>\n",
       "      <td>1000000010</td>\n",
       "      <td>Seoul</td>\n",
       "      <td>2020-02-05</td>\n",
       "    </tr>\n",
       "    <tr>\n",
       "      <th>10</th>\n",
       "      <td>1000000011</td>\n",
       "      <td>Seoul</td>\n",
       "      <td>2020-02-06</td>\n",
       "    </tr>\n",
       "    <tr>\n",
       "      <th>11</th>\n",
       "      <td>1000000012</td>\n",
       "      <td>Seoul</td>\n",
       "      <td>2020-02-07</td>\n",
       "    </tr>\n",
       "    <tr>\n",
       "      <th>13</th>\n",
       "      <td>1000000014</td>\n",
       "      <td>Seoul</td>\n",
       "      <td>2020-02-16</td>\n",
       "    </tr>\n",
       "    <tr>\n",
       "      <th>30</th>\n",
       "      <td>1000000031</td>\n",
       "      <td>Seoul</td>\n",
       "      <td>2020-02-22</td>\n",
       "    </tr>\n",
       "    <tr>\n",
       "      <th>31</th>\n",
       "      <td>1000000032</td>\n",
       "      <td>Seoul</td>\n",
       "      <td>2020-02-23</td>\n",
       "    </tr>\n",
       "    <tr>\n",
       "      <th>97</th>\n",
       "      <td>1000000098</td>\n",
       "      <td>Seoul</td>\n",
       "      <td>2020-03-02</td>\n",
       "    </tr>\n",
       "    <tr>\n",
       "      <th>110</th>\n",
       "      <td>1000000111</td>\n",
       "      <td>Seoul</td>\n",
       "      <td>2020-03-04</td>\n",
       "    </tr>\n",
       "    <tr>\n",
       "      <th>117</th>\n",
       "      <td>1000000118</td>\n",
       "      <td>Seoul</td>\n",
       "      <td>2020-03-07</td>\n",
       "    </tr>\n",
       "    <tr>\n",
       "      <th>119</th>\n",
       "      <td>1000000120</td>\n",
       "      <td>Seoul</td>\n",
       "      <td>2020-03-06</td>\n",
       "    </tr>\n",
       "    <tr>\n",
       "      <th>155</th>\n",
       "      <td>1000000156</td>\n",
       "      <td>Seoul</td>\n",
       "      <td>2020-03-09</td>\n",
       "    </tr>\n",
       "    <tr>\n",
       "      <th>201</th>\n",
       "      <td>1000000202</td>\n",
       "      <td>Seoul</td>\n",
       "      <td>2020-03-10</td>\n",
       "    </tr>\n",
       "    <tr>\n",
       "      <th>219</th>\n",
       "      <td>1000000220</td>\n",
       "      <td>Seoul</td>\n",
       "      <td>2020-03-11</td>\n",
       "    </tr>\n",
       "    <tr>\n",
       "      <th>230</th>\n",
       "      <td>1000000231</td>\n",
       "      <td>Seoul</td>\n",
       "      <td>2020-03-12</td>\n",
       "    </tr>\n",
       "    <tr>\n",
       "      <th>239</th>\n",
       "      <td>1000000240</td>\n",
       "      <td>Seoul</td>\n",
       "      <td>2020-03-13</td>\n",
       "    </tr>\n",
       "    <tr>\n",
       "      <th>247</th>\n",
       "      <td>1000000248</td>\n",
       "      <td>Seoul</td>\n",
       "      <td>2020-03-14</td>\n",
       "    </tr>\n",
       "    <tr>\n",
       "      <th>253</th>\n",
       "      <td>1000000254</td>\n",
       "      <td>Seoul</td>\n",
       "      <td>2020-03-15</td>\n",
       "    </tr>\n",
       "    <tr>\n",
       "      <th>266</th>\n",
       "      <td>1000000267</td>\n",
       "      <td>Seoul</td>\n",
       "      <td>2020-03-16</td>\n",
       "    </tr>\n",
       "    <tr>\n",
       "      <th>270</th>\n",
       "      <td>1000000271</td>\n",
       "      <td>Seoul</td>\n",
       "      <td>2020-03-17</td>\n",
       "    </tr>\n",
       "    <tr>\n",
       "      <th>281</th>\n",
       "      <td>1000000282</td>\n",
       "      <td>Seoul</td>\n",
       "      <td>2020-03-18</td>\n",
       "    </tr>\n",
       "    <tr>\n",
       "      <th>298</th>\n",
       "      <td>1000000299</td>\n",
       "      <td>Seoul</td>\n",
       "      <td>2020-03-19</td>\n",
       "    </tr>\n",
       "    <tr>\n",
       "      <th>405</th>\n",
       "      <td>1200000038</td>\n",
       "      <td>Daegu</td>\n",
       "      <td>2020-02-18</td>\n",
       "    </tr>\n",
       "    <tr>\n",
       "      <th>425</th>\n",
       "      <td>1200000065</td>\n",
       "      <td>Daegu</td>\n",
       "      <td>2020-02-19</td>\n",
       "    </tr>\n",
       "    <tr>\n",
       "      <th>443</th>\n",
       "      <td>1200000090</td>\n",
       "      <td>Daegu</td>\n",
       "      <td>2020-02-20</td>\n",
       "    </tr>\n",
       "    <tr>\n",
       "      <th>444</th>\n",
       "      <td>1200000114</td>\n",
       "      <td>Daegu</td>\n",
       "      <td>2020-02-21</td>\n",
       "    </tr>\n",
       "    <tr>\n",
       "      <th>445</th>\n",
       "      <td>1200000620</td>\n",
       "      <td>Daegu</td>\n",
       "      <td>2020-02-24</td>\n",
       "    </tr>\n",
       "    <tr>\n",
       "      <th>446</th>\n",
       "      <td>1200000901</td>\n",
       "      <td>Daegu</td>\n",
       "      <td>2020-02-25</td>\n",
       "    </tr>\n",
       "    <tr>\n",
       "      <th>447</th>\n",
       "      <td>1200001064</td>\n",
       "      <td>Daegu</td>\n",
       "      <td>2020-02-26</td>\n",
       "    </tr>\n",
       "    <tr>\n",
       "      <th>449</th>\n",
       "      <td>1200001443</td>\n",
       "      <td>Daegu</td>\n",
       "      <td>2020-02-27</td>\n",
       "    </tr>\n",
       "    <tr>\n",
       "      <th>452</th>\n",
       "      <td>1200002289</td>\n",
       "      <td>Daegu</td>\n",
       "      <td>2020-02-28</td>\n",
       "    </tr>\n",
       "    <tr>\n",
       "      <th>455</th>\n",
       "      <td>1200002936</td>\n",
       "      <td>Daegu</td>\n",
       "      <td>2020-02-29</td>\n",
       "    </tr>\n",
       "    <tr>\n",
       "      <th>460</th>\n",
       "      <td>1200004046</td>\n",
       "      <td>Daegu</td>\n",
       "      <td>2020-03-01</td>\n",
       "    </tr>\n",
       "    <tr>\n",
       "      <th>461</th>\n",
       "      <td>1200005767</td>\n",
       "      <td>Daegu</td>\n",
       "      <td>2020-03-05</td>\n",
       "    </tr>\n",
       "    <tr>\n",
       "      <th>462</th>\n",
       "      <td>1200007196</td>\n",
       "      <td>Daegu</td>\n",
       "      <td>2020-03-08</td>\n",
       "    </tr>\n",
       "  </tbody>\n",
       "</table>\n",
       "</div>"
      ],
      "text/plain": [
       "     patient_id province confirmed_date\n",
       "0    1000000001    Seoul     2020-01-23\n",
       "3    1000000004    Seoul     2020-01-30\n",
       "6    1000000007    Seoul     2020-01-31\n",
       "7    1000000008    Seoul     2020-02-02\n",
       "9    1000000010    Seoul     2020-02-05\n",
       "10   1000000011    Seoul     2020-02-06\n",
       "11   1000000012    Seoul     2020-02-07\n",
       "13   1000000014    Seoul     2020-02-16\n",
       "30   1000000031    Seoul     2020-02-22\n",
       "31   1000000032    Seoul     2020-02-23\n",
       "97   1000000098    Seoul     2020-03-02\n",
       "110  1000000111    Seoul     2020-03-04\n",
       "117  1000000118    Seoul     2020-03-07\n",
       "119  1000000120    Seoul     2020-03-06\n",
       "155  1000000156    Seoul     2020-03-09\n",
       "201  1000000202    Seoul     2020-03-10\n",
       "219  1000000220    Seoul     2020-03-11\n",
       "230  1000000231    Seoul     2020-03-12\n",
       "239  1000000240    Seoul     2020-03-13\n",
       "247  1000000248    Seoul     2020-03-14\n",
       "253  1000000254    Seoul     2020-03-15\n",
       "266  1000000267    Seoul     2020-03-16\n",
       "270  1000000271    Seoul     2020-03-17\n",
       "281  1000000282    Seoul     2020-03-18\n",
       "298  1000000299    Seoul     2020-03-19\n",
       "405  1200000038    Daegu     2020-02-18\n",
       "425  1200000065    Daegu     2020-02-19\n",
       "443  1200000090    Daegu     2020-02-20\n",
       "444  1200000114    Daegu     2020-02-21\n",
       "445  1200000620    Daegu     2020-02-24\n",
       "446  1200000901    Daegu     2020-02-25\n",
       "447  1200001064    Daegu     2020-02-26\n",
       "449  1200001443    Daegu     2020-02-27\n",
       "452  1200002289    Daegu     2020-02-28\n",
       "455  1200002936    Daegu     2020-02-29\n",
       "460  1200004046    Daegu     2020-03-01\n",
       "461  1200005767    Daegu     2020-03-05\n",
       "462  1200007196    Daegu     2020-03-08"
      ]
     },
     "execution_count": 42,
     "metadata": {},
     "output_type": "execute_result"
    }
   ],
   "source": [
    "dff.drop_duplicates(subset=[\"confirmed_date\"],keep=\"last\")[[\"patient_id\",\"province\",\"confirmed_date\"]]"
   ]
  },
  {
   "cell_type": "markdown",
   "metadata": {},
   "source": [
    "# 문제 3\n",
    "'auto-mpg.csv'에서 변수 [acceleration]의 경계값과 각 경계에 들어가는 데이터의 개수를 구하고, 구간 이름을 ['낮음','보통','높음']으로 하여 범주형 이산 변수로 변환하여라."
   ]
  },
  {
   "cell_type": "code",
   "execution_count": 48,
   "metadata": {},
   "outputs": [],
   "source": [
    "mpg = pd.read_csv(\"./auto-mpg.csv\")\n"
   ]
  },
  {
   "cell_type": "markdown",
   "metadata": {},
   "source": [
    "(1) 경계값과 각 경계에 들어가는 데이터의 개수 구하기"
   ]
  },
  {
   "cell_type": "code",
   "execution_count": 49,
   "metadata": {},
   "outputs": [],
   "source": [
    "count,bin_dividers=np.histogram(mpg[\"acceleration\"],3)"
   ]
  },
  {
   "cell_type": "code",
   "execution_count": 50,
   "metadata": {},
   "outputs": [
    {
     "name": "stdout",
     "output_type": "stream",
     "text": [
      "[ 96 267  35] [ 8.  13.6 19.2 24.8]\n"
     ]
    }
   ],
   "source": [
    "print(count, bin_dividers)"
   ]
  },
  {
   "cell_type": "markdown",
   "metadata": {},
   "source": [
    "(2) 범주형 이산변수로 변환"
   ]
  },
  {
   "cell_type": "code",
   "execution_count": 51,
   "metadata": {},
   "outputs": [],
   "source": [
    "bin_names=[\"낮음\",\"보통\",\"높음\"]\n",
    "mpg[\"acceleration\"]=pd.cut(mpg[\"acceleration\"],bins=bin_dividers,labels=bin_names,include_lowest=True)"
   ]
  },
  {
   "cell_type": "markdown",
   "metadata": {},
   "source": [
    "# 문제 4\n",
    "변수 displacement를 정규화 하여라. (2가지 방법 중에서 아무거나 사용)"
   ]
  },
  {
   "cell_type": "code",
   "execution_count": 52,
   "metadata": {},
   "outputs": [
    {
     "data": {
      "text/plain": [
       "0      307.0\n",
       "1      350.0\n",
       "2      318.0\n",
       "3      304.0\n",
       "4      302.0\n",
       "       ...  \n",
       "393    140.0\n",
       "394     97.0\n",
       "395    135.0\n",
       "396    120.0\n",
       "397    119.0\n",
       "Name: displacement, Length: 398, dtype: float64"
      ]
     },
     "execution_count": 52,
     "metadata": {},
     "output_type": "execute_result"
    }
   ],
   "source": []
  },
  {
   "cell_type": "markdown",
   "metadata": {},
   "source": [
    "#### 방법(a) : 각 열의 데이터를 해당 열의 최대값(이의 절대값)으로 나누는 방법."
   ]
  },
  {
   "cell_type": "code",
   "execution_count": 54,
   "metadata": {},
   "outputs": [
    {
     "data": {
      "text/plain": [
       "0      0.674725\n",
       "1      0.769231\n",
       "2      0.698901\n",
       "3      0.668132\n",
       "4      0.663736\n",
       "         ...   \n",
       "393    0.307692\n",
       "394    0.213187\n",
       "395    0.296703\n",
       "396    0.263736\n",
       "397    0.261538\n",
       "Name: displacement, Length: 398, dtype: float64"
      ]
     },
     "execution_count": 54,
     "metadata": {},
     "output_type": "execute_result"
    }
   ],
   "source": [
    "mpg_max=mpg[\"displacement\"].max()\n",
    "mpg[\"displacement\"]/mpg_max"
   ]
  },
  {
   "cell_type": "markdown",
   "metadata": {},
   "source": [
    "#### 방법(b) : 각 열의 데이터 중에서 최대값과 최소값을 뺀 값으로 나누는 방법"
   ]
  },
  {
   "cell_type": "code",
   "execution_count": 55,
   "metadata": {},
   "outputs": [
    {
     "data": {
      "text/plain": [
       "0      0.617571\n",
       "1      0.728682\n",
       "2      0.645995\n",
       "3      0.609819\n",
       "4      0.604651\n",
       "         ...   \n",
       "393    0.186047\n",
       "394    0.074935\n",
       "395    0.173127\n",
       "396    0.134367\n",
       "397    0.131783\n",
       "Name: displacement, Length: 398, dtype: float64"
      ]
     },
     "execution_count": 55,
     "metadata": {},
     "output_type": "execute_result"
    }
   ],
   "source": [
    "mpg_min=mpg[\"displacement\"].min()\n",
    "mpg_max_min=mpg_max-mpg_min\n",
    "(mpg[\"displacement\"]-mpg_min)/mpg_max_min"
   ]
  },
  {
   "cell_type": "markdown",
   "metadata": {},
   "source": [
    "# 문제 5\n",
    "2020년 4월 8일부터 평일인 날로 Timestamp의 배열을 20개 만들어 보세요. "
   ]
  },
  {
   "cell_type": "code",
   "execution_count": 57,
   "metadata": {},
   "outputs": [
    {
     "data": {
      "text/plain": [
       "DatetimeIndex(['2020-04-08', '2020-04-09', '2020-04-10', '2020-04-13',\n",
       "               '2020-04-14', '2020-04-15', '2020-04-16', '2020-04-17',\n",
       "               '2020-04-20', '2020-04-21', '2020-04-22', '2020-04-23',\n",
       "               '2020-04-24', '2020-04-27', '2020-04-28', '2020-04-29',\n",
       "               '2020-04-30', '2020-05-01', '2020-05-04', '2020-05-05'],\n",
       "              dtype='datetime64[ns]', freq='B')"
      ]
     },
     "execution_count": 57,
     "metadata": {},
     "output_type": "execute_result"
    }
   ],
   "source": [
    "pd.date_range(start=\"2020-04-08\",end=None, periods=20,freq=\"B\")"
   ]
  },
  {
   "cell_type": "code",
   "execution_count": null,
   "metadata": {},
   "outputs": [],
   "source": []
  }
 ],
 "metadata": {
  "kernelspec": {
   "display_name": "Python 3",
   "language": "python",
   "name": "python3"
  },
  "language_info": {
   "codemirror_mode": {
    "name": "ipython",
    "version": 3
   },
   "file_extension": ".py",
   "mimetype": "text/x-python",
   "name": "python",
   "nbconvert_exporter": "python",
   "pygments_lexer": "ipython3",
   "version": "3.7.6"
  }
 },
 "nbformat": 4,
 "nbformat_minor": 2
}
